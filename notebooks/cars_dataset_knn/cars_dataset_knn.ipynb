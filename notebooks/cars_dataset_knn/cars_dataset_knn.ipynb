{
 "cells": [
  {
   "cell_type": "markdown",
   "metadata": {},
   "source": [
    "# Exploring a car data set using k-nearest neighbours"
   ]
  },
  {
   "cell_type": "markdown",
   "metadata": {
    "collapsed": true
   },
   "source": [
    "<p><img style=\"float: right; margin:5px 20px 5px 1px; width:30%\" src=\"http://bestride.com/wp-content/uploads/2015/06/2012_mazda_mx-5-miata_convertible_grand-touring_fq_oem_4_2048.jpg\"></p>\n",
    "We explore working with a data set which contains information on variou cars. For each car, there is information about the technical aspects of the vehicle such as motors's displacement, the weight of the car, the miles per gallon, how fast it accelerates, and more. We plan to explore this data set using `KNearestNeighbor`."
   ]
  },
  {
   "cell_type": "markdown",
   "metadata": {},
   "source": [
    "## Pre-processing"
   ]
  },
  {
   "cell_type": "code",
   "execution_count": 607,
   "metadata": {
    "collapsed": false
   },
   "outputs": [],
   "source": [
    "import pandas as pd\n",
    "import numpy as np\n",
    "import matplotlib.pyplot as plt\n",
    "from sklearn.neighbors import KNeighborsRegressor\n",
    "from sklearn.metrics import mean_squared_error\n",
    "import matplotlib.pyplot as plt\n",
    "%matplotlib inline"
   ]
  },
  {
   "cell_type": "code",
   "execution_count": 22,
   "metadata": {
    "collapsed": true
   },
   "outputs": [],
   "source": [
    "cars = pd.read_csv(\"imports-85.data\", header=None)\n",
    "cars.columns = cnames"
   ]
  },
  {
   "cell_type": "code",
   "execution_count": 23,
   "metadata": {
    "collapsed": true
   },
   "outputs": [],
   "source": [
    "#Get names of columns\n",
    "\n",
    "cnames = [\"symboling\", \"normalized_losses\", \"make\", \"fuel_type\", \"aspiration\",\n",
    "         \"num_of_doors\", \"body_style\", \"drive_wheels\", \"engine_location\", \"wheel_base\",\n",
    "         \"length\", \"width\", \"height\", \"curb_weight\", \"engine_type\", \"num_of_cylinders\",\n",
    "         \"engine_size\", \"fuel_system\", \"bore\", \"stroke\", \"compression_ratio\",\n",
    "         \"horsepower\", \"peak_rpm\", \"city_mpg\", \"highway_mpg\", \"price\"]"
   ]
  },
  {
   "cell_type": "code",
   "execution_count": 24,
   "metadata": {
    "collapsed": false
   },
   "outputs": [
    {
     "data": {
      "text/html": [
       "<div>\n",
       "<style scoped>\n",
       "    .dataframe tbody tr th:only-of-type {\n",
       "        vertical-align: middle;\n",
       "    }\n",
       "\n",
       "    .dataframe tbody tr th {\n",
       "        vertical-align: top;\n",
       "    }\n",
       "\n",
       "    .dataframe thead th {\n",
       "        text-align: right;\n",
       "    }\n",
       "</style>\n",
       "<table border=\"1\" class=\"dataframe\">\n",
       "  <thead>\n",
       "    <tr style=\"text-align: right;\">\n",
       "      <th></th>\n",
       "      <th>symboling</th>\n",
       "      <th>normalized_losses</th>\n",
       "      <th>make</th>\n",
       "      <th>fuel_type</th>\n",
       "      <th>aspiration</th>\n",
       "      <th>num_of_doors</th>\n",
       "      <th>body_style</th>\n",
       "      <th>drive_wheels</th>\n",
       "      <th>engine_location</th>\n",
       "      <th>wheel_base</th>\n",
       "      <th>...</th>\n",
       "      <th>engine_size</th>\n",
       "      <th>fuel_system</th>\n",
       "      <th>bore</th>\n",
       "      <th>stroke</th>\n",
       "      <th>compression_ratio</th>\n",
       "      <th>horsepower</th>\n",
       "      <th>peak_rpm</th>\n",
       "      <th>city_mpg</th>\n",
       "      <th>highway_mpg</th>\n",
       "      <th>price</th>\n",
       "    </tr>\n",
       "  </thead>\n",
       "  <tbody>\n",
       "    <tr>\n",
       "      <th>0</th>\n",
       "      <td>3</td>\n",
       "      <td>?</td>\n",
       "      <td>alfa-romero</td>\n",
       "      <td>gas</td>\n",
       "      <td>std</td>\n",
       "      <td>two</td>\n",
       "      <td>convertible</td>\n",
       "      <td>rwd</td>\n",
       "      <td>front</td>\n",
       "      <td>88.6</td>\n",
       "      <td>...</td>\n",
       "      <td>130</td>\n",
       "      <td>mpfi</td>\n",
       "      <td>3.47</td>\n",
       "      <td>2.68</td>\n",
       "      <td>9.0</td>\n",
       "      <td>111</td>\n",
       "      <td>5000</td>\n",
       "      <td>21</td>\n",
       "      <td>27</td>\n",
       "      <td>13495</td>\n",
       "    </tr>\n",
       "    <tr>\n",
       "      <th>1</th>\n",
       "      <td>3</td>\n",
       "      <td>?</td>\n",
       "      <td>alfa-romero</td>\n",
       "      <td>gas</td>\n",
       "      <td>std</td>\n",
       "      <td>two</td>\n",
       "      <td>convertible</td>\n",
       "      <td>rwd</td>\n",
       "      <td>front</td>\n",
       "      <td>88.6</td>\n",
       "      <td>...</td>\n",
       "      <td>130</td>\n",
       "      <td>mpfi</td>\n",
       "      <td>3.47</td>\n",
       "      <td>2.68</td>\n",
       "      <td>9.0</td>\n",
       "      <td>111</td>\n",
       "      <td>5000</td>\n",
       "      <td>21</td>\n",
       "      <td>27</td>\n",
       "      <td>16500</td>\n",
       "    </tr>\n",
       "    <tr>\n",
       "      <th>2</th>\n",
       "      <td>1</td>\n",
       "      <td>?</td>\n",
       "      <td>alfa-romero</td>\n",
       "      <td>gas</td>\n",
       "      <td>std</td>\n",
       "      <td>two</td>\n",
       "      <td>hatchback</td>\n",
       "      <td>rwd</td>\n",
       "      <td>front</td>\n",
       "      <td>94.5</td>\n",
       "      <td>...</td>\n",
       "      <td>152</td>\n",
       "      <td>mpfi</td>\n",
       "      <td>2.68</td>\n",
       "      <td>3.47</td>\n",
       "      <td>9.0</td>\n",
       "      <td>154</td>\n",
       "      <td>5000</td>\n",
       "      <td>19</td>\n",
       "      <td>26</td>\n",
       "      <td>16500</td>\n",
       "    </tr>\n",
       "    <tr>\n",
       "      <th>3</th>\n",
       "      <td>2</td>\n",
       "      <td>164</td>\n",
       "      <td>audi</td>\n",
       "      <td>gas</td>\n",
       "      <td>std</td>\n",
       "      <td>four</td>\n",
       "      <td>sedan</td>\n",
       "      <td>fwd</td>\n",
       "      <td>front</td>\n",
       "      <td>99.8</td>\n",
       "      <td>...</td>\n",
       "      <td>109</td>\n",
       "      <td>mpfi</td>\n",
       "      <td>3.19</td>\n",
       "      <td>3.40</td>\n",
       "      <td>10.0</td>\n",
       "      <td>102</td>\n",
       "      <td>5500</td>\n",
       "      <td>24</td>\n",
       "      <td>30</td>\n",
       "      <td>13950</td>\n",
       "    </tr>\n",
       "    <tr>\n",
       "      <th>4</th>\n",
       "      <td>2</td>\n",
       "      <td>164</td>\n",
       "      <td>audi</td>\n",
       "      <td>gas</td>\n",
       "      <td>std</td>\n",
       "      <td>four</td>\n",
       "      <td>sedan</td>\n",
       "      <td>4wd</td>\n",
       "      <td>front</td>\n",
       "      <td>99.4</td>\n",
       "      <td>...</td>\n",
       "      <td>136</td>\n",
       "      <td>mpfi</td>\n",
       "      <td>3.19</td>\n",
       "      <td>3.40</td>\n",
       "      <td>8.0</td>\n",
       "      <td>115</td>\n",
       "      <td>5500</td>\n",
       "      <td>18</td>\n",
       "      <td>22</td>\n",
       "      <td>17450</td>\n",
       "    </tr>\n",
       "  </tbody>\n",
       "</table>\n",
       "<p>5 rows × 26 columns</p>\n",
       "</div>"
      ],
      "text/plain": [
       "   symboling normalized_losses         make fuel_type aspiration num_of_doors  \\\n",
       "0          3                 ?  alfa-romero       gas        std          two   \n",
       "1          3                 ?  alfa-romero       gas        std          two   \n",
       "2          1                 ?  alfa-romero       gas        std          two   \n",
       "3          2               164         audi       gas        std         four   \n",
       "4          2               164         audi       gas        std         four   \n",
       "\n",
       "    body_style drive_wheels engine_location  wheel_base  ...    engine_size  \\\n",
       "0  convertible          rwd           front        88.6  ...            130   \n",
       "1  convertible          rwd           front        88.6  ...            130   \n",
       "2    hatchback          rwd           front        94.5  ...            152   \n",
       "3        sedan          fwd           front        99.8  ...            109   \n",
       "4        sedan          4wd           front        99.4  ...            136   \n",
       "\n",
       "   fuel_system  bore  stroke compression_ratio horsepower  peak_rpm city_mpg  \\\n",
       "0         mpfi  3.47    2.68               9.0        111      5000       21   \n",
       "1         mpfi  3.47    2.68               9.0        111      5000       21   \n",
       "2         mpfi  2.68    3.47               9.0        154      5000       19   \n",
       "3         mpfi  3.19    3.40              10.0        102      5500       24   \n",
       "4         mpfi  3.19    3.40               8.0        115      5500       18   \n",
       "\n",
       "  highway_mpg  price  \n",
       "0          27  13495  \n",
       "1          27  16500  \n",
       "2          26  16500  \n",
       "3          30  13950  \n",
       "4          22  17450  \n",
       "\n",
       "[5 rows x 26 columns]"
      ]
     },
     "execution_count": 24,
     "metadata": {},
     "output_type": "execute_result"
    }
   ],
   "source": [
    "cars.head()"
   ]
  },
  {
   "cell_type": "markdown",
   "metadata": {},
   "source": [
    "A handful of the columns such as `normalized_losses`, `wheel_base`, etc., are numeric, while others are not. The target column is `price` and is also numeric. Some have also not been rightly identified by pandas as numeric columns."
   ]
  },
  {
   "cell_type": "code",
   "execution_count": 25,
   "metadata": {
    "collapsed": false
   },
   "outputs": [
    {
     "name": "stdout",
     "output_type": "stream",
     "text": [
      "<class 'pandas.core.frame.DataFrame'>\n",
      "RangeIndex: 205 entries, 0 to 204\n",
      "Data columns (total 26 columns):\n",
      "symboling            205 non-null int64\n",
      "normalized_losses    205 non-null object\n",
      "make                 205 non-null object\n",
      "fuel_type            205 non-null object\n",
      "aspiration           205 non-null object\n",
      "num_of_doors         205 non-null object\n",
      "body_style           205 non-null object\n",
      "drive_wheels         205 non-null object\n",
      "engine_location      205 non-null object\n",
      "wheel_base           205 non-null float64\n",
      "length               205 non-null float64\n",
      "width                205 non-null float64\n",
      "height               205 non-null float64\n",
      "curb_weight          205 non-null int64\n",
      "engine_type          205 non-null object\n",
      "num_of_cylinders     205 non-null object\n",
      "engine_size          205 non-null int64\n",
      "fuel_system          205 non-null object\n",
      "bore                 205 non-null object\n",
      "stroke               205 non-null object\n",
      "compression_ratio    205 non-null float64\n",
      "horsepower           205 non-null object\n",
      "peak_rpm             205 non-null object\n",
      "city_mpg             205 non-null int64\n",
      "highway_mpg          205 non-null int64\n",
      "price                205 non-null object\n",
      "dtypes: float64(5), int64(5), object(16)\n",
      "memory usage: 41.7+ KB\n"
     ]
    }
   ],
   "source": [
    "cars.info()"
   ]
  },
  {
   "cell_type": "code",
   "execution_count": 111,
   "metadata": {
    "collapsed": false
   },
   "outputs": [],
   "source": [
    "#Replace all \"?\" with np.nan\n",
    "cars = cars.replace(\"?\",np.nan)"
   ]
  },
  {
   "cell_type": "code",
   "execution_count": 112,
   "metadata": {
    "collapsed": false
   },
   "outputs": [],
   "source": [
    "cars_numeric = cars[[\"symboling\", \"normalized_losses\", \"num_of_doors\", \"wheel_base\", \"length\", \"width\", \"height\", \"curb_weight\", \"num_of_cylinders\",\n",
    "    \"engine_size\", \"bore\", \"stroke\", \"compression_ratio\", \"horsepower\", \"peak_rpm\", \"city_mpg\", \"highway_mpg\", \"price\"]].copy()"
   ]
  },
  {
   "cell_type": "code",
   "execution_count": 61,
   "metadata": {
    "collapsed": false
   },
   "outputs": [
    {
     "data": {
      "text/html": [
       "<div>\n",
       "<style scoped>\n",
       "    .dataframe tbody tr th:only-of-type {\n",
       "        vertical-align: middle;\n",
       "    }\n",
       "\n",
       "    .dataframe tbody tr th {\n",
       "        vertical-align: top;\n",
       "    }\n",
       "\n",
       "    .dataframe thead th {\n",
       "        text-align: right;\n",
       "    }\n",
       "</style>\n",
       "<table border=\"1\" class=\"dataframe\">\n",
       "  <thead>\n",
       "    <tr style=\"text-align: right;\">\n",
       "      <th></th>\n",
       "      <th>symboling</th>\n",
       "      <th>normalized_losses</th>\n",
       "      <th>num_of_doors</th>\n",
       "      <th>wheel_base</th>\n",
       "      <th>length</th>\n",
       "      <th>width</th>\n",
       "      <th>height</th>\n",
       "      <th>curb_weight</th>\n",
       "      <th>num_of_cylinders</th>\n",
       "      <th>engine_size</th>\n",
       "      <th>bore</th>\n",
       "      <th>stroke</th>\n",
       "      <th>compression_ratio</th>\n",
       "      <th>horsepower</th>\n",
       "      <th>peak_rpm</th>\n",
       "      <th>city_mpg</th>\n",
       "      <th>highway_mpg</th>\n",
       "      <th>price</th>\n",
       "    </tr>\n",
       "  </thead>\n",
       "  <tbody>\n",
       "    <tr>\n",
       "      <th>0</th>\n",
       "      <td>3</td>\n",
       "      <td>NaN</td>\n",
       "      <td>two</td>\n",
       "      <td>88.6</td>\n",
       "      <td>168.8</td>\n",
       "      <td>64.1</td>\n",
       "      <td>48.8</td>\n",
       "      <td>2548</td>\n",
       "      <td>four</td>\n",
       "      <td>130</td>\n",
       "      <td>3.47</td>\n",
       "      <td>2.68</td>\n",
       "      <td>9.0</td>\n",
       "      <td>111</td>\n",
       "      <td>5000</td>\n",
       "      <td>21</td>\n",
       "      <td>27</td>\n",
       "      <td>13495</td>\n",
       "    </tr>\n",
       "    <tr>\n",
       "      <th>1</th>\n",
       "      <td>3</td>\n",
       "      <td>NaN</td>\n",
       "      <td>two</td>\n",
       "      <td>88.6</td>\n",
       "      <td>168.8</td>\n",
       "      <td>64.1</td>\n",
       "      <td>48.8</td>\n",
       "      <td>2548</td>\n",
       "      <td>four</td>\n",
       "      <td>130</td>\n",
       "      <td>3.47</td>\n",
       "      <td>2.68</td>\n",
       "      <td>9.0</td>\n",
       "      <td>111</td>\n",
       "      <td>5000</td>\n",
       "      <td>21</td>\n",
       "      <td>27</td>\n",
       "      <td>16500</td>\n",
       "    </tr>\n",
       "    <tr>\n",
       "      <th>2</th>\n",
       "      <td>1</td>\n",
       "      <td>NaN</td>\n",
       "      <td>two</td>\n",
       "      <td>94.5</td>\n",
       "      <td>171.2</td>\n",
       "      <td>65.5</td>\n",
       "      <td>52.4</td>\n",
       "      <td>2823</td>\n",
       "      <td>six</td>\n",
       "      <td>152</td>\n",
       "      <td>2.68</td>\n",
       "      <td>3.47</td>\n",
       "      <td>9.0</td>\n",
       "      <td>154</td>\n",
       "      <td>5000</td>\n",
       "      <td>19</td>\n",
       "      <td>26</td>\n",
       "      <td>16500</td>\n",
       "    </tr>\n",
       "    <tr>\n",
       "      <th>3</th>\n",
       "      <td>2</td>\n",
       "      <td>164</td>\n",
       "      <td>four</td>\n",
       "      <td>99.8</td>\n",
       "      <td>176.6</td>\n",
       "      <td>66.2</td>\n",
       "      <td>54.3</td>\n",
       "      <td>2337</td>\n",
       "      <td>four</td>\n",
       "      <td>109</td>\n",
       "      <td>3.19</td>\n",
       "      <td>3.40</td>\n",
       "      <td>10.0</td>\n",
       "      <td>102</td>\n",
       "      <td>5500</td>\n",
       "      <td>24</td>\n",
       "      <td>30</td>\n",
       "      <td>13950</td>\n",
       "    </tr>\n",
       "    <tr>\n",
       "      <th>4</th>\n",
       "      <td>2</td>\n",
       "      <td>164</td>\n",
       "      <td>four</td>\n",
       "      <td>99.4</td>\n",
       "      <td>176.6</td>\n",
       "      <td>66.4</td>\n",
       "      <td>54.3</td>\n",
       "      <td>2824</td>\n",
       "      <td>five</td>\n",
       "      <td>136</td>\n",
       "      <td>3.19</td>\n",
       "      <td>3.40</td>\n",
       "      <td>8.0</td>\n",
       "      <td>115</td>\n",
       "      <td>5500</td>\n",
       "      <td>18</td>\n",
       "      <td>22</td>\n",
       "      <td>17450</td>\n",
       "    </tr>\n",
       "  </tbody>\n",
       "</table>\n",
       "</div>"
      ],
      "text/plain": [
       "   symboling normalized_losses num_of_doors  wheel_base  length  width  \\\n",
       "0          3               NaN          two        88.6   168.8   64.1   \n",
       "1          3               NaN          two        88.6   168.8   64.1   \n",
       "2          1               NaN          two        94.5   171.2   65.5   \n",
       "3          2               164         four        99.8   176.6   66.2   \n",
       "4          2               164         four        99.4   176.6   66.4   \n",
       "\n",
       "   height  curb_weight num_of_cylinders  engine_size  bore stroke  \\\n",
       "0    48.8         2548             four          130  3.47   2.68   \n",
       "1    48.8         2548             four          130  3.47   2.68   \n",
       "2    52.4         2823              six          152  2.68   3.47   \n",
       "3    54.3         2337             four          109  3.19   3.40   \n",
       "4    54.3         2824             five          136  3.19   3.40   \n",
       "\n",
       "   compression_ratio horsepower peak_rpm  city_mpg  highway_mpg  price  \n",
       "0                9.0        111     5000        21           27  13495  \n",
       "1                9.0        111     5000        21           27  16500  \n",
       "2                9.0        154     5000        19           26  16500  \n",
       "3               10.0        102     5500        24           30  13950  \n",
       "4                8.0        115     5500        18           22  17450  "
      ]
     },
     "execution_count": 61,
     "metadata": {},
     "output_type": "execute_result"
    }
   ],
   "source": [
    "cars_numeric.head()"
   ]
  },
  {
   "cell_type": "code",
   "execution_count": 115,
   "metadata": {
    "collapsed": false
   },
   "outputs": [],
   "source": [
    "#Replace the number of doors with numeric values\n",
    "cars_numeric[\"num_of_doors\"].unique()\n",
    "mapvar = {\"four\": 4, \"two\": 2}"
   ]
  },
  {
   "cell_type": "code",
   "execution_count": 116,
   "metadata": {
    "collapsed": false
   },
   "outputs": [],
   "source": [
    "cars_numeric[\"num_of_doors\"] = cars_numeric[\"num_of_doors\"].map(mapvar)"
   ]
  },
  {
   "cell_type": "code",
   "execution_count": 117,
   "metadata": {
    "collapsed": false
   },
   "outputs": [],
   "source": [
    "#Replace the number of cylinders with numeric values\n",
    "cars_numeric[\"num_of_cylinders\"].unique()\n",
    "mapvarcyl = {\"four\": 4, \"six\": 6, \"five\": 5, \"three\":3, \"twelve\": 12, \"two\": 2, \"eight\": 8}\n",
    "cars_numeric[\"num_of_cylinders\"] = cars_numeric[\"num_of_cylinders\"].map(mapvarcyl)"
   ]
  },
  {
   "cell_type": "code",
   "execution_count": 118,
   "metadata": {
    "collapsed": false
   },
   "outputs": [
    {
     "data": {
      "text/html": [
       "<div>\n",
       "<style scoped>\n",
       "    .dataframe tbody tr th:only-of-type {\n",
       "        vertical-align: middle;\n",
       "    }\n",
       "\n",
       "    .dataframe tbody tr th {\n",
       "        vertical-align: top;\n",
       "    }\n",
       "\n",
       "    .dataframe thead th {\n",
       "        text-align: right;\n",
       "    }\n",
       "</style>\n",
       "<table border=\"1\" class=\"dataframe\">\n",
       "  <thead>\n",
       "    <tr style=\"text-align: right;\">\n",
       "      <th></th>\n",
       "      <th>symboling</th>\n",
       "      <th>normalized_losses</th>\n",
       "      <th>num_of_doors</th>\n",
       "      <th>wheel_base</th>\n",
       "      <th>length</th>\n",
       "      <th>width</th>\n",
       "      <th>height</th>\n",
       "      <th>curb_weight</th>\n",
       "      <th>num_of_cylinders</th>\n",
       "      <th>engine_size</th>\n",
       "      <th>bore</th>\n",
       "      <th>stroke</th>\n",
       "      <th>compression_ratio</th>\n",
       "      <th>horsepower</th>\n",
       "      <th>peak_rpm</th>\n",
       "      <th>city_mpg</th>\n",
       "      <th>highway_mpg</th>\n",
       "      <th>price</th>\n",
       "    </tr>\n",
       "  </thead>\n",
       "  <tbody>\n",
       "    <tr>\n",
       "      <th>0</th>\n",
       "      <td>3</td>\n",
       "      <td>NaN</td>\n",
       "      <td>2.0</td>\n",
       "      <td>88.6</td>\n",
       "      <td>168.8</td>\n",
       "      <td>64.1</td>\n",
       "      <td>48.8</td>\n",
       "      <td>2548</td>\n",
       "      <td>4</td>\n",
       "      <td>130</td>\n",
       "      <td>3.47</td>\n",
       "      <td>2.68</td>\n",
       "      <td>9.0</td>\n",
       "      <td>111</td>\n",
       "      <td>5000</td>\n",
       "      <td>21</td>\n",
       "      <td>27</td>\n",
       "      <td>13495</td>\n",
       "    </tr>\n",
       "    <tr>\n",
       "      <th>1</th>\n",
       "      <td>3</td>\n",
       "      <td>NaN</td>\n",
       "      <td>2.0</td>\n",
       "      <td>88.6</td>\n",
       "      <td>168.8</td>\n",
       "      <td>64.1</td>\n",
       "      <td>48.8</td>\n",
       "      <td>2548</td>\n",
       "      <td>4</td>\n",
       "      <td>130</td>\n",
       "      <td>3.47</td>\n",
       "      <td>2.68</td>\n",
       "      <td>9.0</td>\n",
       "      <td>111</td>\n",
       "      <td>5000</td>\n",
       "      <td>21</td>\n",
       "      <td>27</td>\n",
       "      <td>16500</td>\n",
       "    </tr>\n",
       "    <tr>\n",
       "      <th>2</th>\n",
       "      <td>1</td>\n",
       "      <td>NaN</td>\n",
       "      <td>2.0</td>\n",
       "      <td>94.5</td>\n",
       "      <td>171.2</td>\n",
       "      <td>65.5</td>\n",
       "      <td>52.4</td>\n",
       "      <td>2823</td>\n",
       "      <td>6</td>\n",
       "      <td>152</td>\n",
       "      <td>2.68</td>\n",
       "      <td>3.47</td>\n",
       "      <td>9.0</td>\n",
       "      <td>154</td>\n",
       "      <td>5000</td>\n",
       "      <td>19</td>\n",
       "      <td>26</td>\n",
       "      <td>16500</td>\n",
       "    </tr>\n",
       "    <tr>\n",
       "      <th>3</th>\n",
       "      <td>2</td>\n",
       "      <td>164</td>\n",
       "      <td>4.0</td>\n",
       "      <td>99.8</td>\n",
       "      <td>176.6</td>\n",
       "      <td>66.2</td>\n",
       "      <td>54.3</td>\n",
       "      <td>2337</td>\n",
       "      <td>4</td>\n",
       "      <td>109</td>\n",
       "      <td>3.19</td>\n",
       "      <td>3.40</td>\n",
       "      <td>10.0</td>\n",
       "      <td>102</td>\n",
       "      <td>5500</td>\n",
       "      <td>24</td>\n",
       "      <td>30</td>\n",
       "      <td>13950</td>\n",
       "    </tr>\n",
       "    <tr>\n",
       "      <th>4</th>\n",
       "      <td>2</td>\n",
       "      <td>164</td>\n",
       "      <td>4.0</td>\n",
       "      <td>99.4</td>\n",
       "      <td>176.6</td>\n",
       "      <td>66.4</td>\n",
       "      <td>54.3</td>\n",
       "      <td>2824</td>\n",
       "      <td>5</td>\n",
       "      <td>136</td>\n",
       "      <td>3.19</td>\n",
       "      <td>3.40</td>\n",
       "      <td>8.0</td>\n",
       "      <td>115</td>\n",
       "      <td>5500</td>\n",
       "      <td>18</td>\n",
       "      <td>22</td>\n",
       "      <td>17450</td>\n",
       "    </tr>\n",
       "  </tbody>\n",
       "</table>\n",
       "</div>"
      ],
      "text/plain": [
       "   symboling normalized_losses  num_of_doors  wheel_base  length  width  \\\n",
       "0          3               NaN           2.0        88.6   168.8   64.1   \n",
       "1          3               NaN           2.0        88.6   168.8   64.1   \n",
       "2          1               NaN           2.0        94.5   171.2   65.5   \n",
       "3          2               164           4.0        99.8   176.6   66.2   \n",
       "4          2               164           4.0        99.4   176.6   66.4   \n",
       "\n",
       "   height  curb_weight  num_of_cylinders  engine_size  bore stroke  \\\n",
       "0    48.8         2548                 4          130  3.47   2.68   \n",
       "1    48.8         2548                 4          130  3.47   2.68   \n",
       "2    52.4         2823                 6          152  2.68   3.47   \n",
       "3    54.3         2337                 4          109  3.19   3.40   \n",
       "4    54.3         2824                 5          136  3.19   3.40   \n",
       "\n",
       "   compression_ratio horsepower peak_rpm  city_mpg  highway_mpg  price  \n",
       "0                9.0        111     5000        21           27  13495  \n",
       "1                9.0        111     5000        21           27  16500  \n",
       "2                9.0        154     5000        19           26  16500  \n",
       "3               10.0        102     5500        24           30  13950  \n",
       "4                8.0        115     5500        18           22  17450  "
      ]
     },
     "execution_count": 118,
     "metadata": {},
     "output_type": "execute_result"
    }
   ],
   "source": [
    "cars_numeric.head()"
   ]
  },
  {
   "cell_type": "code",
   "execution_count": 119,
   "metadata": {
    "collapsed": false
   },
   "outputs": [
    {
     "name": "stdout",
     "output_type": "stream",
     "text": [
      "<class 'pandas.core.frame.DataFrame'>\n",
      "RangeIndex: 205 entries, 0 to 204\n",
      "Data columns (total 18 columns):\n",
      "symboling            205 non-null int64\n",
      "normalized_losses    164 non-null object\n",
      "num_of_doors         203 non-null float64\n",
      "wheel_base           205 non-null float64\n",
      "length               205 non-null float64\n",
      "width                205 non-null float64\n",
      "height               205 non-null float64\n",
      "curb_weight          205 non-null int64\n",
      "num_of_cylinders     205 non-null int64\n",
      "engine_size          205 non-null int64\n",
      "bore                 201 non-null object\n",
      "stroke               201 non-null object\n",
      "compression_ratio    205 non-null float64\n",
      "horsepower           203 non-null object\n",
      "peak_rpm             203 non-null object\n",
      "city_mpg             205 non-null int64\n",
      "highway_mpg          205 non-null int64\n",
      "price                201 non-null object\n",
      "dtypes: float64(6), int64(6), object(6)\n",
      "memory usage: 28.9+ KB\n"
     ]
    }
   ],
   "source": [
    "cars_numeric.info()"
   ]
  },
  {
   "cell_type": "markdown",
   "metadata": {},
   "source": [
    "Some of the variables are still identified as objects by `pandas`. Now, we convert these into numeric types."
   ]
  },
  {
   "cell_type": "code",
   "execution_count": 120,
   "metadata": {
    "collapsed": false
   },
   "outputs": [],
   "source": [
    "cars_numeric[[\"normalized_losses\", \"bore\", \"stroke\", \"horsepower\", \"peak_rpm\",\n",
    "             \"price\"]] = cars_numeric[[\"normalized_losses\", \"bore\", \"stroke\", \"horsepower\", \"peak_rpm\",\n",
    "             \"price\"]].apply(lambda x: x.astype(float))"
   ]
  },
  {
   "cell_type": "code",
   "execution_count": 121,
   "metadata": {
    "collapsed": false
   },
   "outputs": [
    {
     "name": "stdout",
     "output_type": "stream",
     "text": [
      "<class 'pandas.core.frame.DataFrame'>\n",
      "RangeIndex: 205 entries, 0 to 204\n",
      "Data columns (total 18 columns):\n",
      "symboling            205 non-null int64\n",
      "normalized_losses    164 non-null float64\n",
      "num_of_doors         203 non-null float64\n",
      "wheel_base           205 non-null float64\n",
      "length               205 non-null float64\n",
      "width                205 non-null float64\n",
      "height               205 non-null float64\n",
      "curb_weight          205 non-null int64\n",
      "num_of_cylinders     205 non-null int64\n",
      "engine_size          205 non-null int64\n",
      "bore                 201 non-null float64\n",
      "stroke               201 non-null float64\n",
      "compression_ratio    205 non-null float64\n",
      "horsepower           203 non-null float64\n",
      "peak_rpm             203 non-null float64\n",
      "city_mpg             205 non-null int64\n",
      "highway_mpg          205 non-null int64\n",
      "price                201 non-null float64\n",
      "dtypes: float64(12), int64(6)\n",
      "memory usage: 28.9 KB\n"
     ]
    }
   ],
   "source": [
    "cars_numeric.info()"
   ]
  },
  {
   "cell_type": "code",
   "execution_count": 134,
   "metadata": {
    "collapsed": false
   },
   "outputs": [
    {
     "data": {
      "text/html": [
       "<div>\n",
       "<style scoped>\n",
       "    .dataframe tbody tr th:only-of-type {\n",
       "        vertical-align: middle;\n",
       "    }\n",
       "\n",
       "    .dataframe tbody tr th {\n",
       "        vertical-align: top;\n",
       "    }\n",
       "\n",
       "    .dataframe thead th {\n",
       "        text-align: right;\n",
       "    }\n",
       "</style>\n",
       "<table border=\"1\" class=\"dataframe\">\n",
       "  <thead>\n",
       "    <tr style=\"text-align: right;\">\n",
       "      <th></th>\n",
       "      <th>symboling</th>\n",
       "      <th>normalized_losses</th>\n",
       "      <th>num_of_doors</th>\n",
       "      <th>wheel_base</th>\n",
       "      <th>length</th>\n",
       "      <th>width</th>\n",
       "      <th>height</th>\n",
       "      <th>curb_weight</th>\n",
       "      <th>num_of_cylinders</th>\n",
       "      <th>engine_size</th>\n",
       "      <th>bore</th>\n",
       "      <th>stroke</th>\n",
       "      <th>compression_ratio</th>\n",
       "      <th>horsepower</th>\n",
       "      <th>peak_rpm</th>\n",
       "      <th>city_mpg</th>\n",
       "      <th>highway_mpg</th>\n",
       "      <th>price</th>\n",
       "    </tr>\n",
       "  </thead>\n",
       "  <tbody>\n",
       "    <tr>\n",
       "      <th>0</th>\n",
       "      <td>3</td>\n",
       "      <td>NaN</td>\n",
       "      <td>2.0</td>\n",
       "      <td>88.6</td>\n",
       "      <td>168.8</td>\n",
       "      <td>64.1</td>\n",
       "      <td>48.8</td>\n",
       "      <td>2548</td>\n",
       "      <td>4</td>\n",
       "      <td>130</td>\n",
       "      <td>3.47</td>\n",
       "      <td>2.68</td>\n",
       "      <td>9.0</td>\n",
       "      <td>111.0</td>\n",
       "      <td>5000.0</td>\n",
       "      <td>21</td>\n",
       "      <td>27</td>\n",
       "      <td>13495.0</td>\n",
       "    </tr>\n",
       "    <tr>\n",
       "      <th>1</th>\n",
       "      <td>3</td>\n",
       "      <td>NaN</td>\n",
       "      <td>2.0</td>\n",
       "      <td>88.6</td>\n",
       "      <td>168.8</td>\n",
       "      <td>64.1</td>\n",
       "      <td>48.8</td>\n",
       "      <td>2548</td>\n",
       "      <td>4</td>\n",
       "      <td>130</td>\n",
       "      <td>3.47</td>\n",
       "      <td>2.68</td>\n",
       "      <td>9.0</td>\n",
       "      <td>111.0</td>\n",
       "      <td>5000.0</td>\n",
       "      <td>21</td>\n",
       "      <td>27</td>\n",
       "      <td>16500.0</td>\n",
       "    </tr>\n",
       "    <tr>\n",
       "      <th>2</th>\n",
       "      <td>1</td>\n",
       "      <td>NaN</td>\n",
       "      <td>2.0</td>\n",
       "      <td>94.5</td>\n",
       "      <td>171.2</td>\n",
       "      <td>65.5</td>\n",
       "      <td>52.4</td>\n",
       "      <td>2823</td>\n",
       "      <td>6</td>\n",
       "      <td>152</td>\n",
       "      <td>2.68</td>\n",
       "      <td>3.47</td>\n",
       "      <td>9.0</td>\n",
       "      <td>154.0</td>\n",
       "      <td>5000.0</td>\n",
       "      <td>19</td>\n",
       "      <td>26</td>\n",
       "      <td>16500.0</td>\n",
       "    </tr>\n",
       "    <tr>\n",
       "      <th>3</th>\n",
       "      <td>2</td>\n",
       "      <td>164.0</td>\n",
       "      <td>4.0</td>\n",
       "      <td>99.8</td>\n",
       "      <td>176.6</td>\n",
       "      <td>66.2</td>\n",
       "      <td>54.3</td>\n",
       "      <td>2337</td>\n",
       "      <td>4</td>\n",
       "      <td>109</td>\n",
       "      <td>3.19</td>\n",
       "      <td>3.40</td>\n",
       "      <td>10.0</td>\n",
       "      <td>102.0</td>\n",
       "      <td>5500.0</td>\n",
       "      <td>24</td>\n",
       "      <td>30</td>\n",
       "      <td>13950.0</td>\n",
       "    </tr>\n",
       "    <tr>\n",
       "      <th>4</th>\n",
       "      <td>2</td>\n",
       "      <td>164.0</td>\n",
       "      <td>4.0</td>\n",
       "      <td>99.4</td>\n",
       "      <td>176.6</td>\n",
       "      <td>66.4</td>\n",
       "      <td>54.3</td>\n",
       "      <td>2824</td>\n",
       "      <td>5</td>\n",
       "      <td>136</td>\n",
       "      <td>3.19</td>\n",
       "      <td>3.40</td>\n",
       "      <td>8.0</td>\n",
       "      <td>115.0</td>\n",
       "      <td>5500.0</td>\n",
       "      <td>18</td>\n",
       "      <td>22</td>\n",
       "      <td>17450.0</td>\n",
       "    </tr>\n",
       "  </tbody>\n",
       "</table>\n",
       "</div>"
      ],
      "text/plain": [
       "   symboling  normalized_losses  num_of_doors  wheel_base  length  width  \\\n",
       "0          3                NaN           2.0        88.6   168.8   64.1   \n",
       "1          3                NaN           2.0        88.6   168.8   64.1   \n",
       "2          1                NaN           2.0        94.5   171.2   65.5   \n",
       "3          2              164.0           4.0        99.8   176.6   66.2   \n",
       "4          2              164.0           4.0        99.4   176.6   66.4   \n",
       "\n",
       "   height  curb_weight  num_of_cylinders  engine_size  bore  stroke  \\\n",
       "0    48.8         2548                 4          130  3.47    2.68   \n",
       "1    48.8         2548                 4          130  3.47    2.68   \n",
       "2    52.4         2823                 6          152  2.68    3.47   \n",
       "3    54.3         2337                 4          109  3.19    3.40   \n",
       "4    54.3         2824                 5          136  3.19    3.40   \n",
       "\n",
       "   compression_ratio  horsepower  peak_rpm  city_mpg  highway_mpg    price  \n",
       "0                9.0       111.0    5000.0        21           27  13495.0  \n",
       "1                9.0       111.0    5000.0        21           27  16500.0  \n",
       "2                9.0       154.0    5000.0        19           26  16500.0  \n",
       "3               10.0       102.0    5500.0        24           30  13950.0  \n",
       "4                8.0       115.0    5500.0        18           22  17450.0  "
      ]
     },
     "execution_count": 134,
     "metadata": {},
     "output_type": "execute_result"
    }
   ],
   "source": [
    "cars_numeric.head()"
   ]
  },
  {
   "cell_type": "markdown",
   "metadata": {},
   "source": [
    "Now, we have all features converted into numeric types. However, there are still missing values. We will fill all except `num_of_doors` with the mean values."
   ]
  },
  {
   "cell_type": "code",
   "execution_count": 143,
   "metadata": {
    "collapsed": false
   },
   "outputs": [],
   "source": [
    "mode_num_of_doors = cars_numeric[\"num_of_doors\"].mode().values[0]\n",
    "cars_numeric[\"num_of_doors\"] = cars_numeric[\"num_of_doors\"].fillna(value=mode_num_of_doors)"
   ]
  },
  {
   "cell_type": "code",
   "execution_count": 146,
   "metadata": {
    "collapsed": false
   },
   "outputs": [
    {
     "data": {
      "text/plain": [
       "symboling             0\n",
       "normalized_losses    41\n",
       "num_of_doors          0\n",
       "wheel_base            0\n",
       "length                0\n",
       "width                 0\n",
       "height                0\n",
       "curb_weight           0\n",
       "num_of_cylinders      0\n",
       "engine_size           0\n",
       "bore                  4\n",
       "stroke                4\n",
       "compression_ratio     0\n",
       "horsepower            2\n",
       "peak_rpm              2\n",
       "city_mpg              0\n",
       "highway_mpg           0\n",
       "price                 4\n",
       "dtype: int64"
      ]
     },
     "execution_count": 146,
     "metadata": {},
     "output_type": "execute_result"
    }
   ],
   "source": [
    "cars_numeric.isnull().sum()"
   ]
  },
  {
   "cell_type": "code",
   "execution_count": 147,
   "metadata": {
    "collapsed": false
   },
   "outputs": [],
   "source": [
    "mean_normalized_losses = cars_numeric[\"normalized_losses\"].mean()"
   ]
  },
  {
   "cell_type": "code",
   "execution_count": 148,
   "metadata": {
    "collapsed": false
   },
   "outputs": [],
   "source": [
    "cars_numeric[\"normalized_losses\"] = cars_numeric[\"normalized_losses\"].fillna(value=mean_normalized_losses)"
   ]
  },
  {
   "cell_type": "code",
   "execution_count": 149,
   "metadata": {
    "collapsed": false
   },
   "outputs": [
    {
     "data": {
      "text/plain": [
       "symboling            0\n",
       "normalized_losses    0\n",
       "num_of_doors         0\n",
       "wheel_base           0\n",
       "length               0\n",
       "width                0\n",
       "height               0\n",
       "curb_weight          0\n",
       "num_of_cylinders     0\n",
       "engine_size          0\n",
       "bore                 4\n",
       "stroke               4\n",
       "compression_ratio    0\n",
       "horsepower           2\n",
       "peak_rpm             2\n",
       "city_mpg             0\n",
       "highway_mpg          0\n",
       "price                4\n",
       "dtype: int64"
      ]
     },
     "execution_count": 149,
     "metadata": {},
     "output_type": "execute_result"
    }
   ],
   "source": [
    "cars_numeric.isnull().sum()"
   ]
  },
  {
   "cell_type": "code",
   "execution_count": 150,
   "metadata": {
    "collapsed": false
   },
   "outputs": [
    {
     "data": {
      "text/plain": [
       "Index(['symboling', 'normalized_losses', 'num_of_doors', 'wheel_base',\n",
       "       'length', 'width', 'height', 'curb_weight', 'num_of_cylinders',\n",
       "       'engine_size', 'bore', 'stroke', 'compression_ratio', 'horsepower',\n",
       "       'peak_rpm', 'city_mpg', 'highway_mpg', 'price'],\n",
       "      dtype='object')"
      ]
     },
     "execution_count": 150,
     "metadata": {},
     "output_type": "execute_result"
    }
   ],
   "source": [
    "cars_numeric.columns"
   ]
  },
  {
   "cell_type": "code",
   "execution_count": 151,
   "metadata": {
    "collapsed": false
   },
   "outputs": [],
   "source": [
    "cars_numeric[[\"bore\", \"stroke\", \"horsepower\", \"peak_rpm\", \"price\"]] = \\\n",
    "cars_numeric[[\"bore\", \"stroke\", \"horsepower\", \"peak_rpm\", \"price\"]].apply(lambda x: x.fillna(value=x.mean()))"
   ]
  },
  {
   "cell_type": "code",
   "execution_count": 152,
   "metadata": {
    "collapsed": false
   },
   "outputs": [
    {
     "data": {
      "text/plain": [
       "symboling            0\n",
       "normalized_losses    0\n",
       "num_of_doors         0\n",
       "wheel_base           0\n",
       "length               0\n",
       "width                0\n",
       "height               0\n",
       "curb_weight          0\n",
       "num_of_cylinders     0\n",
       "engine_size          0\n",
       "bore                 0\n",
       "stroke               0\n",
       "compression_ratio    0\n",
       "horsepower           0\n",
       "peak_rpm             0\n",
       "city_mpg             0\n",
       "highway_mpg          0\n",
       "price                0\n",
       "dtype: int64"
      ]
     },
     "execution_count": 152,
     "metadata": {},
     "output_type": "execute_result"
    }
   ],
   "source": [
    "cars_numeric.isnull().sum()"
   ]
  },
  {
   "cell_type": "markdown",
   "metadata": {},
   "source": [
    "Now, we have all missing values filled."
   ]
  },
  {
   "cell_type": "markdown",
   "metadata": {},
   "source": [
    "We normalize all columns so that all values range from 0 to 1. This is to prevent some variables having more weight than others in the analyses to follow."
   ]
  },
  {
   "cell_type": "code",
   "execution_count": 447,
   "metadata": {
    "collapsed": true
   },
   "outputs": [],
   "source": [
    "def normalize_df(df):\n",
    "    return (df - df.min()) / (df.max() - df.min())"
   ]
  },
  {
   "cell_type": "code",
   "execution_count": 448,
   "metadata": {
    "collapsed": false
   },
   "outputs": [
    {
     "data": {
      "text/html": [
       "<div>\n",
       "<style scoped>\n",
       "    .dataframe tbody tr th:only-of-type {\n",
       "        vertical-align: middle;\n",
       "    }\n",
       "\n",
       "    .dataframe tbody tr th {\n",
       "        vertical-align: top;\n",
       "    }\n",
       "\n",
       "    .dataframe thead th {\n",
       "        text-align: right;\n",
       "    }\n",
       "</style>\n",
       "<table border=\"1\" class=\"dataframe\">\n",
       "  <thead>\n",
       "    <tr style=\"text-align: right;\">\n",
       "      <th></th>\n",
       "      <th>symboling</th>\n",
       "      <th>normalized_losses</th>\n",
       "      <th>num_of_doors</th>\n",
       "      <th>wheel_base</th>\n",
       "      <th>length</th>\n",
       "      <th>width</th>\n",
       "      <th>height</th>\n",
       "      <th>curb_weight</th>\n",
       "      <th>num_of_cylinders</th>\n",
       "      <th>engine_size</th>\n",
       "      <th>bore</th>\n",
       "      <th>stroke</th>\n",
       "      <th>compression_ratio</th>\n",
       "      <th>horsepower</th>\n",
       "      <th>peak_rpm</th>\n",
       "      <th>city_mpg</th>\n",
       "      <th>highway_mpg</th>\n",
       "      <th>price</th>\n",
       "    </tr>\n",
       "  </thead>\n",
       "  <tbody>\n",
       "    <tr>\n",
       "      <th>0</th>\n",
       "      <td>1.0</td>\n",
       "      <td>0.298429</td>\n",
       "      <td>0.0</td>\n",
       "      <td>0.058309</td>\n",
       "      <td>0.413433</td>\n",
       "      <td>0.316667</td>\n",
       "      <td>0.083333</td>\n",
       "      <td>0.411171</td>\n",
       "      <td>0.2</td>\n",
       "      <td>0.260377</td>\n",
       "      <td>0.664286</td>\n",
       "      <td>0.290476</td>\n",
       "      <td>0.1250</td>\n",
       "      <td>0.262500</td>\n",
       "      <td>0.346939</td>\n",
       "      <td>0.222222</td>\n",
       "      <td>0.289474</td>\n",
       "      <td>0.207959</td>\n",
       "    </tr>\n",
       "    <tr>\n",
       "      <th>1</th>\n",
       "      <td>1.0</td>\n",
       "      <td>0.298429</td>\n",
       "      <td>0.0</td>\n",
       "      <td>0.058309</td>\n",
       "      <td>0.413433</td>\n",
       "      <td>0.316667</td>\n",
       "      <td>0.083333</td>\n",
       "      <td>0.411171</td>\n",
       "      <td>0.2</td>\n",
       "      <td>0.260377</td>\n",
       "      <td>0.664286</td>\n",
       "      <td>0.290476</td>\n",
       "      <td>0.1250</td>\n",
       "      <td>0.262500</td>\n",
       "      <td>0.346939</td>\n",
       "      <td>0.222222</td>\n",
       "      <td>0.289474</td>\n",
       "      <td>0.282558</td>\n",
       "    </tr>\n",
       "    <tr>\n",
       "      <th>2</th>\n",
       "      <td>0.6</td>\n",
       "      <td>0.298429</td>\n",
       "      <td>0.0</td>\n",
       "      <td>0.230321</td>\n",
       "      <td>0.449254</td>\n",
       "      <td>0.433333</td>\n",
       "      <td>0.383333</td>\n",
       "      <td>0.517843</td>\n",
       "      <td>0.4</td>\n",
       "      <td>0.343396</td>\n",
       "      <td>0.100000</td>\n",
       "      <td>0.666667</td>\n",
       "      <td>0.1250</td>\n",
       "      <td>0.441667</td>\n",
       "      <td>0.346939</td>\n",
       "      <td>0.166667</td>\n",
       "      <td>0.263158</td>\n",
       "      <td>0.282558</td>\n",
       "    </tr>\n",
       "    <tr>\n",
       "      <th>3</th>\n",
       "      <td>0.8</td>\n",
       "      <td>0.518325</td>\n",
       "      <td>1.0</td>\n",
       "      <td>0.384840</td>\n",
       "      <td>0.529851</td>\n",
       "      <td>0.491667</td>\n",
       "      <td>0.541667</td>\n",
       "      <td>0.329325</td>\n",
       "      <td>0.2</td>\n",
       "      <td>0.181132</td>\n",
       "      <td>0.464286</td>\n",
       "      <td>0.633333</td>\n",
       "      <td>0.1875</td>\n",
       "      <td>0.225000</td>\n",
       "      <td>0.551020</td>\n",
       "      <td>0.305556</td>\n",
       "      <td>0.368421</td>\n",
       "      <td>0.219254</td>\n",
       "    </tr>\n",
       "    <tr>\n",
       "      <th>4</th>\n",
       "      <td>0.8</td>\n",
       "      <td>0.518325</td>\n",
       "      <td>1.0</td>\n",
       "      <td>0.373178</td>\n",
       "      <td>0.529851</td>\n",
       "      <td>0.508333</td>\n",
       "      <td>0.541667</td>\n",
       "      <td>0.518231</td>\n",
       "      <td>0.3</td>\n",
       "      <td>0.283019</td>\n",
       "      <td>0.464286</td>\n",
       "      <td>0.633333</td>\n",
       "      <td>0.0625</td>\n",
       "      <td>0.279167</td>\n",
       "      <td>0.551020</td>\n",
       "      <td>0.138889</td>\n",
       "      <td>0.157895</td>\n",
       "      <td>0.306142</td>\n",
       "    </tr>\n",
       "  </tbody>\n",
       "</table>\n",
       "</div>"
      ],
      "text/plain": [
       "   symboling  normalized_losses  num_of_doors  wheel_base    length     width  \\\n",
       "0        1.0           0.298429           0.0    0.058309  0.413433  0.316667   \n",
       "1        1.0           0.298429           0.0    0.058309  0.413433  0.316667   \n",
       "2        0.6           0.298429           0.0    0.230321  0.449254  0.433333   \n",
       "3        0.8           0.518325           1.0    0.384840  0.529851  0.491667   \n",
       "4        0.8           0.518325           1.0    0.373178  0.529851  0.508333   \n",
       "\n",
       "     height  curb_weight  num_of_cylinders  engine_size      bore    stroke  \\\n",
       "0  0.083333     0.411171               0.2     0.260377  0.664286  0.290476   \n",
       "1  0.083333     0.411171               0.2     0.260377  0.664286  0.290476   \n",
       "2  0.383333     0.517843               0.4     0.343396  0.100000  0.666667   \n",
       "3  0.541667     0.329325               0.2     0.181132  0.464286  0.633333   \n",
       "4  0.541667     0.518231               0.3     0.283019  0.464286  0.633333   \n",
       "\n",
       "   compression_ratio  horsepower  peak_rpm  city_mpg  highway_mpg     price  \n",
       "0             0.1250    0.262500  0.346939  0.222222     0.289474  0.207959  \n",
       "1             0.1250    0.262500  0.346939  0.222222     0.289474  0.282558  \n",
       "2             0.1250    0.441667  0.346939  0.166667     0.263158  0.282558  \n",
       "3             0.1875    0.225000  0.551020  0.305556     0.368421  0.219254  \n",
       "4             0.0625    0.279167  0.551020  0.138889     0.157895  0.306142  "
      ]
     },
     "execution_count": 448,
     "metadata": {},
     "output_type": "execute_result"
    }
   ],
   "source": [
    "cars_numeric_normalized = normalize_df(cars_numeric)\n",
    "cars_numeric_normalized.head()"
   ]
  },
  {
   "cell_type": "markdown",
   "metadata": {},
   "source": [
    "## Modeling"
   ]
  },
  {
   "cell_type": "code",
   "execution_count": 479,
   "metadata": {
    "collapsed": true
   },
   "outputs": [],
   "source": [
    "def knn_train_test(df, features, target):\n",
    "    np.random.seed(0)\n",
    "    \n",
    "    #Obtain and shuffle indices\n",
    "    ind = df.index\n",
    "    shuffled_ind = np.random.permutation(ind)\n",
    "    split = int(0.7*len(shuffled_ind))\n",
    "    \n",
    "    #Split into test and training sets\n",
    "    train_df = df.iloc[shuffled_ind].iloc[:split]\n",
    "    test_df = df.iloc[shuffled_ind].iloc[split:]\n",
    "    \n",
    "    #Instantiate KNN class & make predictions\n",
    "    knn = KNeighborsRegressor()\n",
    "    knn.fit(normalize_df(train_df[features]), train_df[target])\n",
    "    \n",
    "    #Transform test set using details from training set\n",
    "    norm_test_df = (test_df - train_df.min()) / (train_df.max() - train_df.min())\n",
    "    predictions = knn.predict(norm_test_df[features])\n",
    "    \n",
    "    #Obtain metrics\n",
    "    mse = mean_squared_error(test_df[target], predictions)\n",
    "    rmse = mse ** (1/2)\n",
    "    \n",
    "    return rmse\n",
    "    "
   ]
  },
  {
   "cell_type": "markdown",
   "metadata": {},
   "source": [
    "We test, first, univariate models to see which feature performs best in achieving the best `rmse` score. The normalization is conducted inside the function."
   ]
  },
  {
   "cell_type": "code",
   "execution_count": 434,
   "metadata": {
    "collapsed": false
   },
   "outputs": [
    {
     "data": {
      "text/plain": [
       "Index(['symboling', 'normalized_losses', 'num_of_doors', 'wheel_base',\n",
       "       'length', 'width', 'height', 'curb_weight', 'num_of_cylinders',\n",
       "       'engine_size', 'bore', 'stroke', 'compression_ratio', 'horsepower',\n",
       "       'peak_rpm', 'city_mpg', 'highway_mpg', 'price'],\n",
       "      dtype='object')"
      ]
     },
     "execution_count": 434,
     "metadata": {},
     "output_type": "execute_result"
    }
   ],
   "source": [
    "cars_numeric_normalized.columns"
   ]
  },
  {
   "cell_type": "code",
   "execution_count": 437,
   "metadata": {
    "collapsed": false
   },
   "outputs": [],
   "source": [
    "# features = [\"symboling\"]\n",
    "target = \"price\"\n",
    "rmse_values_wok = list()\n",
    "rmse = 0\n",
    "for features in cars_numeric.columns[:-1]:\n",
    "    rmse = knn_train_test(cars_numeric, [features], target)\n",
    "    rmse_values_wok+=[(features, rmse)]"
   ]
  },
  {
   "cell_type": "code",
   "execution_count": 439,
   "metadata": {
    "collapsed": false
   },
   "outputs": [
    {
     "data": {
      "text/plain": [
       "{'bore': 7175.969398724644,\n",
       " 'city_mpg': 5410.957517337565,\n",
       " 'compression_ratio': 6206.360246149368,\n",
       " 'curb_weight': 4155.6416050976395,\n",
       " 'engine_size': 4080.956456219681,\n",
       " 'height': 7685.859107362741,\n",
       " 'highway_mpg': 4125.492781049713,\n",
       " 'horsepower': 4369.727588884395,\n",
       " 'length': 5618.745403850798,\n",
       " 'normalized_losses': 7228.7069227676575,\n",
       " 'num_of_cylinders': 5827.212503530153,\n",
       " 'num_of_doors': 8969.325029252705,\n",
       " 'peak_rpm': 8258.412856005798,\n",
       " 'stroke': 7261.553237018291,\n",
       " 'symboling': 8066.835629028385,\n",
       " 'wheel_base': 6479.7868786940335,\n",
       " 'width': 4263.052324112853}"
      ]
     },
     "execution_count": 439,
     "metadata": {},
     "output_type": "execute_result"
    }
   ],
   "source": [
    "rmse_values_wok = dict(rmse_values_wok)\n",
    "rmse_values_wok"
   ]
  },
  {
   "cell_type": "code",
   "execution_count": 441,
   "metadata": {
    "collapsed": false
   },
   "outputs": [
    {
     "data": {
      "text/plain": [
       "{'engine_size': 4080.956456219681}"
      ]
     },
     "execution_count": 441,
     "metadata": {},
     "output_type": "execute_result"
    }
   ],
   "source": [
    "ind = min(rmse_values_wok, key = lambda x: rmse_values_wok.get(x))\n",
    "best_rmse_feature_wok = {ind: rmse_values_wok[ind]}\n",
    "best_rmse_feature_wok"
   ]
  },
  {
   "cell_type": "markdown",
   "metadata": {},
   "source": [
    "Of all the features, the feature which gives the best root mean squared error is `engine_size`. "
   ]
  },
  {
   "cell_type": "markdown",
   "metadata": {},
   "source": [
    "Now, we modify the `knn_train_test()` function to accept a parameter for the `k` value in the regressor. We will test a univariate model for `k` values of 1, 3, 5, 7, 9."
   ]
  },
  {
   "cell_type": "code",
   "execution_count": 602,
   "metadata": {
    "collapsed": true
   },
   "outputs": [],
   "source": [
    "def knn_train_test(df, features, target, k):\n",
    "    np.random.seed(0)\n",
    "    \n",
    "    #Obtain and shuffle indices\n",
    "    ind = df.index\n",
    "    shuffled_ind = np.random.permutation(ind)\n",
    "    split = int(0.7*len(shuffled_ind))\n",
    "    \n",
    "    #Split into test and training sets\n",
    "    train_df = df.iloc[shuffled_ind].iloc[:split]\n",
    "    test_df = df.iloc[shuffled_ind].iloc[split:]\n",
    "    \n",
    "    #Instantiate KNN class & make predictions\n",
    "    knn = KNeighborsRegressor(n_neighbors=k)\n",
    "    knn.fit(normalize_df(train_df[features]), train_df[target])\n",
    "    norm_test_df = (test_df - train_df.min()) / (train_df.max() - train_df.min())\n",
    "    predictions = knn.predict(norm_test_df[features])\n",
    "    \n",
    "    #Obtain metrics\n",
    "    mse = mean_squared_error(test_df[target], predictions)\n",
    "    rmse = mse ** (1/2)\n",
    "    \n",
    "    return rmse\n",
    "    "
   ]
  },
  {
   "cell_type": "code",
   "execution_count": 443,
   "metadata": {
    "collapsed": false
   },
   "outputs": [],
   "source": [
    "# features = [\"symboling\"]\n",
    "target = \"price\"\n",
    "rmse_values_wk = dict()\n",
    "rmse = 0\n",
    "for features in cars_numeric.columns[:-1]:\n",
    "    for k in [1,3,5,7,9]:\n",
    "        rmse = knn_train_test(cars_numeric, [features], target, k)\n",
    "        rmse_values_wk[(features,k)] = rmse"
   ]
  },
  {
   "cell_type": "code",
   "execution_count": 444,
   "metadata": {
    "collapsed": false
   },
   "outputs": [
    {
     "data": {
      "text/plain": [
       "{('bore', 7): 7053.602587898592,\n",
       " ('curb_weight', 9): 4220.269325172738,\n",
       " ('highway_mpg', 1): 6778.474404074933,\n",
       " ('horsepower', 7): 4289.547839182253,\n",
       " ('wheel_base', 5): 6479.7868786940335}"
      ]
     },
     "execution_count": 444,
     "metadata": {},
     "output_type": "execute_result"
    }
   ],
   "source": [
    "import itertools\n",
    "dict(itertools.islice(rmse_values_wk.items(), 5))"
   ]
  },
  {
   "cell_type": "code",
   "execution_count": 445,
   "metadata": {
    "collapsed": false
   },
   "outputs": [
    {
     "data": {
      "text/plain": [
       "{('width', 1): 2844.536661665748}"
      ]
     },
     "execution_count": 445,
     "metadata": {},
     "output_type": "execute_result"
    }
   ],
   "source": [
    "ind = min(rmse_values, key = lambda x: rmse_values_wk.get(x))\n",
    "best_rmse_feature_wk = {ind: rmse_values_wk[ind]}\n",
    "best_rmse_feature_wk"
   ]
  },
  {
   "cell_type": "code",
   "execution_count": 686,
   "metadata": {
    "collapsed": false
   },
   "outputs": [],
   "source": [
    "#Generate dictionary of rmse values\n",
    "rmse_dict = {}\n",
    "for i,j in rmse_values_wk.items():\n",
    "#     print(i,j)\n",
    "    if i[0] in rmse_dict:\n",
    "        rmse_dict[i[0]].update({i[1]: j})\n",
    "    else:\n",
    "        rmse_dict[i[0]] = {i[1]: j}"
   ]
  },
  {
   "cell_type": "code",
   "execution_count": 687,
   "metadata": {
    "collapsed": false
   },
   "outputs": [
    {
     "data": {
      "text/html": [
       "<div>\n",
       "<style scoped>\n",
       "    .dataframe tbody tr th:only-of-type {\n",
       "        vertical-align: middle;\n",
       "    }\n",
       "\n",
       "    .dataframe tbody tr th {\n",
       "        vertical-align: top;\n",
       "    }\n",
       "\n",
       "    .dataframe thead th {\n",
       "        text-align: right;\n",
       "    }\n",
       "</style>\n",
       "<table border=\"1\" class=\"dataframe\">\n",
       "  <thead>\n",
       "    <tr style=\"text-align: right;\">\n",
       "      <th></th>\n",
       "      <th>bore</th>\n",
       "      <th>city_mpg</th>\n",
       "      <th>compression_ratio</th>\n",
       "      <th>curb_weight</th>\n",
       "      <th>engine_size</th>\n",
       "      <th>height</th>\n",
       "      <th>highway_mpg</th>\n",
       "      <th>horsepower</th>\n",
       "      <th>length</th>\n",
       "      <th>normalized_losses</th>\n",
       "      <th>num_of_cylinders</th>\n",
       "      <th>num_of_doors</th>\n",
       "      <th>peak_rpm</th>\n",
       "      <th>stroke</th>\n",
       "      <th>symboling</th>\n",
       "      <th>wheel_base</th>\n",
       "      <th>width</th>\n",
       "    </tr>\n",
       "  </thead>\n",
       "  <tbody>\n",
       "    <tr>\n",
       "      <th>1</th>\n",
       "      <td>7829.495239</td>\n",
       "      <td>7371.547158</td>\n",
       "      <td>8295.828020</td>\n",
       "      <td>4653.496703</td>\n",
       "      <td>3481.009932</td>\n",
       "      <td>9012.527583</td>\n",
       "      <td>6778.474404</td>\n",
       "      <td>3158.420575</td>\n",
       "      <td>4665.990515</td>\n",
       "      <td>8033.912237</td>\n",
       "      <td>6994.537714</td>\n",
       "      <td>10263.449645</td>\n",
       "      <td>10875.419602</td>\n",
       "      <td>6076.992559</td>\n",
       "      <td>10494.126654</td>\n",
       "      <td>4206.028928</td>\n",
       "      <td>2844.536662</td>\n",
       "    </tr>\n",
       "    <tr>\n",
       "      <th>3</th>\n",
       "      <td>6159.877500</td>\n",
       "      <td>6157.680718</td>\n",
       "      <td>6177.272199</td>\n",
       "      <td>4269.078498</td>\n",
       "      <td>3910.982060</td>\n",
       "      <td>7695.834149</td>\n",
       "      <td>4530.957212</td>\n",
       "      <td>4389.359697</td>\n",
       "      <td>5754.888386</td>\n",
       "      <td>7019.546677</td>\n",
       "      <td>6589.687571</td>\n",
       "      <td>9833.026530</td>\n",
       "      <td>7953.729659</td>\n",
       "      <td>6984.317793</td>\n",
       "      <td>8789.448544</td>\n",
       "      <td>6031.615618</td>\n",
       "      <td>4361.337398</td>\n",
       "    </tr>\n",
       "    <tr>\n",
       "      <th>5</th>\n",
       "      <td>7175.969399</td>\n",
       "      <td>5410.957517</td>\n",
       "      <td>6206.360246</td>\n",
       "      <td>4155.641605</td>\n",
       "      <td>4080.956456</td>\n",
       "      <td>7685.859107</td>\n",
       "      <td>4125.492781</td>\n",
       "      <td>4369.727589</td>\n",
       "      <td>5618.745404</td>\n",
       "      <td>7228.706923</td>\n",
       "      <td>5827.212504</td>\n",
       "      <td>8969.325029</td>\n",
       "      <td>8258.412856</td>\n",
       "      <td>7261.553237</td>\n",
       "      <td>8066.835629</td>\n",
       "      <td>6479.786879</td>\n",
       "      <td>4263.052324</td>\n",
       "    </tr>\n",
       "    <tr>\n",
       "      <th>7</th>\n",
       "      <td>7053.602588</td>\n",
       "      <td>5165.344554</td>\n",
       "      <td>6268.878439</td>\n",
       "      <td>4217.134611</td>\n",
       "      <td>4181.585948</td>\n",
       "      <td>7636.499290</td>\n",
       "      <td>4314.035919</td>\n",
       "      <td>4289.547839</td>\n",
       "      <td>5849.538214</td>\n",
       "      <td>7472.673225</td>\n",
       "      <td>6014.167627</td>\n",
       "      <td>8999.889020</td>\n",
       "      <td>8193.466488</td>\n",
       "      <td>7602.764047</td>\n",
       "      <td>7412.586773</td>\n",
       "      <td>6779.872624</td>\n",
       "      <td>4595.239368</td>\n",
       "    </tr>\n",
       "    <tr>\n",
       "      <th>9</th>\n",
       "      <td>6775.163790</td>\n",
       "      <td>5401.875083</td>\n",
       "      <td>6467.417387</td>\n",
       "      <td>4220.269325</td>\n",
       "      <td>4155.855272</td>\n",
       "      <td>7573.761727</td>\n",
       "      <td>4253.779511</td>\n",
       "      <td>4604.785873</td>\n",
       "      <td>6046.900218</td>\n",
       "      <td>7654.130802</td>\n",
       "      <td>5781.003992</td>\n",
       "      <td>8777.013017</td>\n",
       "      <td>8018.065379</td>\n",
       "      <td>7708.553082</td>\n",
       "      <td>7490.246201</td>\n",
       "      <td>7132.993521</td>\n",
       "      <td>4531.171657</td>\n",
       "    </tr>\n",
       "  </tbody>\n",
       "</table>\n",
       "</div>"
      ],
      "text/plain": [
       "          bore     city_mpg  compression_ratio  curb_weight  engine_size  \\\n",
       "1  7829.495239  7371.547158        8295.828020  4653.496703  3481.009932   \n",
       "3  6159.877500  6157.680718        6177.272199  4269.078498  3910.982060   \n",
       "5  7175.969399  5410.957517        6206.360246  4155.641605  4080.956456   \n",
       "7  7053.602588  5165.344554        6268.878439  4217.134611  4181.585948   \n",
       "9  6775.163790  5401.875083        6467.417387  4220.269325  4155.855272   \n",
       "\n",
       "        height  highway_mpg   horsepower       length  normalized_losses  \\\n",
       "1  9012.527583  6778.474404  3158.420575  4665.990515        8033.912237   \n",
       "3  7695.834149  4530.957212  4389.359697  5754.888386        7019.546677   \n",
       "5  7685.859107  4125.492781  4369.727589  5618.745404        7228.706923   \n",
       "7  7636.499290  4314.035919  4289.547839  5849.538214        7472.673225   \n",
       "9  7573.761727  4253.779511  4604.785873  6046.900218        7654.130802   \n",
       "\n",
       "   num_of_cylinders  num_of_doors      peak_rpm       stroke     symboling  \\\n",
       "1       6994.537714  10263.449645  10875.419602  6076.992559  10494.126654   \n",
       "3       6589.687571   9833.026530   7953.729659  6984.317793   8789.448544   \n",
       "5       5827.212504   8969.325029   8258.412856  7261.553237   8066.835629   \n",
       "7       6014.167627   8999.889020   8193.466488  7602.764047   7412.586773   \n",
       "9       5781.003992   8777.013017   8018.065379  7708.553082   7490.246201   \n",
       "\n",
       "    wheel_base        width  \n",
       "1  4206.028928  2844.536662  \n",
       "3  6031.615618  4361.337398  \n",
       "5  6479.786879  4263.052324  \n",
       "7  6779.872624  4595.239368  \n",
       "9  7132.993521  4531.171657  "
      ]
     },
     "execution_count": 687,
     "metadata": {},
     "output_type": "execute_result"
    }
   ],
   "source": [
    "rmse_df = pd.DataFrame(rmse_dict)\n",
    "rmse_df"
   ]
  },
  {
   "cell_type": "code",
   "execution_count": 722,
   "metadata": {
    "collapsed": false
   },
   "outputs": [
    {
     "data": {
      "image/png": "[encoded data removed]",
      "text/plain": [
       "<matplotlib.figure.Figure at 0x7fa59d0924a8>"
      ]
     },
     "metadata": {},
     "output_type": "display_data"
    }
   ],
   "source": [
    "rmse_df.plot.line(figsize=(12,7))\n",
    "plt.legend(bbox_to_anchor=(1.02,1.015), loc=\"upper left\")\n",
    "plt.grid(True)\n",
    "plt.xlabel(\"k\")\n",
    "plt.ylabel(\"root mean squared error\")\n",
    "plt.title(\"RMSE vs. k for univariate models\")\n",
    "plt.show()"
   ]
  },
  {
   "cell_type": "markdown",
   "metadata": {},
   "source": [
    "Display average of `rmse` values over the different `k`'s by feature"
   ]
  },
  {
   "cell_type": "code",
   "execution_count": 699,
   "metadata": {
    "collapsed": false
   },
   "outputs": [
    {
     "data": {
      "text/plain": [
       "engine_size          3962.077934\n",
       "width                4119.067482\n",
       "horsepower           4162.368315\n",
       "curb_weight          4303.124148\n",
       "highway_mpg          4800.547965\n",
       "length               5587.212548\n",
       "city_mpg             5901.481006\n",
       "wheel_base           6126.059514\n",
       "num_of_cylinders     6241.321881\n",
       "compression_ratio    6683.151258\n",
       "bore                 6998.821703\n",
       "stroke               7126.836144\n",
       "normalized_losses    7481.793973\n",
       "height               7920.896371\n",
       "symboling            8450.648760\n",
       "peak_rpm             8659.818797\n",
       "num_of_doors         9368.540648\n",
       "dtype: float64"
      ]
     },
     "execution_count": 699,
     "metadata": {},
     "output_type": "execute_result"
    }
   ],
   "source": [
    "rmse_df.mean(axis=0).sort_values()"
   ]
  },
  {
   "cell_type": "markdown",
   "metadata": {},
   "source": [
    "For the univariate models, `width`, with a `k` value of just 1, gives the best root mean squared error value."
   ]
  },
  {
   "cell_type": "markdown",
   "metadata": {},
   "source": [
    "We test the `knn_train_test()` with more than one variables, so that we can create bivariate and multivariate models."
   ]
  },
  {
   "cell_type": "markdown",
   "metadata": {},
   "source": [
    "We use the best feaures from earlier to train and test a multivariate k-nearest neighbours model using the default value of `k`.  We will do this for best two until the best five features."
   ]
  },
  {
   "cell_type": "code",
   "execution_count": 446,
   "metadata": {
    "collapsed": false
   },
   "outputs": [
    {
     "data": {
      "text/plain": [
       "Index(['symboling', 'normalized_losses', 'num_of_doors', 'wheel_base',\n",
       "       'length', 'width', 'height', 'curb_weight', 'num_of_cylinders',\n",
       "       'engine_size', 'bore', 'stroke', 'compression_ratio', 'horsepower',\n",
       "       'peak_rpm', 'city_mpg', 'highway_mpg', 'price'],\n",
       "      dtype='object')"
      ]
     },
     "execution_count": 446,
     "metadata": {},
     "output_type": "execute_result"
    }
   ],
   "source": [
    "cars_numeric.columns"
   ]
  },
  {
   "cell_type": "code",
   "execution_count": 476,
   "metadata": {
    "collapsed": false
   },
   "outputs": [
    {
     "data": {
      "text/plain": [
       "[('engine_size', 4080.956456219681),\n",
       " ('highway_mpg', 4125.492781049713),\n",
       " ('curb_weight', 4155.6416050976395),\n",
       " ('width', 4263.052324112853),\n",
       " ('horsepower', 4369.727588884395),\n",
       " ('city_mpg', 5410.957517337565),\n",
       " ('length', 5618.745403850798),\n",
       " ('num_of_cylinders', 5827.212503530153),\n",
       " ('compression_ratio', 6206.360246149368),\n",
       " ('wheel_base', 6479.7868786940335),\n",
       " ('bore', 7175.969398724644),\n",
       " ('normalized_losses', 7228.7069227676575),\n",
       " ('stroke', 7261.553237018291),\n",
       " ('height', 7685.859107362741),\n",
       " ('symboling', 8066.835629028385),\n",
       " ('peak_rpm', 8258.412856005798),\n",
       " ('num_of_doors', 8969.325029252705)]"
      ]
     },
     "execution_count": 476,
     "metadata": {},
     "output_type": "execute_result"
    }
   ],
   "source": [
    "sorted(rmse_values_wok.items(), key=lambda x:x[1])"
   ]
  },
  {
   "cell_type": "markdown",
   "metadata": {},
   "source": [
    "We will be obtaining the `rmse` for the best features until `horsepower`."
   ]
  },
  {
   "cell_type": "code",
   "execution_count": 598,
   "metadata": {
    "collapsed": false
   },
   "outputs": [],
   "source": [
    "temp = list()\n",
    "target = \"price\"\n",
    "rmse_values_wf = list()\n",
    "rmse_value = 0\n",
    "tempcopy = []\n",
    "for i in (sorted(rmse_values_wok.items(), key=lambda x:x[1]))[:5]:\n",
    "    temp += [i[0]]\n",
    "    rmse_value = knn_train_test(cars_numeric, temp, target)\n",
    "    tempcopy = temp.copy()\n",
    "    rmse_values_wf += [(tempcopy, rmse_value)]\n"
   ]
  },
  {
   "cell_type": "code",
   "execution_count": 599,
   "metadata": {
    "collapsed": false
   },
   "outputs": [
    {
     "data": {
      "text/plain": [
       "[(['engine_size'], 4080.956456219681),\n",
       " (['engine_size', 'highway_mpg'], 3602.684436540809),\n",
       " (['engine_size', 'highway_mpg', 'curb_weight'], 3918.0247769990356),\n",
       " (['engine_size', 'highway_mpg', 'curb_weight', 'width'], 4032.767800343178),\n",
       " (['engine_size', 'highway_mpg', 'curb_weight', 'width', 'horsepower'],\n",
       "  3666.4576055901784)]"
      ]
     },
     "execution_count": 599,
     "metadata": {},
     "output_type": "execute_result"
    }
   ],
   "source": [
    "rmse_values_wf"
   ]
  },
  {
   "cell_type": "markdown",
   "metadata": {},
   "source": [
    "When we use features with progressively lower `rmse` in the univariate models, we find that combining the features does not necessarily reduce `rmse`. `engine_size` and `highway_mpg` provided the lowest `rmse`.\n",
    "\n",
    "We attempt with the best three features and generate the `rmse` for `k` values 1 to 25."
   ]
  },
  {
   "cell_type": "code",
   "execution_count": 619,
   "metadata": {
    "collapsed": false
   },
   "outputs": [],
   "source": [
    "top_3_features = [\"engine_size\", \"highway_mpg\", \"curb_weight\"]\n",
    "target = \"price\"\n",
    "rmse_values_top_3 = []\n",
    "for i in range(1,26):\n",
    "    rmse_values_top_3 += [knn_train_test(cars_numeric, top_3_features, target, i)]"
   ]
  },
  {
   "cell_type": "code",
   "execution_count": 620,
   "metadata": {
    "collapsed": false
   },
   "outputs": [
    {
     "data": {
      "image/png": "[encoded data removed]",
      "text/plain": [
       "<matplotlib.figure.Figure at 0x7fa5a0371588>"
      ]
     },
     "metadata": {},
     "output_type": "display_data"
    }
   ],
   "source": [
    "plt.figure(figsize=(10,5))\n",
    "plt.plot(np.arange(1,26), rmse_values_top_3, 'o-')\n",
    "plt.xlabel(\"k\")\n",
    "plt.ylabel(\"root mean squared error\")\n",
    "plt.title(\"RMSE vs. k\")\n",
    "plt.grid(True)\n",
    "plt.show()"
   ]
  },
  {
   "cell_type": "markdown",
   "metadata": {},
   "source": [
    "It appears the optimal `k` value is 1. Increasing the value of `k` merely increases the `rmse` and adds no further advantage. Increasing `k` apparently adds more noisy to the model results by factoring in farther instances which has no more advantage than to introduce errors."
   ]
  },
  {
   "cell_type": "markdown",
   "metadata": {},
   "source": [
    "Retrying the above with all the features produces nearly the same results."
   ]
  },
  {
   "cell_type": "code",
   "execution_count": 621,
   "metadata": {
    "collapsed": true
   },
   "outputs": [],
   "source": [
    "top_3_features = ['symboling', 'normalized_losses', 'num_of_doors', 'wheel_base',\n",
    "       'length', 'width', 'height', 'curb_weight', 'num_of_cylinders',\n",
    "       'engine_size', 'bore', 'stroke', 'compression_ratio', 'horsepower',\n",
    "       'peak_rpm', 'city_mpg', 'highway_mpg']\n",
    "target = \"price\"\n",
    "rmse_values_top_3 = []\n",
    "for i in range(1,26):\n",
    "    rmse_values_top_3 += [knn_train_test(cars_numeric, top_3_features, target, i)]"
   ]
  },
  {
   "cell_type": "code",
   "execution_count": 622,
   "metadata": {
    "collapsed": false
   },
   "outputs": [
    {
     "data": {
      "image/png": "[encoded data removed]",
      "text/plain": [
       "<matplotlib.figure.Figure at 0x7fa5a02da8d0>"
      ]
     },
     "metadata": {},
     "output_type": "display_data"
    }
   ],
   "source": [
    "plt.figure(figsize=(10,5))\n",
    "plt.plot(np.arange(1,26), rmse_values_top_3, 'o-')\n",
    "plt.xlabel(\"k\")\n",
    "plt.ylabel(\"root mean squared error\")\n",
    "plt.title(\"RMSE vs. k\")\n",
    "plt.grid(True)\n",
    "plt.show()"
   ]
  },
  {
   "cell_type": "markdown",
   "metadata": {},
   "source": [
    "Now, we use the top features and `k` values of 1 to 25"
   ]
  },
  {
   "cell_type": "code",
   "execution_count": 703,
   "metadata": {
    "collapsed": false
   },
   "outputs": [
    {
     "data": {
      "text/plain": [
       "('engine_size',\n",
       " 'highway_mpg',\n",
       " 'curb_weight',\n",
       " 'width',\n",
       " 'horsepower',\n",
       " 'city_mpg',\n",
       " 'length',\n",
       " 'num_of_cylinders',\n",
       " 'compression_ratio',\n",
       " 'wheel_base',\n",
       " 'bore',\n",
       " 'normalized_losses',\n",
       " 'stroke',\n",
       " 'height',\n",
       " 'symboling',\n",
       " 'peak_rpm',\n",
       " 'num_of_doors')"
      ]
     },
     "execution_count": 703,
     "metadata": {},
     "output_type": "execute_result"
    }
   ],
   "source": [
    "top_features = list(zip(*sorted(rmse_values_wok.items(), key=lambda x:x[1])))[0]\n",
    "top_features"
   ]
  },
  {
   "cell_type": "code",
   "execution_count": 711,
   "metadata": {
    "collapsed": false
   },
   "outputs": [],
   "source": [
    "temp=[]\n",
    "rmse_values_top_features = {}\n",
    "target = \"price\"\n",
    "for feature in top_features:\n",
    "    temp+=[feature]\n",
    "    rmse_values=[]\n",
    "    for i in range(1,26):\n",
    "        rmse_values += [knn_train_test(cars_numeric, temp, target, i)]\n",
    "    rmse_values_top_features[len(temp)]= rmse_values\n",
    "    "
   ]
  },
  {
   "cell_type": "code",
   "execution_count": 743,
   "metadata": {
    "collapsed": false
   },
   "outputs": [],
   "source": [
    "rmse_values_top_features_df = pd.DataFrame(rmse_values_top_features, index=np.arange(1,26))"
   ]
  },
  {
   "cell_type": "code",
   "execution_count": 746,
   "metadata": {
    "collapsed": false
   },
   "outputs": [
    {
     "data": {
      "image/png": "[encoded data removed]",
      "text/plain": [
       "<matplotlib.figure.Figure at 0x7fa59caaf9b0>"
      ]
     },
     "metadata": {},
     "output_type": "display_data"
    }
   ],
   "source": [
    "rmse_values_top_features_df.plot.line(figsize=(15,10))\n",
    "plt.legend(bbox_to_anchor=(1.02,1.015), loc=\"upper left\")\n",
    "plt.xticks(np.arange(1,26))\n",
    "plt.xlabel(\"k\")\n",
    "plt.ylabel(\"root mean squared error\")\n",
    "plt.title(\"RMSE vs k for top features\")\n",
    "plt.show()"
   ]
  },
  {
   "cell_type": "markdown",
   "metadata": {},
   "source": [
    "It would seem lower `k` values provide the best `rmse` values even for the top features"
   ]
  },
  {
   "cell_type": "code",
   "execution_count": null,
   "metadata": {
    "collapsed": true
   },
   "outputs": [],
   "source": []
  }
 ],
 "metadata": {
  "kernelspec": {
   "display_name": "Python 3",
   "language": "python",
   "name": "python3"
  },
  "language_info": {
   "codemirror_mode": {
    "name": "ipython",
    "version": 3
   },
   "file_extension": ".py",
   "mimetype": "text/x-python",
   "name": "python",
   "nbconvert_exporter": "python",
   "pygments_lexer": "ipython3",
   "version": "3.4.3"
  }
 },
 "nbformat": 4,
 "nbformat_minor": 2
}
