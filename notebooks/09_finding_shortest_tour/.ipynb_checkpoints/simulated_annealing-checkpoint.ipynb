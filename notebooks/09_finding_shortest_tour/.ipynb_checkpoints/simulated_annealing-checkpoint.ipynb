{
 "cells": [
  {
   "cell_type": "code",
   "execution_count": null,
   "metadata": {},
   "outputs": [],
   "source": []
  },
  {
   "cell_type": "markdown",
   "metadata": {},
   "source": [
    "## Simulated Annealing: Finding the shortest tour around Nigerian airports"
   ]
  },
  {
   "cell_type": "markdown",
   "metadata": {},
   "source": [
    "**Introduction.** The traveling salesperson problem, which is among a class of problems called NP-complete, asks for the shortest path or tour between each pair of `N` cities, where the path visits each city once and then returns to the origin city. Though there is no known way to calculate an exact solution in a time that is less than exponential in the size of the input, we can use a heuristic solution method called simulated annealing.\n",
    "\n",
    "Simulated annealing uses a probabilistic technique to find a solution to TSP by exploring potential solutions by occasionally taking one even if it increases the cost function. It does so more frequently at the beginning, but gradually accepts less and less higher cost solution as the computation progresses. In the end, this approximates a global optimum to the cost function. In exploring potential solutions, we use the neighbours of a state to probabilistically decide between moving the system to the new state or staying in the current state.\n",
    "\n",
    "**Problem.** In this problem, we use simulated annealing to find the shortest tour around airports in Nigeria. We consider that a person intends to take a tour around the country starting from one airport and flying to a new airport every time until all the airports in the country are visited. We consider the fastest way to achieve this and the shortest tour possible across all airports.\n",
    "\n",
    "We define the SA procedure using the algorithmic idea:\n",
    "\n",
    "1. Start with any random path through the airports\n",
    "2. For some number of iteration, do the following:\n",
    "    - Randomly swap two airports in the defined random path\n",
    "    - If this new path is shorter, accept it. Otherwise, accept it with probability $p$.\n",
    "    - Repeat procedure"
   ]
  },
  {
   "cell_type": "code",
   "execution_count": 2,
   "metadata": {},
   "outputs": [],
   "source": [
    "import numpy as np\n",
    "import random\n",
    "import matplotlib.pyplot as plt\n",
    "import pandas as pd\n",
    "%matplotlib inline"
   ]
  },
  {
   "cell_type": "code",
   "execution_count": 3,
   "metadata": {},
   "outputs": [],
   "source": [
    "import os\n",
    "import conda\n",
    "\n",
    "conda_file_dir = conda.__file__\n",
    "conda_dir = conda_file_dir.split('lib')[0]\n",
    "proj_lib = os.path.join(os.path.join(conda_dir, 'share'), 'proj')\n",
    "os.environ[\"PROJ_LIB\"] = proj_lib\n",
    "\n",
    "from mpl_toolkits.basemap import Basemap"
   ]
  },
  {
   "cell_type": "markdown",
   "metadata": {},
   "source": [
    "**Solution.** First, we define a `RANDOM_PATH` which is a random sequence of travel from one airport to another across the country. We do not expect this random path to be optimal. However, using simulated annealing, we will be moving from the random path to a optimum solution while temporarily accepting even worse solutions."
   ]
  },
  {
   "cell_type": "markdown",
   "metadata": {},
   "source": [
    "We use a `csv` file which has details of the airports in Nigeria. These details include the longitude and latitude of each airport. We will be defining the distance between any two aiports in terms of their longitudes and latitudes."
   ]
  },
  {
   "cell_type": "code",
   "execution_count": 5,
   "metadata": {},
   "outputs": [
    {
     "data": {
      "text/html": [
       "<div>\n",
       "<style scoped>\n",
       "    .dataframe tbody tr th:only-of-type {\n",
       "        vertical-align: middle;\n",
       "    }\n",
       "\n",
       "    .dataframe tbody tr th {\n",
       "        vertical-align: top;\n",
       "    }\n",
       "\n",
       "    .dataframe thead th {\n",
       "        text-align: right;\n",
       "    }\n",
       "</style>\n",
       "<table border=\"1\" class=\"dataframe\">\n",
       "  <thead>\n",
       "    <tr style=\"text-align: right;\">\n",
       "      <th></th>\n",
       "      <th>id</th>\n",
       "      <th>ident</th>\n",
       "      <th>type</th>\n",
       "      <th>name</th>\n",
       "      <th>latitude_deg</th>\n",
       "      <th>longitude_deg</th>\n",
       "      <th>elevation_ft</th>\n",
       "      <th>continent</th>\n",
       "      <th>country_name</th>\n",
       "      <th>iso_country</th>\n",
       "      <th>...</th>\n",
       "      <th>municipality</th>\n",
       "      <th>scheduled_service</th>\n",
       "      <th>gps_code</th>\n",
       "      <th>iata_code</th>\n",
       "      <th>local_code</th>\n",
       "      <th>home_link</th>\n",
       "      <th>wikipedia_link</th>\n",
       "      <th>keywords</th>\n",
       "      <th>score</th>\n",
       "      <th>last_updated</th>\n",
       "    </tr>\n",
       "  </thead>\n",
       "  <tbody>\n",
       "    <tr>\n",
       "      <th>0</th>\n",
       "      <td>#meta +id</td>\n",
       "      <td>#meta +code</td>\n",
       "      <td>#loc +airport +type</td>\n",
       "      <td>#loc +airport +name</td>\n",
       "      <td>#geo +lat</td>\n",
       "      <td>#geo +lon</td>\n",
       "      <td>#geo +elevation +ft</td>\n",
       "      <td>#region +continent +code</td>\n",
       "      <td>#country +name</td>\n",
       "      <td>#country +code +iso2</td>\n",
       "      <td>...</td>\n",
       "      <td>#loc +municipality +name</td>\n",
       "      <td>#status +scheduled</td>\n",
       "      <td>#loc +airport +code +gps</td>\n",
       "      <td>#loc +airport +code +iata</td>\n",
       "      <td>#loc +airport +code +local</td>\n",
       "      <td>#meta +url +airport</td>\n",
       "      <td>#meta +url +wikipedia</td>\n",
       "      <td>#meta +keywords</td>\n",
       "      <td>#meta +score</td>\n",
       "      <td>#date +updated</td>\n",
       "    </tr>\n",
       "    <tr>\n",
       "      <th>1</th>\n",
       "      <td>2118</td>\n",
       "      <td>DNMM</td>\n",
       "      <td>large_airport</td>\n",
       "      <td>Murtala Muhammed International Airport</td>\n",
       "      <td>6.5773701667785645</td>\n",
       "      <td>3.321160078048706</td>\n",
       "      <td>135</td>\n",
       "      <td>AF</td>\n",
       "      <td>Nigeria</td>\n",
       "      <td>NG</td>\n",
       "      <td>...</td>\n",
       "      <td>Lagos</td>\n",
       "      <td>1</td>\n",
       "      <td>DNMM</td>\n",
       "      <td>LOS</td>\n",
       "      <td>NaN</td>\n",
       "      <td>http://www.faannigeria.org/nigeria-airport.php...</td>\n",
       "      <td>https://en.wikipedia.org/wiki/Murtala_Mohammed...</td>\n",
       "      <td>NaN</td>\n",
       "      <td>1275</td>\n",
       "      <td>2009-03-02T11:53:36+00:00</td>\n",
       "    </tr>\n",
       "    <tr>\n",
       "      <th>2</th>\n",
       "      <td>2104</td>\n",
       "      <td>DNAA</td>\n",
       "      <td>large_airport</td>\n",
       "      <td>Nnamdi Azikiwe International Airport</td>\n",
       "      <td>9.006790161132812</td>\n",
       "      <td>7.263169765472412</td>\n",
       "      <td>1123</td>\n",
       "      <td>AF</td>\n",
       "      <td>Nigeria</td>\n",
       "      <td>NG</td>\n",
       "      <td>...</td>\n",
       "      <td>Abuja</td>\n",
       "      <td>1</td>\n",
       "      <td>DNAA</td>\n",
       "      <td>ABV</td>\n",
       "      <td>NaN</td>\n",
       "      <td>http://www.faannigeria.org/nigeria-airport.php...</td>\n",
       "      <td>https://en.wikipedia.org/wiki/Nnamdi_Azikiwe_I...</td>\n",
       "      <td>NaN</td>\n",
       "      <td>1275</td>\n",
       "      <td>2009-03-02T11:54:21+00:00</td>\n",
       "    </tr>\n",
       "    <tr>\n",
       "      <th>3</th>\n",
       "      <td>2120</td>\n",
       "      <td>DNPO</td>\n",
       "      <td>medium_airport</td>\n",
       "      <td>Port Harcourt International Airport</td>\n",
       "      <td>5.0154900550842285</td>\n",
       "      <td>6.94959020614624</td>\n",
       "      <td>87</td>\n",
       "      <td>AF</td>\n",
       "      <td>Nigeria</td>\n",
       "      <td>NG</td>\n",
       "      <td>...</td>\n",
       "      <td>Port Harcourt</td>\n",
       "      <td>1</td>\n",
       "      <td>DNPO</td>\n",
       "      <td>PHC</td>\n",
       "      <td>NaN</td>\n",
       "      <td>http://www.faannigeria.org/nigeria-airport.php...</td>\n",
       "      <td>https://en.wikipedia.org/wiki/Port_Harcourt_In...</td>\n",
       "      <td>NaN</td>\n",
       "      <td>1050</td>\n",
       "      <td>2009-03-02T11:56:34+00:00</td>\n",
       "    </tr>\n",
       "    <tr>\n",
       "      <th>4</th>\n",
       "      <td>2115</td>\n",
       "      <td>DNKN</td>\n",
       "      <td>large_airport</td>\n",
       "      <td>Mallam Aminu International Airport</td>\n",
       "      <td>12.0476</td>\n",
       "      <td>8.52462</td>\n",
       "      <td>1562</td>\n",
       "      <td>AF</td>\n",
       "      <td>Nigeria</td>\n",
       "      <td>NG</td>\n",
       "      <td>...</td>\n",
       "      <td>Kano</td>\n",
       "      <td>1</td>\n",
       "      <td>DNKN</td>\n",
       "      <td>KAN</td>\n",
       "      <td>NaN</td>\n",
       "      <td>http://www.faannigeria.org/nigeria-airport.php...</td>\n",
       "      <td>https://en.wikipedia.org/wiki/Mallam_Aminu_Kan...</td>\n",
       "      <td>NaN</td>\n",
       "      <td>1475</td>\n",
       "      <td>2018-03-18T09:54:27+00:00</td>\n",
       "    </tr>\n",
       "  </tbody>\n",
       "</table>\n",
       "<p>5 rows × 23 columns</p>\n",
       "</div>"
      ],
      "text/plain": [
       "          id        ident                 type  \\\n",
       "0  #meta +id  #meta +code  #loc +airport +type   \n",
       "1       2118         DNMM        large_airport   \n",
       "2       2104         DNAA        large_airport   \n",
       "3       2120         DNPO       medium_airport   \n",
       "4       2115         DNKN        large_airport   \n",
       "\n",
       "                                     name        latitude_deg  \\\n",
       "0                     #loc +airport +name           #geo +lat   \n",
       "1  Murtala Muhammed International Airport  6.5773701667785645   \n",
       "2    Nnamdi Azikiwe International Airport   9.006790161132812   \n",
       "3     Port Harcourt International Airport  5.0154900550842285   \n",
       "4      Mallam Aminu International Airport             12.0476   \n",
       "\n",
       "       longitude_deg         elevation_ft                 continent  \\\n",
       "0          #geo +lon  #geo +elevation +ft  #region +continent +code   \n",
       "1  3.321160078048706                  135                        AF   \n",
       "2  7.263169765472412                 1123                        AF   \n",
       "3   6.94959020614624                   87                        AF   \n",
       "4            8.52462                 1562                        AF   \n",
       "\n",
       "     country_name           iso_country  ...              municipality  \\\n",
       "0  #country +name  #country +code +iso2  ...  #loc +municipality +name   \n",
       "1         Nigeria                    NG  ...                     Lagos   \n",
       "2         Nigeria                    NG  ...                     Abuja   \n",
       "3         Nigeria                    NG  ...             Port Harcourt   \n",
       "4         Nigeria                    NG  ...                      Kano   \n",
       "\n",
       "    scheduled_service                  gps_code                  iata_code  \\\n",
       "0  #status +scheduled  #loc +airport +code +gps  #loc +airport +code +iata   \n",
       "1                   1                      DNMM                        LOS   \n",
       "2                   1                      DNAA                        ABV   \n",
       "3                   1                      DNPO                        PHC   \n",
       "4                   1                      DNKN                        KAN   \n",
       "\n",
       "                   local_code  \\\n",
       "0  #loc +airport +code +local   \n",
       "1                         NaN   \n",
       "2                         NaN   \n",
       "3                         NaN   \n",
       "4                         NaN   \n",
       "\n",
       "                                           home_link  \\\n",
       "0                                #meta +url +airport   \n",
       "1  http://www.faannigeria.org/nigeria-airport.php...   \n",
       "2  http://www.faannigeria.org/nigeria-airport.php...   \n",
       "3  http://www.faannigeria.org/nigeria-airport.php...   \n",
       "4  http://www.faannigeria.org/nigeria-airport.php...   \n",
       "\n",
       "                                      wikipedia_link         keywords  \\\n",
       "0                              #meta +url +wikipedia  #meta +keywords   \n",
       "1  https://en.wikipedia.org/wiki/Murtala_Mohammed...              NaN   \n",
       "2  https://en.wikipedia.org/wiki/Nnamdi_Azikiwe_I...              NaN   \n",
       "3  https://en.wikipedia.org/wiki/Port_Harcourt_In...              NaN   \n",
       "4  https://en.wikipedia.org/wiki/Mallam_Aminu_Kan...              NaN   \n",
       "\n",
       "          score               last_updated  \n",
       "0  #meta +score             #date +updated  \n",
       "1          1275  2009-03-02T11:53:36+00:00  \n",
       "2          1275  2009-03-02T11:54:21+00:00  \n",
       "3          1050  2009-03-02T11:56:34+00:00  \n",
       "4          1475  2018-03-18T09:54:27+00:00  \n",
       "\n",
       "[5 rows x 23 columns]"
      ]
     },
     "execution_count": 5,
     "metadata": {},
     "output_type": "execute_result"
    }
   ],
   "source": [
    "airports = pd.read_csv('./data/ng-airports.csv')\n",
    "airports.head()"
   ]
  },
  {
   "cell_type": "markdown",
   "metadata": {},
   "source": [
    "Some of the attributes, such as `country_name`, `iso_country`, etc., are not relevant to our task, so we will be selecting only the useful ones."
   ]
  },
  {
   "cell_type": "code",
   "execution_count": 7,
   "metadata": {},
   "outputs": [
    {
     "data": {
      "text/html": [
       "<div>\n",
       "<style scoped>\n",
       "    .dataframe tbody tr th:only-of-type {\n",
       "        vertical-align: middle;\n",
       "    }\n",
       "\n",
       "    .dataframe tbody tr th {\n",
       "        vertical-align: top;\n",
       "    }\n",
       "\n",
       "    .dataframe thead th {\n",
       "        text-align: right;\n",
       "    }\n",
       "</style>\n",
       "<table border=\"1\" class=\"dataframe\">\n",
       "  <thead>\n",
       "    <tr style=\"text-align: right;\">\n",
       "      <th></th>\n",
       "      <th>id</th>\n",
       "      <th>ident</th>\n",
       "      <th>type</th>\n",
       "      <th>name</th>\n",
       "      <th>latitude_deg</th>\n",
       "      <th>longitude_deg</th>\n",
       "      <th>region_name</th>\n",
       "      <th>municipality</th>\n",
       "    </tr>\n",
       "  </thead>\n",
       "  <tbody>\n",
       "    <tr>\n",
       "      <th>1</th>\n",
       "      <td>2118</td>\n",
       "      <td>DNMM</td>\n",
       "      <td>large_airport</td>\n",
       "      <td>Murtala Muhammed International Airport</td>\n",
       "      <td>6.5773701667785645</td>\n",
       "      <td>3.321160078048706</td>\n",
       "      <td>Lagos</td>\n",
       "      <td>Lagos</td>\n",
       "    </tr>\n",
       "    <tr>\n",
       "      <th>2</th>\n",
       "      <td>2104</td>\n",
       "      <td>DNAA</td>\n",
       "      <td>large_airport</td>\n",
       "      <td>Nnamdi Azikiwe International Airport</td>\n",
       "      <td>9.006790161132812</td>\n",
       "      <td>7.263169765472412</td>\n",
       "      <td>Abuja Capital Territory</td>\n",
       "      <td>Abuja</td>\n",
       "    </tr>\n",
       "    <tr>\n",
       "      <th>3</th>\n",
       "      <td>2120</td>\n",
       "      <td>DNPO</td>\n",
       "      <td>medium_airport</td>\n",
       "      <td>Port Harcourt International Airport</td>\n",
       "      <td>5.0154900550842285</td>\n",
       "      <td>6.94959020614624</td>\n",
       "      <td>Rivers</td>\n",
       "      <td>Port Harcourt</td>\n",
       "    </tr>\n",
       "    <tr>\n",
       "      <th>4</th>\n",
       "      <td>2115</td>\n",
       "      <td>DNKN</td>\n",
       "      <td>large_airport</td>\n",
       "      <td>Mallam Aminu International Airport</td>\n",
       "      <td>12.0476</td>\n",
       "      <td>8.52462</td>\n",
       "      <td>Kano</td>\n",
       "      <td>Kano</td>\n",
       "    </tr>\n",
       "    <tr>\n",
       "      <th>5</th>\n",
       "      <td>2114</td>\n",
       "      <td>DNKA</td>\n",
       "      <td>medium_airport</td>\n",
       "      <td>Kaduna Airport</td>\n",
       "      <td>10.696000099182129</td>\n",
       "      <td>7.320109844207764</td>\n",
       "      <td>Kaduna</td>\n",
       "      <td>Kaduna</td>\n",
       "    </tr>\n",
       "  </tbody>\n",
       "</table>\n",
       "</div>"
      ],
      "text/plain": [
       "     id ident            type                                    name  \\\n",
       "1  2118  DNMM   large_airport  Murtala Muhammed International Airport   \n",
       "2  2104  DNAA   large_airport    Nnamdi Azikiwe International Airport   \n",
       "3  2120  DNPO  medium_airport     Port Harcourt International Airport   \n",
       "4  2115  DNKN   large_airport      Mallam Aminu International Airport   \n",
       "5  2114  DNKA  medium_airport                          Kaduna Airport   \n",
       "\n",
       "         latitude_deg      longitude_deg              region_name  \\\n",
       "1  6.5773701667785645  3.321160078048706                    Lagos   \n",
       "2   9.006790161132812  7.263169765472412  Abuja Capital Territory   \n",
       "3  5.0154900550842285   6.94959020614624                   Rivers   \n",
       "4             12.0476            8.52462                     Kano   \n",
       "5  10.696000099182129  7.320109844207764                   Kaduna   \n",
       "\n",
       "    municipality  \n",
       "1          Lagos  \n",
       "2          Abuja  \n",
       "3  Port Harcourt  \n",
       "4           Kano  \n",
       "5         Kaduna  "
      ]
     },
     "execution_count": 7,
     "metadata": {},
     "output_type": "execute_result"
    }
   ],
   "source": [
    "airports = airports.iloc[1:][['id', 'ident', 'type', 'name', 'latitude_deg', 'longitude_deg',\n",
    "                  'region_name', 'municipality']]\n",
    "airports.head()"
   ]
  },
  {
   "cell_type": "code",
   "execution_count": 8,
   "metadata": {},
   "outputs": [
    {
     "data": {
      "text/plain": [
       "id               0\n",
       "ident            0\n",
       "type             0\n",
       "name             0\n",
       "latitude_deg     0\n",
       "longitude_deg    0\n",
       "region_name      0\n",
       "municipality     7\n",
       "dtype: int64"
      ]
     },
     "execution_count": 8,
     "metadata": {},
     "output_type": "execute_result"
    }
   ],
   "source": [
    "airports.isnull().sum()"
   ]
  },
  {
   "cell_type": "markdown",
   "metadata": {},
   "source": [
    "Some of the airports are missing entries under `municipality`. These are `Eket Airport`, `Escravos Airport`, `Kaduna Old Airport`, `Ajaokuta Airport`, `Shiroro Airport`, `Kainji` and `Agbara-Otor`. We observe that if we remove the \"Airport\" description in front of `name`, we are left with a string which describes the observation and is suitable enough for use as entries under `municipality`."
   ]
  },
  {
   "cell_type": "code",
   "execution_count": 9,
   "metadata": {},
   "outputs": [
    {
     "data": {
      "text/html": [
       "<div>\n",
       "<style scoped>\n",
       "    .dataframe tbody tr th:only-of-type {\n",
       "        vertical-align: middle;\n",
       "    }\n",
       "\n",
       "    .dataframe tbody tr th {\n",
       "        vertical-align: top;\n",
       "    }\n",
       "\n",
       "    .dataframe thead th {\n",
       "        text-align: right;\n",
       "    }\n",
       "</style>\n",
       "<table border=\"1\" class=\"dataframe\">\n",
       "  <thead>\n",
       "    <tr style=\"text-align: right;\">\n",
       "      <th></th>\n",
       "      <th>id</th>\n",
       "      <th>ident</th>\n",
       "      <th>type</th>\n",
       "      <th>name</th>\n",
       "      <th>latitude_deg</th>\n",
       "      <th>longitude_deg</th>\n",
       "      <th>region_name</th>\n",
       "      <th>municipality</th>\n",
       "    </tr>\n",
       "  </thead>\n",
       "  <tbody>\n",
       "    <tr>\n",
       "      <th>25</th>\n",
       "      <td>4969</td>\n",
       "      <td>DN55</td>\n",
       "      <td>small_airport</td>\n",
       "      <td>Eket Airport</td>\n",
       "      <td>4.642182</td>\n",
       "      <td>7.94904</td>\n",
       "      <td>Akwa Ibom</td>\n",
       "      <td>NaN</td>\n",
       "    </tr>\n",
       "    <tr>\n",
       "      <th>26</th>\n",
       "      <td>4970</td>\n",
       "      <td>DN56</td>\n",
       "      <td>small_airport</td>\n",
       "      <td>Escravos Airport</td>\n",
       "      <td>5.61673</td>\n",
       "      <td>5.188485</td>\n",
       "      <td>Delta</td>\n",
       "      <td>NaN</td>\n",
       "    </tr>\n",
       "    <tr>\n",
       "      <th>27</th>\n",
       "      <td>4967</td>\n",
       "      <td>DN53</td>\n",
       "      <td>small_airport</td>\n",
       "      <td>Kaduna Old Airport</td>\n",
       "      <td>10.598899841308594</td>\n",
       "      <td>7.448709964752197</td>\n",
       "      <td>Kaduna</td>\n",
       "      <td>NaN</td>\n",
       "    </tr>\n",
       "    <tr>\n",
       "      <th>28</th>\n",
       "      <td>4966</td>\n",
       "      <td>DN51</td>\n",
       "      <td>small_airport</td>\n",
       "      <td>Ajaokuta Airport</td>\n",
       "      <td>7.457240104675293</td>\n",
       "      <td>6.461130142211914</td>\n",
       "      <td>Kogi</td>\n",
       "      <td>NaN</td>\n",
       "    </tr>\n",
       "    <tr>\n",
       "      <th>29</th>\n",
       "      <td>4965</td>\n",
       "      <td>DN50</td>\n",
       "      <td>small_airport</td>\n",
       "      <td>Shiroro Airport</td>\n",
       "      <td>9.884650230407715</td>\n",
       "      <td>6.818630218505859</td>\n",
       "      <td>Niger</td>\n",
       "      <td>NaN</td>\n",
       "    </tr>\n",
       "    <tr>\n",
       "      <th>30</th>\n",
       "      <td>42464</td>\n",
       "      <td>NG-0002</td>\n",
       "      <td>small_airport</td>\n",
       "      <td>Kainji</td>\n",
       "      <td>9.892666816711426</td>\n",
       "      <td>4.485443592071533</td>\n",
       "      <td>Niger</td>\n",
       "      <td>NaN</td>\n",
       "    </tr>\n",
       "    <tr>\n",
       "      <th>36</th>\n",
       "      <td>42463</td>\n",
       "      <td>NG-0001</td>\n",
       "      <td>closed</td>\n",
       "      <td>Agbara-Otor</td>\n",
       "      <td>5.529193878173828</td>\n",
       "      <td>6.058831214904785</td>\n",
       "      <td>Delta</td>\n",
       "      <td>NaN</td>\n",
       "    </tr>\n",
       "  </tbody>\n",
       "</table>\n",
       "</div>"
      ],
      "text/plain": [
       "       id    ident           type                name        latitude_deg  \\\n",
       "25   4969     DN55  small_airport        Eket Airport            4.642182   \n",
       "26   4970     DN56  small_airport    Escravos Airport             5.61673   \n",
       "27   4967     DN53  small_airport  Kaduna Old Airport  10.598899841308594   \n",
       "28   4966     DN51  small_airport    Ajaokuta Airport   7.457240104675293   \n",
       "29   4965     DN50  small_airport     Shiroro Airport   9.884650230407715   \n",
       "30  42464  NG-0002  small_airport              Kainji   9.892666816711426   \n",
       "36  42463  NG-0001         closed         Agbara-Otor   5.529193878173828   \n",
       "\n",
       "        longitude_deg region_name municipality  \n",
       "25            7.94904   Akwa Ibom          NaN  \n",
       "26           5.188485       Delta          NaN  \n",
       "27  7.448709964752197      Kaduna          NaN  \n",
       "28  6.461130142211914        Kogi          NaN  \n",
       "29  6.818630218505859       Niger          NaN  \n",
       "30  4.485443592071533       Niger          NaN  \n",
       "36  6.058831214904785       Delta          NaN  "
      ]
     },
     "execution_count": 9,
     "metadata": {},
     "output_type": "execute_result"
    }
   ],
   "source": [
    "airports[airports.municipality.isnull()]"
   ]
  },
  {
   "cell_type": "code",
   "execution_count": 10,
   "metadata": {},
   "outputs": [
    {
     "data": {
      "text/plain": [
       "25          Eket \n",
       "26      Escravos \n",
       "27    Kaduna Old \n",
       "28      Ajaokuta \n",
       "29       Shiroro \n",
       "30         Kainji\n",
       "36    Agbara-Otor\n",
       "Name: name, dtype: object"
      ]
     },
     "execution_count": 10,
     "metadata": {},
     "output_type": "execute_result"
    }
   ],
   "source": [
    "missingna = airports[airports.municipality.isnull()].name.str.replace('Airport' ,'')\n",
    "missingna"
   ]
  },
  {
   "cell_type": "code",
   "execution_count": 11,
   "metadata": {},
   "outputs": [
    {
     "data": {
      "text/html": [
       "<div>\n",
       "<style scoped>\n",
       "    .dataframe tbody tr th:only-of-type {\n",
       "        vertical-align: middle;\n",
       "    }\n",
       "\n",
       "    .dataframe tbody tr th {\n",
       "        vertical-align: top;\n",
       "    }\n",
       "\n",
       "    .dataframe thead th {\n",
       "        text-align: right;\n",
       "    }\n",
       "</style>\n",
       "<table border=\"1\" class=\"dataframe\">\n",
       "  <thead>\n",
       "    <tr style=\"text-align: right;\">\n",
       "      <th></th>\n",
       "      <th>id</th>\n",
       "      <th>ident</th>\n",
       "      <th>type</th>\n",
       "      <th>name</th>\n",
       "      <th>latitude_deg</th>\n",
       "      <th>longitude_deg</th>\n",
       "      <th>region_name</th>\n",
       "      <th>municipality</th>\n",
       "    </tr>\n",
       "  </thead>\n",
       "  <tbody>\n",
       "    <tr>\n",
       "      <th>24</th>\n",
       "      <td>2123</td>\n",
       "      <td>DNZA</td>\n",
       "      <td>medium_airport</td>\n",
       "      <td>Zaria Airport</td>\n",
       "      <td>11.1302</td>\n",
       "      <td>7.68581</td>\n",
       "      <td>Kaduna</td>\n",
       "      <td>Zaria</td>\n",
       "    </tr>\n",
       "    <tr>\n",
       "      <th>8</th>\n",
       "      <td>2117</td>\n",
       "      <td>DNMK</td>\n",
       "      <td>medium_airport</td>\n",
       "      <td>Makurdi Airport</td>\n",
       "      <td>7.70388</td>\n",
       "      <td>8.61394</td>\n",
       "      <td>Benue</td>\n",
       "      <td>Makurdi</td>\n",
       "    </tr>\n",
       "    <tr>\n",
       "      <th>28</th>\n",
       "      <td>4966</td>\n",
       "      <td>DN51</td>\n",
       "      <td>small_airport</td>\n",
       "      <td>Ajaokuta Airport</td>\n",
       "      <td>7.457240104675293</td>\n",
       "      <td>6.461130142211914</td>\n",
       "      <td>Kogi</td>\n",
       "      <td>Ajaokuta</td>\n",
       "    </tr>\n",
       "    <tr>\n",
       "      <th>36</th>\n",
       "      <td>42463</td>\n",
       "      <td>NG-0001</td>\n",
       "      <td>closed</td>\n",
       "      <td>Agbara-Otor</td>\n",
       "      <td>5.529193878173828</td>\n",
       "      <td>6.058831214904785</td>\n",
       "      <td>Delta</td>\n",
       "      <td>Agbara-Otor</td>\n",
       "    </tr>\n",
       "    <tr>\n",
       "      <th>45</th>\n",
       "      <td>300565</td>\n",
       "      <td>NG-0004</td>\n",
       "      <td>small_airport</td>\n",
       "      <td>Port Harcourt City Airport</td>\n",
       "      <td>4.846111111110001</td>\n",
       "      <td>7.021388888890001</td>\n",
       "      <td>Rivers</td>\n",
       "      <td>Port Harcourt</td>\n",
       "    </tr>\n",
       "  </tbody>\n",
       "</table>\n",
       "</div>"
      ],
      "text/plain": [
       "        id    ident            type                        name  \\\n",
       "24    2123     DNZA  medium_airport               Zaria Airport   \n",
       "8     2117     DNMK  medium_airport             Makurdi Airport   \n",
       "28    4966     DN51   small_airport            Ajaokuta Airport   \n",
       "36   42463  NG-0001          closed                 Agbara-Otor   \n",
       "45  300565  NG-0004   small_airport  Port Harcourt City Airport   \n",
       "\n",
       "         latitude_deg      longitude_deg region_name   municipality  \n",
       "24            11.1302            7.68581      Kaduna          Zaria  \n",
       "8             7.70388            8.61394       Benue        Makurdi  \n",
       "28  7.457240104675293  6.461130142211914        Kogi      Ajaokuta   \n",
       "36  5.529193878173828  6.058831214904785       Delta    Agbara-Otor  \n",
       "45  4.846111111110001  7.021388888890001      Rivers  Port Harcourt  "
      ]
     },
     "execution_count": 11,
     "metadata": {},
     "output_type": "execute_result"
    }
   ],
   "source": [
    "airports.loc[airports.municipality.isnull(), 'municipality'] = missingna\n",
    "airports.iloc[random.sample(list(airports.index), 5)] #Display a random sample of five airports"
   ]
  },
  {
   "cell_type": "markdown",
   "metadata": {},
   "source": [
    "The types of attributes `latitude_deg` and `longitude_deg` are `object` and should be changed to `float` types."
   ]
  },
  {
   "cell_type": "code",
   "execution_count": 12,
   "metadata": {},
   "outputs": [
    {
     "data": {
      "text/plain": [
       "id               object\n",
       "ident            object\n",
       "type             object\n",
       "name             object\n",
       "latitude_deg     object\n",
       "longitude_deg    object\n",
       "region_name      object\n",
       "municipality     object\n",
       "dtype: object"
      ]
     },
     "execution_count": 12,
     "metadata": {},
     "output_type": "execute_result"
    }
   ],
   "source": [
    "airports.dtypes"
   ]
  },
  {
   "cell_type": "code",
   "execution_count": 13,
   "metadata": {},
   "outputs": [],
   "source": [
    "airports.latitude_deg = airports.latitude_deg.astype(float)\n",
    "airports.longitude_deg = airports.longitude_deg.astype(float)\n",
    "airports.name = airports.name.astype(str)"
   ]
  },
  {
   "cell_type": "markdown",
   "metadata": {},
   "source": [
    "We define the variable `AIRPORTS` which hold the longitude and latitude for each airport. We also define a random path, `RANDOM_PATH`, through all airports in the country. This `RANDOM_PATH` is the initial path randomly determined."
   ]
  },
  {
   "cell_type": "code",
   "execution_count": 14,
   "metadata": {},
   "outputs": [],
   "source": [
    "AIRPORTS = [tuple(i) for i in airports[['latitude_deg', 'longitude_deg']].values.tolist()]\n",
    "RANDOM_PATH = list(range(len(AIRPORTS)))\n",
    "random.shuffle(RANDOM_PATH)"
   ]
  },
  {
   "cell_type": "markdown",
   "metadata": {},
   "source": [
    "`plot_path` plots the path from one airport to the other defined according to the parameters, `path` and `points`. `path` describes the path followed, while `points` define the longitude and latitude for each airport station."
   ]
  },
  {
   "cell_type": "code",
   "execution_count": 15,
   "metadata": {},
   "outputs": [],
   "source": [
    "def plotPath(path, points):\n",
    "    fig = plt.figure(figsize=(8, 8))\n",
    "    m = Basemap(projection='lcc', \n",
    "                lat_0=8, lon_0=8,\n",
    "                width=1.5E6, height=1.5E6)\n",
    "    m.drawcoastlines(color='black')\n",
    "    m.drawcountries(color='black')\n",
    "    m.drawstates(color='black')\n",
    "    lat, lon = list(zip(*points))\n",
    "    lat = np.array(lat)\n",
    "    lon = np.array(lon)\n",
    "    m.plot(lon[path], lat[path],\n",
    "             latlon=True,\n",
    "             marker='o',\n",
    "             markersize=4,\n",
    "             linewidth=0.5)"
   ]
  },
  {
   "cell_type": "markdown",
   "metadata": {},
   "source": [
    "The initial random path `RANDOM_PATH` through all airports is visualized below."
   ]
  },
  {
   "cell_type": "code",
   "execution_count": 16,
   "metadata": {},
   "outputs": [
    {
     "data": {
      "image/png": "[encoded data removed]",
      "text/plain": [
       "<Figure size 576x576 with 1 Axes>"
      ]
     },
     "metadata": {},
     "output_type": "display_data"
    }
   ],
   "source": [
    "plotPath(RANDOM_PATH, AIRPORTS)"
   ]
  },
  {
   "cell_type": "markdown",
   "metadata": {},
   "source": [
    "We use the helper function `calcDistance` to determine the distance between any two airports using their respective longitude and latitude in degrees. This will help in calculating the cumulative distance of the tour through the airports as we walk through whatever path. Any tour starts at airport `A`, walks through all airports in the country, and ends again at airport `A`. `calcDistance` obtains the distance between any airport `A` and `B`.\n",
    "\n",
    "`calcPathDistance` calculates the total tour distance starting from airport `A`. This is defined as:\n",
    "\n",
    "$$(\\sum_{i}^{n-1}{dist(X_i, X_{i+1})}) + dist(X_n, X_0)$$\n",
    "\n",
    "The extra addition term closes the loop in the tour so that the traveler ends at airport `A`."
   ]
  },
  {
   "cell_type": "code",
   "execution_count": 17,
   "metadata": {},
   "outputs": [],
   "source": [
    "def calcDistance(airport_a, airport_b):\n",
    "    '''\n",
    "    Calculates the distance between airport A and airport B\n",
    "    '''\n",
    "    import math\n",
    "    \n",
    "    lat1, lon1 = airport_a\n",
    "    lat2, lon2 = airport_b\n",
    "\n",
    "    R = 6371e3\n",
    "    phi_1 = lat1 * math.pi/180\n",
    "    phi_2 = lat2 * math.pi/180\n",
    "\n",
    "    delta_phi = (lat2-lat1) * math.pi/180\n",
    "    delta_lambda = (lon2-lon1) * math.pi/180\n",
    "\n",
    "    a = math.sin(delta_phi/2) * math.sin(delta_phi/2) + \\\n",
    "    math.cos(phi_1) * math.cos(phi_2) * \\\n",
    "    math.sin(delta_lambda/2) * math.sin(delta_lambda/2)\n",
    "\n",
    "    c = 2 * math.atan2(math.sqrt(a), math.sqrt(1-a))\n",
    "    d = R * c\n",
    "    return d\n",
    "\n",
    "def calcPathDistance(path, airports):\n",
    "    '''\n",
    "    Determine distance of tour through airports\n",
    "    Any tour starts at path[0] and ends at path[0]\n",
    "    after going through all airports in the country.\n",
    "    Returns total distance.\n",
    "    '''\n",
    "    sum_ = 0\n",
    "    i=0\n",
    "    while i < len(path)-1:\n",
    "        sum_ += calcDistance(airports[path[i]], airports[path[i+1]])\n",
    "        i+=1\n",
    "    sum_ += calcDistance(airports[path[i]], airports[path[0]])\n",
    "    return sum_"
   ]
  },
  {
   "cell_type": "code",
   "execution_count": 18,
   "metadata": {},
   "outputs": [
    {
     "name": "stdout",
     "output_type": "stream",
     "text": [
      " Total distance covered following initial random tour is 22406.13366515736 km and starts/ends at Escravos Airport\n"
     ]
    }
   ],
   "source": [
    "print (f\" Total distance covered following initial random tour is {calcPathDistance(RANDOM_PATH, AIRPORTS) / 1e3} km \\\n",
    "and starts/ends at {airports.iloc[RANDOM_PATH[0]]['name']}\")"
   ]
  },
  {
   "cell_type": "markdown",
   "metadata": {},
   "source": [
    "As expected, the path followed by `RANDOM_PATH` is not optimal and lasts about 21577km. This tour starts and ends at Escravos Airport.\n",
    "\n",
    "We now use simulated annealing to obtain a optimal path through all the airports. We expect that this will produce a significantly shorter tour than that afforded by `RANDOM_PATH`."
   ]
  },
  {
   "cell_type": "markdown",
   "metadata": {},
   "source": [
    "We implement another helper function, `swapAirports`, which swaps two airports present in a path. This function takes as input a `path` and two additional integers, `i` and `j`, which represent the indices of the two airports to be swapped. The function returns a new path variable which has the swapped airports present. Swapping changes the state of the path and allows us to obtain a new distance value which we can check if is any better than the older one."
   ]
  },
  {
   "cell_type": "code",
   "execution_count": 19,
   "metadata": {},
   "outputs": [],
   "source": [
    "def swapAirports(path, i, j):\n",
    "    path_copy = path.copy()\n",
    "    path_copy[i], path_copy[j] = path_copy[j], path_copy[i]\n",
    "    return path_copy"
   ]
  },
  {
   "cell_type": "markdown",
   "metadata": {},
   "source": [
    "The next function, `acceptanceProbability`, computes the value of $p$ in the SA algorithm. This is the probability of accepting a solution. If the new solution is strictly better than the old one, i.e. if $new\\_distance < old\\_distance$, we accept the new distance value. Here $p$ evaluates to 1. If the new solution is equal to or worse than the old distance, i.e. $new\\_distance \\le old\\_distance$, then the probability that we will accept it is less than or equal to 1. The expression for determining this probability value is given as:\n",
    "\n",
    "$$p = exp^{\\frac{old\\_distance-new\\_distance}{k}}$$\n",
    "\n",
    "$old\\_distance$ is the distance derived using the original path, while $new\\_distance$ is obtained from the new path. $k$ is the temperature of the system.\n",
    "\n",
    "While $k$ is high, $p = exp^{\\frac{old\\_distance-new\\_distance}{k}}$ evaluates more often to higher values of $p$, so that we are more likely to accept even worse solutions and therefore adequately explore the solution space. As the temperature cools, or $k$ reduces in value, the algorithm becomes less likely to accept worse solutions. This is because if $(old\\_distance-new\\_distance)$ evaluates to higher negative values and $k$ is low, we obtain values of $p$ much closer to zero and as a result a distance update will not occur. $new\\_distance$ values which however produce smaller deviations from $old\\_distance$ are likely to be accepted."
   ]
  },
  {
   "cell_type": "code",
   "execution_count": 20,
   "metadata": {},
   "outputs": [],
   "source": [
    "def acceptanceProbability(old_distance, new_distance, k):\n",
    "    '''\n",
    "    Determine probability associated with new distance value obtained\n",
    "    Returns probability (0<=p<=1)\n",
    "    '''\n",
    "    if new_distance < old_distance:\n",
    "        p = 1\n",
    "    else:\n",
    "        p = np.exp((old_distance - new_distance) / k )\n",
    "    return p"
   ]
  },
  {
   "cell_type": "markdown",
   "metadata": {},
   "source": [
    "We will now implement the SA algorithm using all the functions defined. We start with a random path of the airports, `RANDOM_PATH`. Next, we iterate over a sequence of temperature which starts at 100,000 and decreases logarithmically to 1.\n",
    "\n",
    "At each temperature iteration, we\n",
    "- Randomly swap two airports in a path\n",
    "- If the newly created path is strictly shorter, we accept it. Else, we accept it only with probability $p$.\n",
    "- In accepting a new distance if it is greater than the older value, we threshold the acceptance probability, $p$, by emulating the flipping a biased coin.\n",
    "\n",
    "We start out with `RANDOM_PATH`, which is a tour around all airports with each stop randomly determined."
   ]
  },
  {
   "cell_type": "code",
   "execution_count": 21,
   "metadata": {},
   "outputs": [
    {
     "name": "stdout",
     "output_type": "stream",
     "text": [
      "Final path: [41, 25, 5, 27, 43, 28, 22, 10, 38, 29, 9, 34, 15, 0, 20, 32, 16, 36, 30, 18, 31, 19, 7, 37, 14, 1, 26, 4, 23, 33, 3, 39, 12, 13, 42, 45, 11, 8, 24, 40, 44, 2, 21, 17, 35, 6]\n",
      "The length of this path: 6734780.8694959525\n"
     ]
    },
    {
     "data": {
      "image/png": "[encoded data removed]",
      "text/plain": [
       "<Figure size 576x576 with 1 Axes>"
      ]
     },
     "metadata": {},
     "output_type": "display_data"
    }
   ],
   "source": [
    "path = RANDOM_PATH\n",
    "for k in np.logspace(0, 5, num=100000)[::-1]:\n",
    "    dist = calcPathDistance(path, AIRPORTS)\n",
    "    i = np.random.choice(path)\n",
    "    j = np.random.choice(list(set(path)-{i}))\n",
    "    i, j = int(i), int(j)\n",
    "    new_path = swapAirports(path, i, j)\n",
    "    new_dist = calcPathDistance(new_path, AIRPORTS)\n",
    "    proba = acceptanceProbability(dist, new_dist, k)\n",
    "    if proba > (sum([np.random.random() >= 0.3 for _ in range(20)]) / 20):\n",
    "        path = new_path\n",
    "    else:\n",
    "        path = path\n",
    "\n",
    "\n",
    "print(\"Final path: {}\".format(path))\n",
    "print(\"The length of this path: {}\".format(calcPathDistance(path, AIRPORTS)))\n",
    "plotPath(path, AIRPORTS)"
   ]
  },
  {
   "cell_type": "markdown",
   "metadata": {},
   "source": [
    "We manage to find a shorter tour through the airports which lasts 6734km, significantly less than the tour obtained from `RANDOM_PATH`. We have achieved this using the simulated annealing optimization routine. As `k` reduces in value, we accept poorer solutions less and are more likely to keep the solution good.\n",
    "\n",
    "We can see this using the routine below which assembles the different paths and distances as we go through the optimization routine. This routine obtains decreasing indices of the `path` and `distance` values in order to see how they change over time as the optimization attempt converges to our value of the shortest tour. We use several images to create a gif file.\n",
    "\n",
    "It is immediately noticeable that the algorithm converges to an answer very fast in the first few iterations. Subsequently, there is not a lot of change in the answer obtained over the next iterations. By this time, only little changes are made to the answer, with the algorithm less likely to accept a worse solution as the \"temperature\" cools."
   ]
  },
  {
   "cell_type": "markdown",
   "metadata": {},
   "source": [
    "  <p align=\"center\">\n",
    "    <img src=\"./data/4sthfk.gif\" width=\"800\">\n",
    "    <br>\n",
    "  </p> "
   ]
  },
  {
   "cell_type": "markdown",
   "metadata": {},
   "source": [
    "The code below produces the sequence of images"
   ]
  },
  {
   "cell_type": "code",
   "execution_count": 25,
   "metadata": {},
   "outputs": [],
   "source": [
    "path = RANDOM_PATH\n",
    "all_paths = []\n",
    "distt = []\n",
    "for k in np.logspace(0, 5, num=100000)[::-1]:\n",
    "    dist = calcPathDistance(path, AIRPORTS)\n",
    "    all_paths.append(path)\n",
    "    temps.append(k)\n",
    "    distt.append(dist)\n",
    "    i = np.random.choice(path)\n",
    "    j = np.random.choice(list(set(path)-{i}))\n",
    "    i, j = int(i), int(j)\n",
    "    new_path = swapAirports(path, i, j)\n",
    "    new_dist = calcPathDistance(new_path, AIRPORTS)\n",
    "    proba = acceptanceProbability(dist, new_dist, k)\n",
    "    prob_.append(proba)\n",
    "    \n",
    "    if proba > (sum([np.random.random() >= 0.3 for _ in range(20)]) / 20):\n",
    "        path = new_path\n",
    "    else:\n",
    "        path = path"
   ]
  },
  {
   "cell_type": "code",
   "execution_count": 31,
   "metadata": {},
   "outputs": [],
   "source": [
    "#Obtain decreasing indices of 0 to 3999\n",
    "ind = []\n",
    "k = 400\n",
    "xx = list(range(4000))\n",
    "for i in range(0,len(xx),400):\n",
    "    ind += sorted(random.sample(xx[i:i+k], k))\n",
    "    k -= 40\n",
    "    \n",
    "new_paths = np.array(all_paths[::25])[ind] #index path\n",
    "new_distt = np.array(distt[::25])[ind] #index distance"
   ]
  },
  {
   "cell_type": "code",
   "execution_count": 35,
   "metadata": {},
   "outputs": [],
   "source": [
    "############\n",
    "## This algorithm creates several images which are merged together\n",
    "## to obtain the gif file shown below\n",
    "############\n",
    "\n",
    "# for i, j in enumerate(zip(new_paths, new_distt)):\n",
    "#     if i < 2125:\n",
    "#         continue\n",
    "#     path, new_dist = j\n",
    "#     fig, ax = plt.subplots(1,2,figsize=(25, 12))\n",
    "#     m = Basemap(projection='lcc', \n",
    "#                 lat_0=8, lon_0=8,\n",
    "#                 width=1.5E6, height=1.5E6)\n",
    "#     m.drawcoastlines(color='black')\n",
    "#     m.drawcountries(color='black')\n",
    "#     m.drawstates(color='black')\n",
    "#     lat, lon = list(zip(*AIRPORTS))\n",
    "#     lat = np.array(lat)\n",
    "#     lon = np.array(lon)\n",
    "#     m.plot(lon[path], lat[path],\n",
    "#              latlon=True,\n",
    "#              marker='o',\n",
    "#              markersize=4,\n",
    "#              linewidth=0.5, ax=ax[1])\n",
    "#     ax[0].plot(new_distt)\n",
    "#     ax[0].scatter(i, new_distt[i])\n",
    "#     ax[0].annotate('Total distance covered:\\n{} km'.format(round(new_dist/1000, 2)), xy=(1000,1.4e7), fontsize=30)\n",
    "#     plt.tight_layout()\n",
    "#     plt.savefig('download{}.png'.format(i))\n",
    "#     plt.clf()"
   ]
  },
  {
   "cell_type": "code",
   "execution_count": null,
   "metadata": {},
   "outputs": [],
   "source": []
  }
 ],
 "metadata": {
  "kernelspec": {
   "display_name": "Python 3",
   "language": "python",
   "name": "python3"
  },
  "language_info": {
   "codemirror_mode": {
    "name": "ipython",
    "version": 3
   },
   "file_extension": ".py",
   "mimetype": "text/x-python",
   "name": "python",
   "nbconvert_exporter": "python",
   "pygments_lexer": "ipython3",
   "version": "3.8.3"
  }
 },
 "nbformat": 4,
 "nbformat_minor": 4
}
