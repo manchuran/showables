{
 "cells": [
  {
   "cell_type": "markdown",
   "metadata": {},
   "source": [
    "### Shortest Path Between Nodes in A Network"
   ]
  },
  {
   "cell_type": "markdown",
   "metadata": {},
   "source": [
    "We consider solving the shortest path problem for the following network, using the Bellman’s equation. The\n",
    "number on each arc is the length of that arc, which could be negative. Write down the shortest\n",
    "distance $d(j)$ from node 1 to node $j$ for each $j$."
   ]
  },
  {
   "cell_type": "markdown",
   "metadata": {},
   "source": [
    "<img src=\"https://raw.githubusercontent.com/manchuran/showables/master/notebooks/13_shortest_path/path.PNG\">"
   ]
  },
  {
   "cell_type": "markdown",
   "metadata": {},
   "source": [
    "We consider solving this problem with two approaches.\n",
    "1. Using Bellman's algorithm\n",
    "2. Using CVXPY\n"
   ]
  },
  {
   "cell_type": "markdown",
   "metadata": {},
   "source": [
    "Using Bellman's algorithm, we approach the problem as a dynamic programming problem where the edges can take a negative weight.\n",
    "\n",
    "If $d(j)$ denotes the length of some directed path from source node $s$, which is node 1, to any node $j$, then $d(j)$'s are the shortest path distances if and only if they satisfy the following shortest path optimality conditions: \n",
    "\n",
    "$$d(j) \\leq d(i) + c_{ij}, \\: \\forall \\:(i,j) \\in A$$."
   ]
  },
  {
   "cell_type": "code",
   "execution_count": 206,
   "metadata": {},
   "outputs": [
    {
     "name": "stdout",
     "output_type": "stream",
     "text": [
      "Vertex\tDistance From Src\n",
      "1\t0\n",
      "2\t4\n",
      "3\t5\n",
      "4\t2\n",
      "5\t3\n",
      "6\t4\n"
     ]
    }
   ],
   "source": [
    "#Define edges and weights as (i, j, w) for each (i,j) in E with weight w\n",
    "V = [(0,1,4),\n",
    "    (0,2,5),\n",
    "    (0,3,4),\n",
    "    (1,2,1),\n",
    "    (1,3,-2),\n",
    "    (2,3,2),\n",
    "    (2,4,6),\n",
    "    (2,5,6),\n",
    "    (3,4,1),\n",
    "    (3,5,2),\n",
    "    (4,5,5)]\n",
    "\n",
    "n=6 #Number of nodes\n",
    "src=0 #Source node\n",
    "\n",
    "distances = [float(\"inf\")]*n #Initialize all initial distances to infinity\n",
    "distances[src]=0 #Set distance to source node to 0\n",
    "\n",
    "for _ in range(len(V)-1):\n",
    "    for i,j,k in V:\n",
    "        if distances[i] != float(\"inf\") and distances[i]+k<distances[j]:\n",
    "            distances[j] =distances[i]+k\n",
    "            \n",
    "for i,j,k in V:\n",
    "    if distances[i] != float(\"inf\") and distances[i]+k<distances[j]:\n",
    "        print(\"Negative cycles present\")\n",
    "\n",
    "print(\"Vertex\\tDistance From Src\")\n",
    "for i in range(len(distances)):\n",
    "    print(f\"{i+1}\\t{distances[i]}\")"
   ]
  },
  {
   "cell_type": "markdown",
   "metadata": {},
   "source": [
    "<img src=\"https://raw.githubusercontent.com/manchuran/showables/master/notebooks/13_shortest_path/bellman.PNG\" width=\"500px\">"
   ]
  },
  {
   "cell_type": "markdown",
   "metadata": {},
   "source": [
    "We show a table and a diagram of the final results above"
   ]
  },
  {
   "cell_type": "code",
   "execution_count": null,
   "metadata": {},
   "outputs": [],
   "source": []
  },
  {
   "cell_type": "markdown",
   "metadata": {},
   "source": [
    "We can also solve the same problem using linear programming. We use `CVXPY` for this task. Because of the nature of problem formulation, we can only design the LP problem for one task at a time. Below, we design the problem to find the shortest distance from node 1 to node 6. Determining the distance to any other node is a matter of simply reformulating the LP problem."
   ]
  },
  {
   "cell_type": "code",
   "execution_count": 207,
   "metadata": {},
   "outputs": [
    {
     "name": "stdout",
     "output_type": "stream",
     "text": [
      "Optimal value 4.0\n",
      "Optimal var\n",
      "[[0. 1. 0. 0. 0. 0.]\n",
      " [0. 0. 0. 1. 0. 0.]\n",
      " [0. 0. 0. 0. 0. 0.]\n",
      " [0. 0. 0. 0. 0. 1.]\n",
      " [0. 0. 0. 0. 0. 0.]\n",
      " [0. 0. 0. 0. 0. 0.]]\n"
     ]
    }
   ],
   "source": [
    "n=6\n",
    "\n",
    "C = numpy.array([[0,4,5,4,0,0],[0,0,1,-2,0,0],[0,0,0,2,6,6],[0,0,0,0,1,2],[0,0,0,0,0,5],\n",
    "                [0,0,0,0,0,0]])\n",
    "x = cp.Variable((n,n), integer=True)\n",
    "\n",
    "constraints = [0 <= x, x <= 1, x[0,1]+x[0,2]+x[0,3] == 1,\n",
    "              x[1,3]+x[1,2]==x[0,1],\n",
    "              x[0,2]+x[1,2]==x[2,3],\n",
    "              x[0,2]+x[1,2]==x[2,3],\n",
    "              x[0,3]+x[1,3]+x[2,3]==x[3,4]+x[3,5],\n",
    "              x[3,4]+x[2,4]==x[4,5],\n",
    "               x[3,5]+x[4,5]+x[2,5]==1]\n",
    "# constraints = [0 <= x, x <= 1, x[0,1]== 7]\n",
    "\n",
    "objective = cp.Minimize(cp.sum(cp.hstack(C) @ cp.hstack(x).T))\n",
    "\n",
    "prob = cp.Problem(objective, constraints)\n",
    "\n",
    "print(\"Optimal value\", prob.solve())\n",
    "print(\"Optimal var\")\n",
    "print(x.value) # A numpy ndarray."
   ]
  },
  {
   "cell_type": "markdown",
   "metadata": {},
   "source": [
    "We obtain the matrix above which recommends traversing the graph as below:\n",
    "\n",
    "$Edge(1,2) --> Edge(2,4) --> Edge(4,6)$\n",
    "\n",
    "This yields an optimal value of 4 at the node 6."
   ]
  },
  {
   "cell_type": "code",
   "execution_count": null,
   "metadata": {},
   "outputs": [],
   "source": []
  }
 ],
 "metadata": {
  "kernelspec": {
   "display_name": "Python 3",
   "language": "python",
   "name": "python3"
  },
  "language_info": {
   "codemirror_mode": {
    "name": "ipython",
    "version": 3
   },
   "file_extension": ".py",
   "mimetype": "text/x-python",
   "name": "python",
   "nbconvert_exporter": "python",
   "pygments_lexer": "ipython3",
   "version": "3.8.3"
  }
 },
 "nbformat": 4,
 "nbformat_minor": 4
}
