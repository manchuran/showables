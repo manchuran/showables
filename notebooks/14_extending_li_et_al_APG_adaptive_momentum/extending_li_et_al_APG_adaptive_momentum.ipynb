{
 "cells": [
  {
   "cell_type": "code",
   "execution_count": null,
   "metadata": {
    "id": "lIYdn1woOS1n"
   },
   "outputs": [],
   "source": [
    "import numpy as np\n",
    "import pandas as pd\n",
    "import matplotlib.pyplot as plt\n",
    "plt.rcParams['figure.figsize'] = (12.0, 9.0)\n",
    "import time\n",
    "from prettytable import PrettyTable"
   ]
  },
  {
   "cell_type": "markdown",
   "metadata": {
    "id": "oIiMw1us9tyj"
   },
   "source": [
    "## Introduction"
   ]
  },
  {
   "cell_type": "markdown",
   "metadata": {
    "id": "x-gKJna38VM0"
   },
   "source": [
    "We have define the proximal gradient as $\\frac{1}{\\eta_k}[x_k - \\text{prox}_{\\eta_k g}(x_k - \\eta_k ∇f(x_k))]$ (according to the lecture notes) and have used this as a stopping criterion.\n",
    "\n",
    "In the following sections, we implement the proximal gradient algorithm (as described in the lecture notes) and the APG variants described in the Paper (Liu et al, 2017). These APG variants are `APG`, monotone APG (`mAPG`), APG for nonconvex programming (`APGnc`), the variant proposed in Section 3.2, `APGncp`, and finally, my modification to APGnp, which is `mAPGnp`.\n",
    "\n",
    "I extract the function values in each case and make a plot of function values against iteration number. The duration of each algorithm is also recorded. I used a Windows 7 with Intel Core i5-1035G4 CPU @ 1.10GHz with installed RAM of 8.00GB."
   ]
  },
  {
   "cell_type": "markdown",
   "metadata": {
    "id": "YSOsH0fB9rnv"
   },
   "source": [
    "## Function Implementations"
   ]
  },
  {
   "cell_type": "code",
   "execution_count": 164,
   "metadata": {
    "id": "5CJB0h_R8Yvb"
   },
   "outputs": [],
   "source": [
    "#Proximal gradient algorithm\n",
    "\n",
    "def proxgrad(F, gradf, proxg, L, ell, \n",
    "             x0, tol, maxit):\n",
    "  x =x0\n",
    "  alpha = 1/L\n",
    "  gx = np.inf\n",
    "  k, numit=0,0\n",
    "  \n",
    "  ##Added for convenience\n",
    "  F_vals = []\n",
    "  times = []\n",
    "  ###Added\n",
    "\n",
    "\n",
    "  while np.linalg.norm(gx) > tol and k <maxit:\n",
    "\n",
    "    ##Added\n",
    "    start_time = time.time()\n",
    "    F_vals.append((F(x),k))\n",
    "    #Added\n",
    "\n",
    "    \n",
    "    yx = x - alpha*gradf(x)\n",
    "    px = proxg(yx)\n",
    "    #print(px)\n",
    "    gx = (1/alpha)*(x - px) #proximal gradient\n",
    "    x = x - alpha*gx\n",
    "    numit+=1\n",
    "    k+=1\n",
    "    #print(f\"Fz={F(x)}; k={k}; norm={np.linalg.norm(gx)}\")\n",
    "    ##Added\n",
    "    end_time = time.time()\n",
    "    times.append(end_time-start_time)\n",
    "  #return x, k, F_vals, times\n",
    "    #Added\n",
    "  if np.linalg.norm(gx) > tol:\n",
    "    return x, maxit+1, F_vals, times \n",
    "  return x, k, F_vals, times"
   ]
  },
  {
   "cell_type": "code",
   "execution_count": 165,
   "metadata": {
    "id": "Fa86LsTY9qnm"
   },
   "outputs": [],
   "source": [
    "def apg(F, gradf, proxg, L, x0, tol, maxit):\n",
    "  x=x0\n",
    "  tempx=x\n",
    "  y=x0\n",
    "\n",
    "  eta = 1/L\n",
    "  t0=0\n",
    "  t1=1\n",
    "  gx = np.inf\n",
    "  k=0\n",
    "\n",
    "  ##Added for convenience\n",
    "  F_vals = []\n",
    "  times = []\n",
    "  ###Added\n",
    "\n",
    "\n",
    "  while np.linalg.norm(gx) > tol and k <maxit:\n",
    "\n",
    "    ##Added\n",
    "    start_time = time.time()\n",
    "    F_vals.append((F(x),k))\n",
    "    #Added\n",
    "\n",
    "    \n",
    "    y = x + (t0-1)/t1 * (x - tempx)\n",
    "    tempx=x\n",
    "    \n",
    "    yx = y - eta*gradf(y)\n",
    "    px = proxg(yx)\n",
    "    gx = (1/eta)*(y-px) #proximal gradient\n",
    "    x = y - eta*gx\n",
    "    t0=t1\n",
    "    t1=(np.sqrt(4*t0**2 + 1) + 1) / 2\n",
    "    k+=1\n",
    "\n",
    "    ##Added\n",
    "    end_time = time.time()\n",
    "    times.append(end_time-start_time)\n",
    "    ##Added\n",
    "  if np.linalg.norm(gx) > tol:\n",
    "    return x, maxit+1, F_vals, times\n",
    "  return x, k, F_vals, times"
   ]
  },
  {
   "cell_type": "code",
   "execution_count": 166,
   "metadata": {
    "id": "WfJWuJyH93l9"
   },
   "outputs": [],
   "source": [
    "#Montone APG\n",
    "\n",
    "def mapg(F, gradf, proxg, L, x0, tol, maxit):\n",
    "  x=x0 #x_1 = x_0\n",
    "  tempx=x\n",
    "  y=x0 #y_1 = x_0\n",
    "  z=x0\n",
    "\n",
    "  eta = 1/L\n",
    "  t0=0\n",
    "  t1=1\n",
    "  gx = np.inf\n",
    "  k=0\n",
    "\n",
    "  ##Added for convenience\n",
    "  F_vals = []\n",
    "  times = []\n",
    "  ###Added\n",
    "\n",
    "\n",
    "\n",
    "  while np.linalg.norm(gx) > tol and k <maxit:\n",
    "\n",
    "    ##Added\n",
    "    start_time = time.time()\n",
    "    F_vals.append((F(x),k))\n",
    "    #Added\n",
    "\n",
    "    \n",
    "    y = x + t0/t1 * (z - x) + (t0 -1)/t1 *(x - tempx)\n",
    "    tempx=x\n",
    "    \n",
    "    gy=(1/eta)*(y-proxg(y - eta*gradf(y)))\n",
    "    z = y - eta*(gy)\n",
    "    gx=(1/eta)*(x-proxg(x - eta*gradf(x)))\n",
    "    v = x - eta*(gx)\n",
    "\n",
    "    t0=t1\n",
    "    t1=(np.sqrt(4*t0**2 + 1) + 1) / 2\n",
    "    #print(f\"x={x}; z={z}; Fz={F(z)}; Fv={F(v)}\")\n",
    "    if F(z) <= F(v):\n",
    "      x = z\n",
    "    elif F(v) <= F(z):\n",
    "      x=v\n",
    "      \n",
    "    k+=1\n",
    "    ##Added\n",
    "    end_time = time.time()\n",
    "    times.append(end_time-start_time)\n",
    "    ##Added\n",
    "  if np.linalg.norm(gx) > tol:\n",
    "    return x, maxit+1, F_vals, times\n",
    "  return x, k, F_vals, times"
   ]
  },
  {
   "cell_type": "code",
   "execution_count": 167,
   "metadata": {
    "id": "YGESdaX196jX"
   },
   "outputs": [],
   "source": [
    "#APG non-convex\n",
    "\n",
    "def ncapg(F, gradf, proxg, L, x0, tol, maxit):\n",
    "  x=x0 #x_1 = x_0\n",
    "  tempx=x\n",
    "  y=x0 #y_1 = x_0\n",
    "  z=x0\n",
    "\n",
    "  eta = 1/L\n",
    "  #t0=0\n",
    "  #t1=1\n",
    "  gy = np.inf\n",
    "  k=0\n",
    "  \n",
    "  \n",
    "  ##Added for convenience\n",
    "  F_vals = []\n",
    "  times = []\n",
    "  ###Added\n",
    "\n",
    "\n",
    "  \n",
    "  while np.linalg.norm(gy) > tol and k <maxit:\n",
    "\n",
    "    ##Added\n",
    "    start_time = time.time()\n",
    "    F_vals.append((F(x),k))\n",
    "    #Added\n",
    "\n",
    "\n",
    "    gy=(1/eta)*(y-proxg(y - eta*gradf(y)))\n",
    "    x = y - eta*(gy)\n",
    "\n",
    "    betak = k / (k+3)\n",
    "    v = x + betak *(x - tempx)\n",
    "    tempx=x\n",
    "\n",
    "    if F(x) <= F(v):\n",
    "      y = x\n",
    "    elif F(v) <= F(x):\n",
    "      y=v\n",
    "    k+=1\n",
    "    ##Added\n",
    "    end_time = time.time()\n",
    "    times.append(end_time-start_time)\n",
    "    ##Added\n",
    "  if np.linalg.norm(gy) > tol:\n",
    "    return x, maxit+1, F_vals, times\n",
    "  return x, k, F_vals, times"
   ]
  },
  {
   "cell_type": "code",
   "execution_count": 168,
   "metadata": {
    "id": "xgK4Trg39_AW"
   },
   "outputs": [],
   "source": [
    "#APG non-convex without mean\n",
    "\n",
    "def ncpapg(F, gradf, proxg, L, x0, tol, maxit):\n",
    "  x=x0 #x_1 = x_0\n",
    "  tempx=x\n",
    "  y=x0 #y_1 = x_0\n",
    "  #z=x0\n",
    "\n",
    "  eta = 1/L\n",
    "  #t0=0\n",
    "  #t1=1\n",
    "  gy = np.inf\n",
    "  k=0\n",
    "  betak, t = 0.5, 0.5\n",
    "  avgx= []\n",
    "\n",
    "  ##Added for convenience\n",
    "  F_vals = []\n",
    "  times = []\n",
    "  ###Added\n",
    "\n",
    "\n",
    "  while np.linalg.norm(gy) > tol and k <maxit:\n",
    "\n",
    "    ##Added\n",
    "    start_time = time.time()\n",
    "    F_vals.append((F(x),k))\n",
    "    #Added\n",
    "\n",
    "    \n",
    "    gy=(1/eta)*(y-proxg(y - eta*gradf(y)))\n",
    "    x = y - eta*(gy)\n",
    "    \n",
    "    \n",
    "    #betak = k / (k+3)\n",
    "    v = x + betak *(x - tempx)\n",
    "    #x = np.mean(np.c_[x, tempx], axis=1) #newly added\n",
    "    avgx.append(x)\n",
    "    tempx=x\n",
    "    \n",
    "    \n",
    "    if F(x) <= F(v):\n",
    "      y = x\n",
    "      betak = t*betak\n",
    "    elif F(v) <= F(x):\n",
    "      y=v\n",
    "      betak = min(betak/t, 1)\n",
    "\n",
    "    k+=1\n",
    "    ##Added\n",
    "    end_time = time.time()\n",
    "    times.append(end_time-start_time)\n",
    "    ##Added\n",
    "  if np.linalg.norm(gy) > tol:\n",
    "    return x, maxit+1, F_vals, times\n",
    "  return x, k, F_vals, times"
   ]
  },
  {
   "cell_type": "code",
   "execution_count": 169,
   "metadata": {
    "id": "lvepJd7W9--B"
   },
   "outputs": [],
   "source": [
    "#APG non-convex\n",
    "\n",
    "def mncpapg(F, gradf, proxg, L, x0, tol, maxit):\n",
    "  x=x0 #x_1 = x_0\n",
    "  tempx=x\n",
    "  y=x0 #y_1 = x_0\n",
    "  #z=x0\n",
    "\n",
    "  eta = 1/L\n",
    "  #t0=0\n",
    "  #t1=1\n",
    "  gy = np.inf\n",
    "  k=0\n",
    "  betak, t = 0.5, 0.5\n",
    "  #avgx= []\n",
    "\n",
    "  ##Added for convenience\n",
    "  F_vals = []\n",
    "  times = []\n",
    "  ###Added\n",
    "\n",
    "\n",
    "\n",
    "  while np.linalg.norm(gy) > tol and k <maxit:\n",
    "\n",
    "    ##Added\n",
    "    start_time = time.time()\n",
    "    F_vals.append((F(x),k))\n",
    "    #Added\n",
    "\n",
    "\n",
    "    gy=(1/eta)*(y-proxg(y - eta*gradf(y)))\n",
    "    x = y - eta*(gy)\n",
    "    \n",
    "    \n",
    "    #betak = k / (k+3)\n",
    "    v = x + betak *(x - tempx)\n",
    "    x = np.mean(np.c_[x, tempx], axis=1) #newly added\n",
    "    #avgx.append(x)\n",
    "    tempx=x\n",
    "    \n",
    "    \n",
    "    if F(x) <= F(v):\n",
    "      y = x\n",
    "      betak = t*betak\n",
    "    elif F(v) <= F(x):\n",
    "      y=v\n",
    "      betak = min(betak/t, 1)\n",
    "\n",
    "    k+=1\n",
    "\n",
    "    ##Added\n",
    "    end_time = time.time()\n",
    "    times.append(end_time-start_time)\n",
    "    ##Added\n",
    "  if np.linalg.norm(gy) > tol:\n",
    "    return x, maxit+1, F_vals, times\n",
    "  # return x, k\n",
    "  return x, k, F_vals, times"
   ]
  },
  {
   "cell_type": "markdown",
   "metadata": {
    "id": "OIbmM8jJ-a4s"
   },
   "source": [
    "## Analysis\n",
    "\n",
    "### Data 1"
   ]
  },
  {
   "cell_type": "markdown",
   "metadata": {
    "id": "lJRS3jg3-qjt"
   },
   "source": [
    "Data 1 is the dataset from the paper. We project it onto the positive simplex. The optimization problem is defined as below\n",
    "\n",
    "$$\n",
    "\\min_{\\boldsymbol x} -\\frac{1}{2} \\boldsymbol x^T \\Big ( \\sum_{i=1}^n \\boldsymbol z_i \\boldsymbol z^T_i \\Big ) \\boldsymbol x + \\gamma \\|\\boldsymbol x\\|^2  \\quad \\text{s.t.} \\: \\boldsymbol x \\geq 0, \\boldsymbol 1^T \\boldsymbol x = 1\n",
    "$$\n",
    "\n",
    "This is a nonconvex optimization problem due to the negative sign"
   ]
  },
  {
   "cell_type": "markdown",
   "metadata": {
    "id": "JB41fXE8E-C6"
   },
   "source": [
    "The data is created using $n=1000$, $\\gamma = 10^{-3}$. $\\boldsymbol z_i$ is randomly generated from a normal distribution and is normalized to have unit norm, like in the referenced paper"
   ]
  },
  {
   "cell_type": "code",
   "execution_count": 170,
   "metadata": {
    "id": "dGtfWcLY-pzI"
   },
   "outputs": [],
   "source": [
    "def F(A,gamma):\n",
    "  def get_G(x, A, gamma):\n",
    "    f = -0.5*x.T@A@x + gamma* np.linalg.norm(x,ord=2)**2\n",
    "    #g = np.int64(x > 0) * x.T@x\n",
    "    return f\n",
    "  return lambda x: get_G(x,A,gamma)\n",
    "\n",
    "def get_gradf_function(A,gamma):\n",
    "  #Grad of f\n",
    "  def get_grad(x,A,gamma):\n",
    "    grad = -A@x + 2*gamma*np.identity(A.shape[1])@x\n",
    "    return grad\n",
    "  return lambda x : get_grad(x,A,gamma)\n",
    "\n",
    "def prox_xg():\n",
    "  def proxggx(x, z=1.):\n",
    "    ##Projection of v onto positive simplex\n",
    "\n",
    "    u = np.sort(x)[::-1] \n",
    "    p = (np.cumsum(u) - z) / np.arange(1., len(x) + 1.)\n",
    "    return np.maximum(x - p[np.nonzero(u > p)[0][-1]], 0.)\n",
    "  return lambda x: proxggx(x)"
   ]
  },
  {
   "cell_type": "markdown",
   "metadata": {
    "id": "iVRBvwn2IB2p"
   },
   "source": [
    "Generate data and specify parameters"
   ]
  },
  {
   "cell_type": "code",
   "execution_count": 171,
   "metadata": {
    "id": "ABmOuc_Q9-7o"
   },
   "outputs": [],
   "source": [
    "X = np.random.randn(500,50)\n",
    "X = X / ((X**2).sum(axis=1)**(1/2)).reshape((-1,1))\n",
    "A = X.T@X"
   ]
  },
  {
   "cell_type": "code",
   "execution_count": 172,
   "metadata": {
    "id": "Uc70pQCrH4mh"
   },
   "outputs": [],
   "source": [
    "x0=np.zeros(A.shape[0]) #initial value\n",
    "#x0=np.random.randn(A.shape[0])\n",
    "w,_ = np.linalg.eigh(A.T@A) #get eigenvalues\n",
    "L, ell = np.max(w), np.min(w) #Obtain approximate values for L and \\ell\n",
    "tol =1e-4\n",
    "maxit=2000000\n",
    "gamma = 1e-3\n",
    "grad = get_gradf_function(A, gamma)\n",
    "t, step_=1, 1/L\n",
    "proxgg = prox_xg()\n",
    "Fx = F(A, gamma)"
   ]
  },
  {
   "cell_type": "markdown",
   "metadata": {
    "id": "LHhBzugjIYqi"
   },
   "source": [
    "Carry out computations"
   ]
  },
  {
   "cell_type": "code",
   "execution_count": 173,
   "metadata": {
    "id": "sVNRqQDj-puf"
   },
   "outputs": [],
   "source": [
    "resultsprox, iterationsprox, Fvalsprox, proxtimes = proxgrad(Fx, grad, proxgg, L,ell,x0,tol,maxit)\n",
    "resultsapg, iterationsapg, Fvalsapg, apgtimes = apg(Fx,grad, proxgg, L,x0,tol,maxit)\n",
    "resultsmpg, iterationsmpg, Fvalsmpg, mpgtimes = mapg(Fx, grad, proxgg, L,x0,tol,maxit)\n",
    "resultsnc, iterationsnc, Fvalsnc, nctimes = ncapg(Fx, grad, proxgg, L,x0,tol,maxit)\n",
    "resultsncp, iterationsncp, Fvalsncp, ncptimes, = ncpapg(Fx, grad, proxgg, L,x0,tol,maxit)\n",
    "resultsmnc, iterationsmnc, Fvalsmnc, mnctimes = mncpapg(Fx, grad, proxgg, L,x0,tol,maxit)"
   ]
  },
  {
   "cell_type": "markdown",
   "metadata": {
    "id": "rG8B3CryIrFa"
   },
   "source": [
    "Plots"
   ]
  },
  {
   "cell_type": "code",
   "execution_count": 174,
   "metadata": {
    "colab": {
     "base_uri": "https://localhost:8080/",
     "height": 354
    },
    "id": "VXK_akHd-ppn",
    "outputId": "13ac420a-f2e2-443a-e5e9-5bfe6bc2e84c"
   },
   "outputs": [
    {
     "data": {
      "image/png": "[encoded data removed]",
      "text/plain": [
       "<Figure size 648x360 with 1 Axes>"
      ]
     },
     "metadata": {
      "needs_background": "light"
     },
     "output_type": "display_data"
    }
   ],
   "source": [
    "aa = list(zip(*Fvalsprox)) #proximal gradient\n",
    "bb = list(zip(*Fvalsapg)) #APG\n",
    "cc = list(zip(*Fvalsmpg)) #montone\n",
    "dd = list(zip(*Fvalsnc)) #non-convex\n",
    "ee = list(zip(*Fvalsncp)) #non-convex +\n",
    "ff = list(zip(*Fvalsmnc)) #Mean non-convex +\n",
    "\n",
    "plt.figure(figsize=(9,5))\n",
    "plt.plot(aa[1], np.array(aa[0]), label='proxgrad')\n",
    "plt.plot(bb[1], np.array(bb[0]), label='APG')\n",
    "plt.plot(cc[1], np.array(cc[0]), label='mAPG')\n",
    "plt.plot(dd[1], np.array(dd[0]), label='APGnc')\n",
    "plt.plot(ee[1], np.array(ee[0]), label='APGncp')\n",
    "plt.plot(ff[1], np.array(ff[0]), label='mAPGncp')\n",
    "# plt.xscale('log')\n",
    "# plt.yscale('log')\n",
    "plt.legend(loc='upper right', prop={'size': 10})\n",
    "plt.title(r\"Performance of algorithms using $D_1$\", fontsize=15)\n",
    "plt.ylabel(\"Function Value\", fontsize=10)\n",
    "plt.xlabel(\"Iteration Number, n\", fontsize=10)\n",
    "plt.show()"
   ]
  },
  {
   "cell_type": "markdown",
   "metadata": {
    "id": "RSKgsCPbVPMx"
   },
   "source": [
    "We observe that `APG`, `mAPG` and `APGnc` have near same performance. Proximial gradient method, implemented as a benchmark, performed worst. `APGncp`, the algorithm proposed in the paper performed much better than all of these algorithms. However, my extension of `APGncp` appears to perform best."
   ]
  },
  {
   "cell_type": "code",
   "execution_count": null,
   "metadata": {
    "id": "kxeaxDwpIYDO"
   },
   "outputs": [],
   "source": [
    "algos = [\n",
    "         'proxgrad',\n",
    "         'APG',\n",
    "         'mAPG',\n",
    "         'APGnc',\n",
    "         'APGncp',\n",
    "         'mAPGncp'\n",
    "]\n",
    "alltimes = np.round(np.array([np.array(proxtimes).sum(),\n",
    " np.array(apgtimes).sum(),\n",
    " np.array(mpgtimes).sum(),\n",
    " np.array(nctimes).sum(),\n",
    " np.array(ncptimes).sum(),\n",
    " np.array(mnctimes).sum()\n",
    " ]),4)"
   ]
  },
  {
   "cell_type": "code",
   "execution_count": null,
   "metadata": {
    "colab": {
     "base_uri": "https://localhost:8080/"
    },
    "id": "1b7YcOYI-pkL",
    "outputId": "b6c7a156-d1e1-4979-bcd0-6fc60e431b10"
   },
   "outputs": [
    {
     "name": "stdout",
     "output_type": "stream",
     "text": [
      "<===Using Data 1===>\n",
      "+-----------+------------+\n",
      "| Algorithm | Total Time |\n",
      "+-----------+------------+\n",
      "|  proxgrad |   0.0345   |\n",
      "|    APG    |   0.0053   |\n",
      "|    mAPG   |   0.0122   |\n",
      "|   APGnc   |   0.0091   |\n",
      "|   APGncp  |   0.0072   |\n",
      "|  mAPGncp  |   0.0137   |\n",
      "+-----------+------------+\n",
      "\n",
      "\n"
     ]
    }
   ],
   "source": [
    "t = PrettyTable(['Algorithm', 'Total Time'])\n",
    "for i,j in list(zip(*[algos, alltimes])):\n",
    "    t.add_row([i,j])\n",
    "print('<===Using Data 1===>')\n",
    "print(t)\n",
    "\n",
    "print('\\n')"
   ]
  },
  {
   "cell_type": "code",
   "execution_count": null,
   "metadata": {
    "id": "Exi6JDROIYAg"
   },
   "outputs": [],
   "source": []
  },
  {
   "cell_type": "markdown",
   "metadata": {
    "id": "ef6wusW_TDcn"
   },
   "source": [
    "### Data 2"
   ]
  },
  {
   "cell_type": "markdown",
   "metadata": {
    "id": "v5MU6CKETJ-i"
   },
   "source": [
    "To further compare the implemented algorithms, we use additional data and functions. Data 2 is the `cdcdata.txt` from PS2. We implement least squares with $\\ell_1$ regularization. This is a convex optimization problem.\n",
    "\n",
    "$$\n",
    "\\min_{\\boldsymbol x \\in \\mathbb{R}^n} \\|A \\boldsymbol x - b\\|^2 + \\lambda\\|\\boldsymbol x\\|_1\n",
    "$$"
   ]
  },
  {
   "cell_type": "code",
   "execution_count": 175,
   "metadata": {
    "id": "R-JXXT2NIX-D"
   },
   "outputs": [],
   "source": [
    "def F(A,b,gamma):\n",
    "  def get_F(x,A,b,gamma):\n",
    "    Ax_b = A.dot(x) - b\n",
    "    f = 0.5*(Ax_b.T.dot(Ax_b))\n",
    "    g = gamma*np.linalg.norm(x, ord=1)\n",
    "    return f + g\n",
    "    #return f\n",
    "  return lambda x: get_F(x,A,b,gamma)\n",
    "\n",
    "def get_gradf_function(A,b):\n",
    "  #Grad of f\n",
    "  def get_least_squares(x,A,b):\n",
    "    grad = A.T@(A@x - b)\n",
    "    return grad\n",
    "  return lambda x : get_least_squares(x,A,b)\n",
    "\n",
    "def prox_xg(step_size, lamda):\n",
    "  #prox for L1 norm\n",
    "  def proxggx(x, step_size, lamda):\n",
    "    return np.fmax(x - step_size*lamda, 0) - np.fmax(-x-step_size*lamda,0)\n",
    "  return lambda x: proxggx(x, step_size, lamda)"
   ]
  },
  {
   "cell_type": "code",
   "execution_count": 176,
   "metadata": {
    "id": "aRc6afQ6IX7e"
   },
   "outputs": [],
   "source": [
    "A = np.loadtxt(\"cdcdata.txt\")\n",
    "A[:,0] = A[:,0] - 1900 #preprocess data\n",
    "X = A[:, :-1] #Obtain X component of data\n",
    "X = np.c_[X, np.ones(len(A))]\n",
    "y = A[:, -1] #Obtain y component of data\n",
    "\n",
    "x0=np.array([0,0]) #initial value\n",
    "w,_ = np.linalg.eig(X.T@X) #get eigenvalues\n",
    "L, ell = np.max(w), np.min(w) #Obtain L and \\ell\n",
    "tol =1e-4\n",
    "maxit=2000000\n",
    "grad = get_gradf_function(X,y)\n",
    "t, step_=0.1, 1/L\n",
    "proxgg = prox_xg(step_, t)\n",
    "Fx = F(X,y,t)"
   ]
  },
  {
   "cell_type": "markdown",
   "metadata": {
    "id": "WvtTlP5zUCN-"
   },
   "source": [
    "Carry out computations"
   ]
  },
  {
   "cell_type": "code",
   "execution_count": 177,
   "metadata": {
    "id": "C6LrlOElIX5B"
   },
   "outputs": [],
   "source": [
    "resultsprox, iterationsprox, Fvalsprox, proxtimes = proxgrad(Fx, grad, proxgg, L,ell,x0,tol,maxit)\n",
    "resultsapg, iterationsapg, Fvalsapg, apgtimes = apg(Fx,grad, proxgg, L,x0,tol,maxit)\n",
    "resultsmpg, iterationsmpg, Fvalsmpg, mpgtimes = mapg(Fx, grad, proxgg, L,x0,tol,maxit)\n",
    "resultsnc, iterationsnc, Fvalsnc, nctimes = ncapg(Fx, grad, proxgg, L,x0,tol,maxit)\n",
    "resultsncp, iterationsncp, Fvalsncp, ncptimes, = ncpapg(Fx, grad, proxgg, L,x0,tol,maxit)\n",
    "resultsmnc, iterationsmnc, Fvalsmnc, mnctimes = mncpapg(Fx, grad, proxgg, L,x0,tol,maxit)"
   ]
  },
  {
   "cell_type": "code",
   "execution_count": 178,
   "metadata": {
    "colab": {
     "base_uri": "https://localhost:8080/"
    },
    "id": "PcTpwBWAIX2N",
    "outputId": "57ec81b2-b03f-4ff0-82a8-9de35b72531e"
   },
   "outputs": [
    {
     "data": {
      "text/plain": [
       "array([ 0.28180976, 50.57384287])"
      ]
     },
     "execution_count": 178,
     "metadata": {},
     "output_type": "execute_result"
    }
   ],
   "source": [
    "#See results\n",
    "resultsncp #matches with output from PS2"
   ]
  },
  {
   "cell_type": "code",
   "execution_count": 179,
   "metadata": {
    "colab": {
     "base_uri": "https://localhost:8080/",
     "height": 358
    },
    "id": "iXC9bR5fUTH9",
    "outputId": "b83f0ccd-af16-4fe0-cb47-1485c361ba02"
   },
   "outputs": [
    {
     "data": {
      "image/png": "[encoded data removed]",
      "text/plain": [
       "<Figure size 648x360 with 1 Axes>"
      ]
     },
     "metadata": {
      "needs_background": "light"
     },
     "output_type": "display_data"
    }
   ],
   "source": [
    "aa = list(zip(*Fvalsprox)) #proximal gradient\n",
    "bb = list(zip(*Fvalsapg)) #APG\n",
    "cc = list(zip(*Fvalsmpg)) #montone APG\n",
    "dd = list(zip(*Fvalsnc)) #non-convex\n",
    "ee = list(zip(*Fvalsncp)) #non-convex +\n",
    "ff = list(zip(*Fvalsmnc)) #Mean non-convex +\n",
    "\n",
    "plt.figure(figsize=(9,5))\n",
    "plt.plot(aa[1], np.array(aa[0]), label='proxgrad')\n",
    "plt.plot(bb[1], np.array(bb[0]), label='APG')\n",
    "plt.plot(cc[1], np.array(cc[0]), label='mAPG')\n",
    "plt.plot(dd[1], np.array(dd[0]), label='APGnc')\n",
    "plt.plot(ee[1], np.array(ee[0]), label='APGncp')\n",
    "plt.plot(ff[1], np.array(ff[0]), label='mAPGncp')\n",
    "plt.xscale('log')\n",
    "plt.yscale('log')\n",
    "plt.legend(loc='upper right', prop={'size': 10})\n",
    "plt.title(r\"Performance of algorithms using $D_2$\", fontsize=15)\n",
    "plt.ylabel(\"Function Value\", fontsize=10)\n",
    "plt.xlabel(\"Iteration Number, n\", fontsize=10)\n",
    "plt.show()"
   ]
  },
  {
   "cell_type": "markdown",
   "metadata": {
    "id": "fBWfdmARUp6C"
   },
   "source": [
    "We observe that `mAPG`, `APGnc` and `APGncp` have nearly the same performance for this convex optimization problem. They attain nearly the same function values at the same iteration numbers. The algorithm proposed in the paper `APGncp` performs much better than the earlier three. My extension of `APGncp` appears to perform best, attaining lower function values at earlier iterations. The proximal gradient method, implemented as a benchmark, performed worst."
   ]
  },
  {
   "cell_type": "code",
   "execution_count": null,
   "metadata": {
    "colab": {
     "base_uri": "https://localhost:8080/"
    },
    "id": "emUbe6_bUTFS",
    "outputId": "5667f490-d2fa-4475-999d-1f0ce5cd4800"
   },
   "outputs": [
    {
     "name": "stdout",
     "output_type": "stream",
     "text": [
      "<===Using Data 2===>\n",
      "+-----------+------------+\n",
      "| Algorithm | Total Time |\n",
      "+-----------+------------+\n",
      "|  proxgrad |   8.0565   |\n",
      "|    APG    |   0.6288   |\n",
      "|    mAPG   |   2.7419   |\n",
      "|   APGnc   |   0.064    |\n",
      "|   APGncp  |   0.9937   |\n",
      "|  mAPGncp  |   0.0258   |\n",
      "+-----------+------------+\n",
      "\n",
      "\n"
     ]
    }
   ],
   "source": [
    "alltimes = np.round(np.array([np.array(proxtimes).sum(),\n",
    " np.array(apgtimes).sum(),\n",
    " np.array(mpgtimes).sum(),\n",
    " np.array(nctimes).sum(),\n",
    " np.array(ncptimes).sum(),\n",
    " np.array(mnctimes).sum()\n",
    " ]),4)\n",
    "\n",
    "t = PrettyTable(['Algorithm', 'Total Time'])\n",
    "for i,j in list(zip(*[algos, alltimes])):\n",
    "    t.add_row([i,j])\n",
    "print('<===Using Data 2===>')\n",
    "print(t)\n",
    "\n",
    "print('\\n')"
   ]
  },
  {
   "cell_type": "code",
   "execution_count": null,
   "metadata": {
    "id": "5MIRQNyjUTCk"
   },
   "outputs": [],
   "source": []
  },
  {
   "cell_type": "markdown",
   "metadata": {
    "id": "CBq_8OhzV4OA"
   },
   "source": [
    "### Data 3"
   ]
  },
  {
   "cell_type": "markdown",
   "metadata": {
    "id": "hsMG5SL4V8gY"
   },
   "source": [
    "Finally, we use Data 3 to test the performance of all the algorithms. Data 3 is a sparse logistic regression problem, sparse LR. \n",
    "\n",
    "\\begin{equation}\n",
    "    \\min_{\\boldsymbol x} \\sum_{i:y_i=1} -\\boldsymbol z_i^T \\boldsymbol x + \\sum_{i=1}^n \\log(1 + \\exp(\\boldsymbol z_i^T\\boldsymbol x)) + r(\\boldsymbol x)\n",
    "\\end{equation}\n",
    "\n",
    "where $r(\\boldsymbol x)$ is chosen as the capped $\\ell_1$ penalty defined as \n",
    "\n",
    "\\begin{equation}\n",
    "    r(\\boldsymbol x) = \\lambda \\sum_{i=1}^d \\min (|x_i|, \\theta), \\quad \\theta > 0, \\lambda >0\n",
    "\\end{equation}\n",
    "\n",
    "As detailed in the paper (Zhang, 2008), this function serves useful applications in several areas. In this case, we use a subset of the MNIST data set which has only 5000 training samples and 1000 testing samples of 1's and 3's. We carry out a classification task."
   ]
  },
  {
   "cell_type": "code",
   "execution_count": 108,
   "metadata": {
    "id": "NXdTpubeIXzS"
   },
   "outputs": [],
   "source": [
    "def prox_xg(theta, gamma):\n",
    "  def proxggx(d, theta, gamma):\n",
    "    n = d.shape[0]\n",
    "    v = np.zeros(n)\n",
    "    for i in range(n):\n",
    "      u = np.abs(d[i])\n",
    "      v1 = np.max([u, theta])\n",
    "      v2 = np.min([theta, np.max([0, u-gamma])])\n",
    "      if (0.5*(v1 + v2 - 2*u)*(v1 - v2) + gamma*(theta - v2) < 0):\n",
    "        v[i] = v1\n",
    "      else:\n",
    "        v[i] = v2\n",
    "      if d[i]>=0:\n",
    "        v[i] = v[i]\n",
    "      else:\n",
    "        v[i] = -v[i]\n",
    "    return v\n",
    "  return lambda x: proxggx(x, theta, gamma)\n",
    "\n",
    "def sigmoid(x):\n",
    "  return 1/(1+np.exp(-x))\n",
    "  \n",
    "def gradfXy(X, y):\n",
    "  def get_grad(u, X, y):\n",
    "    #m = len(y)\n",
    "    #grad = np.zeros([m,1])\n",
    "    grad = X.T @ (sigmoid(X @ u) - y)\n",
    "    #grad = grad + (lambda_ * u)\n",
    "    return grad\n",
    "  return lambda x : get_grad(x,X,y)\n",
    "\n",
    "def F(X, y, gamma, theta):\n",
    "  def getF(u, X, y, gamma, theta):\n",
    "    #n = X.shape[1]\n",
    "    f = (-1*(X*(y.reshape((-1,1))))@u).sum() + np.sum(np.log(1 + np.exp(X@u)))\n",
    "    g = gamma*np.sum(np.minimum(np.abs(u), theta))\n",
    "    f = (f + g)\n",
    "    #f = - X.T@y@u  + np.log( 1 + sigmoid(X @ u) ) + gamma*np.sum(np.minimum(np.abs(u), theta))\n",
    "    return f\n",
    "  return lambda x: getF(x, X, y, gamma, theta)"
   ]
  },
  {
   "cell_type": "code",
   "execution_count": null,
   "metadata": {
    "colab": {
     "base_uri": "https://localhost:8080/"
    },
    "id": "Bu6p3Obl9-5T",
    "outputId": "5eaec23a-7f26-44d4-e023-b1ce0374dc20"
   },
   "outputs": [
    {
     "name": "stdout",
     "output_type": "stream",
     "text": [
      "  % Total    % Received % Xferd  Average Speed   Time    Time     Time  Current\n",
      "                                 Dload  Upload   Total   Spent    Left  Speed\n",
      "100 9680k  100 9680k    0     0   111M      0 --:--:-- --:--:-- --:--:--  111M\n",
      "  % Total    % Received % Xferd  Average Speed   Time    Time     Time  Current\n",
      "                                 Dload  Upload   Total   Spent    Left  Speed\n",
      "100 28881  100 28881    0     0   829k      0 --:--:-- --:--:-- --:--:--  881k\n",
      "  % Total    % Received % Xferd  Average Speed   Time    Time     Time  Current\n",
      "                                 Dload  Upload   Total   Spent    Left  Speed\n",
      "100 1610k  100 1610k    0     0  22.4M      0 --:--:-- --:--:-- --:--:-- 22.4M\n",
      "  % Total    % Received % Xferd  Average Speed   Time    Time     Time  Current\n",
      "                                 Dload  Upload   Total   Spent    Left  Speed\n",
      "100  4542  100  4542    0     0   192k      0 --:--:-- --:--:-- --:--:--  192k\n"
     ]
    }
   ],
   "source": [
    "#Obtain data\n",
    "! curl -O http://yann.lecun.com/exdb/mnist/train-images-idx3-ubyte.gz\n",
    "! curl -O http://yann.lecun.com/exdb/mnist/train-labels-idx1-ubyte.gz\n",
    "! curl -O http://yann.lecun.com/exdb/mnist/t10k-images-idx3-ubyte.gz\n",
    "! curl -O http://yann.lecun.com/exdb/mnist/t10k-labels-idx1-ubyte.gz"
   ]
  },
  {
   "cell_type": "code",
   "execution_count": null,
   "metadata": {
    "id": "TKTo3Kvd9-2z"
   },
   "outputs": [],
   "source": [
    "! gunzip t*-ubyte.gz"
   ]
  },
  {
   "cell_type": "code",
   "execution_count": null,
   "metadata": {
    "id": "CPtJP3iM9-0a"
   },
   "outputs": [],
   "source": [
    "from mlxtend.data import loadlocal_mnist\n",
    "import platform\n",
    "#Obtain training and test sets\n",
    "trainX, trainY = loadlocal_mnist(\n",
    " images_path='train-images-idx3-ubyte',\n",
    " labels_path='train-labels-idx1-ubyte')\n",
    "testX, testY = loadlocal_mnist(\n",
    " images_path='t10k-images-idx3-ubyte',\n",
    " labels_path='t10k-labels-idx1-ubyte')"
   ]
  },
  {
   "cell_type": "code",
   "execution_count": null,
   "metadata": {
    "id": "1sBGayyW9-yA"
   },
   "outputs": [],
   "source": [
    "#Obtain just 1's and 3's\n",
    "y_train = trainY[(trainY==1) | (trainY==3)]\n",
    "X_train = trainX[(trainY==1) | (trainY==3), :]\n",
    "y_test = testY[(testY==1) | (testY==3)]\n",
    "X_test =testX[(testY==1) | (testY==3), :]"
   ]
  },
  {
   "cell_type": "code",
   "execution_count": null,
   "metadata": {
    "id": "SK8PdidT9-vb"
   },
   "outputs": [],
   "source": [
    "#Obtain random samples. Just 5000 training samples and 1000 test samples\n",
    "STATE=2022\n",
    "np.random.seed(STATE)\n",
    "r, _ = X_train.shape\n",
    "s, _ = X_test.shape\n",
    "random_indices_tr = np.random.choice(r, size=5000, replace=False)\n",
    "random_indices_ts = np.random.choice(s, size=1000, replace=False)\n",
    "\n",
    "X_train_sample = X_train[random_indices_tr, :]\n",
    "y_train_sample = y_train[random_indices_tr]\n",
    "X_test_sample = X_test[random_indices_ts, :]\n",
    "y_test_sample = y_test[random_indices_ts]"
   ]
  },
  {
   "cell_type": "code",
   "execution_count": 128,
   "metadata": {
    "colab": {
     "base_uri": "https://localhost:8080/"
    },
    "id": "aeWmcUQk9-sr",
    "outputId": "fd9e06c4-de11-4303-89cd-83bb014087cb"
   },
   "outputs": [
    {
     "name": "stdout",
     "output_type": "stream",
     "text": [
      "(5000, 784) (5000,)\n",
      "(1000, 784) (1000,)\n"
     ]
    }
   ],
   "source": [
    "print(X_train_sample.shape, y_train_sample.shape)\n",
    "print(X_test_sample.shape, y_test_sample.shape)"
   ]
  },
  {
   "cell_type": "code",
   "execution_count": null,
   "metadata": {
    "colab": {
     "base_uri": "https://localhost:8080/",
     "height": 190
    },
    "id": "_b5IJaJq9-qD",
    "outputId": "44234651-516d-42a8-da39-868a5d5fab93"
   },
   "outputs": [
    {
     "data": {
      "image/png": "[encoded data removed]",
      "text/plain": [
       "<Figure size 360x360 with 2 Axes>"
      ]
     },
     "metadata": {
      "needs_background": "light"
     },
     "output_type": "display_data"
    }
   ],
   "source": [
    "#Examine sample instance\n",
    "v = np.random.choice(np.arange(5000))\n",
    "u = np.random.choice(np.arange(5000))\n",
    "fig, (ax1, ax2) = plt.subplots(1,2,figsize=(5,5))\n",
    "ax1.imshow(X_train_sample[v,:].reshape((28,28)), cmap='gray')\n",
    "ax1.set_title(str(y_train_sample[v]))\n",
    "ax2.imshow(X_train_sample[u,:].reshape((28,28)), cmap='gray')\n",
    "ax2.set_title(str(y_train_sample[u]))\n",
    "plt.show()"
   ]
  },
  {
   "cell_type": "code",
   "execution_count": 139,
   "metadata": {
    "id": "BYRgkML29-nT"
   },
   "outputs": [],
   "source": [
    "gamma = 1e-4\n",
    "theta = 0.1*gamma #Specify lambda's\n",
    "X_s = X_train_sample / np.max(np.linalg.norm(X_train_sample, axis=1)) #Scale training \n",
    "Xt_s = X_test_sample / np.max(np.linalg.norm(X_test_sample, axis=1)) #Scale test\n",
    "tol = 0.1 #Specify lower tolerance\n",
    "maxit = 10000 #Max iterations\n",
    "y_train = (y_train_sample==1).astype(int)\n",
    "y_test = (y_test_sample==1).astype(int)"
   ]
  },
  {
   "cell_type": "code",
   "execution_count": 140,
   "metadata": {
    "id": "GBG-N9kiYE9C"
   },
   "outputs": [],
   "source": [
    "x0 = np.zeros(X_s.shape[1])\n",
    "w, _ = np.linalg.eigh(X_s.T @ X_s)\n",
    "L, l = np.max(w) + gamma, gamma #Obtain estimates L and \\ell\n",
    "gradf = gradfXy(X_s, y_train)\n",
    "t, step_=0.1, 1/L\n",
    "proxgg = prox_xg(step_, t)\n",
    "Fx = F(X_s,y_train,gamma,theta)"
   ]
  },
  {
   "cell_type": "code",
   "execution_count": 132,
   "metadata": {
    "colab": {
     "base_uri": "https://localhost:8080/"
    },
    "id": "v3zf0R8XYxzx",
    "outputId": "98f297bf-0cf7-4f35-d90f-42c7ee3b732d"
   },
   "outputs": [
    {
     "name": "stdout",
     "output_type": "stream",
     "text": [
      "maxit:  10001\n"
     ]
    }
   ],
   "source": [
    "resultsprox, iterationsprox, Fvalsprox, proxtimes = proxgrad(Fx, gradf, proxgg, L,l,x0,tol,maxit)\n",
    "print(\"maxit: \", iterationsprox)"
   ]
  },
  {
   "cell_type": "code",
   "execution_count": 133,
   "metadata": {
    "colab": {
     "base_uri": "https://localhost:8080/"
    },
    "id": "DbWGUINEZ1pc",
    "outputId": "d6ebad5b-090e-4c22-ef4e-2e291c6f4c77"
   },
   "outputs": [
    {
     "name": "stdout",
     "output_type": "stream",
     "text": [
      "maxit:  3830\n"
     ]
    }
   ],
   "source": [
    "resultsapg, iterationsapg, Fvalsapg, apgtimes = apg(Fx,gradf, proxgg, L,x0,tol,maxit)\n",
    "print(\"maxit: \", iterationsapg)"
   ]
  },
  {
   "cell_type": "code",
   "execution_count": 134,
   "metadata": {
    "colab": {
     "base_uri": "https://localhost:8080/"
    },
    "id": "mKTXJ5vkZ7lJ",
    "outputId": "9ab26cff-8753-46f4-f864-a212eb9f0056"
   },
   "outputs": [
    {
     "name": "stdout",
     "output_type": "stream",
     "text": [
      "maxit:  3831\n"
     ]
    }
   ],
   "source": [
    "resultsmpg, iterationsmpg, Fvalsmpg, mpgtimes = mapg(Fx, gradf, proxgg, L,x0,tol,maxit)\n",
    "print(\"maxit: \", iterationsmpg)"
   ]
  },
  {
   "cell_type": "code",
   "execution_count": 141,
   "metadata": {
    "colab": {
     "base_uri": "https://localhost:8080/"
    },
    "id": "4TKgS8w2aAdx",
    "outputId": "25f76d66-29b4-499a-a755-1edb671b3382"
   },
   "outputs": [
    {
     "name": "stdout",
     "output_type": "stream",
     "text": [
      "maxit:  3824\n"
     ]
    }
   ],
   "source": [
    "resultsnc, iterationsnc, Fvalsnc, nctimes = ncapg(Fx, gradf, proxgg, L,x0,tol,maxit)\n",
    "print(\"maxit: \", iterationsnc)"
   ]
  },
  {
   "cell_type": "code",
   "execution_count": 142,
   "metadata": {
    "colab": {
     "base_uri": "https://localhost:8080/"
    },
    "id": "SwaL5q81aDyw",
    "outputId": "01dc7477-ae35-4e08-9feb-2d11a9f0da6d"
   },
   "outputs": [
    {
     "name": "stdout",
     "output_type": "stream",
     "text": [
      "maxit:  5007\n"
     ]
    }
   ],
   "source": [
    "resultsncp, iterationsncp, Fvalsncp, ncptimes, = ncpapg(Fx, gradf, proxgg, L,x0,tol,maxit)\n",
    "print(\"maxit: \", iterationsncp)"
   ]
  },
  {
   "cell_type": "code",
   "execution_count": 143,
   "metadata": {
    "colab": {
     "base_uri": "https://localhost:8080/"
    },
    "id": "viEtalCBYxxW",
    "outputId": "59ce2c5e-c3ce-4a5c-ad3c-04310018ac8a"
   },
   "outputs": [
    {
     "name": "stdout",
     "output_type": "stream",
     "text": [
      "maxit:  9879\n"
     ]
    }
   ],
   "source": [
    "resultsmnc, iterationsmnc, Fvalsmnc, mnctimes = mncpapg(Fx, gradf, proxgg, L,x0,tol,maxit)\n",
    "print(\"maxit: \", iterationsmnc)"
   ]
  },
  {
   "cell_type": "code",
   "execution_count": 144,
   "metadata": {
    "id": "z70KHtV6Yxvu"
   },
   "outputs": [],
   "source": [
    "results = [\n",
    "           resultsprox,\n",
    "           resultsapg,\n",
    "           resultsmpg,\n",
    "           resultsnc,\n",
    "           resultsncp,\n",
    "           resultsmnc\n",
    "]"
   ]
  },
  {
   "cell_type": "code",
   "execution_count": 145,
   "metadata": {
    "id": "LwdE7Yw-Yxsc"
   },
   "outputs": [],
   "source": [
    "def score_logistic(testX, testY, u):\n",
    "  #ux = np.r_[u, u0]\n",
    "  pred = (sigmoid(np.dot(testX, u)) >= 0.5).astype(int)\n",
    "  return np.mean(pred == testY.flatten()) * 100"
   ]
  },
  {
   "cell_type": "code",
   "execution_count": 155,
   "metadata": {
    "colab": {
     "base_uri": "https://localhost:8080/"
    },
    "id": "ycZZnuOoYxqd",
    "outputId": "a37abb08-1bf2-4eee-dd77-dc17b1f046f6"
   },
   "outputs": [
    {
     "name": "stdout",
     "output_type": "stream",
     "text": [
      "Accuracy on Test set for proxgrad: 0.7%\n",
      "Accuracy on Test set for APG: 1.4%\n",
      "Accuracy on Test set for mAPG: 1.4%\n",
      "Accuracy on Test set for APGnc: 1.6%\n",
      "Accuracy on Test set for APGncp: 1.6%\n",
      "Accuracy on Test set for mAPGncp: 1.4%\n"
     ]
    }
   ],
   "source": [
    "for i,j in zip(algos, results):\n",
    "  print(\"Accuracy on Test set for \" + str(i) + \": \" + str(round(100 - score_logistic(Xt_s, y_test, j),2))+ \"%\")\n"
   ]
  },
  {
   "cell_type": "code",
   "execution_count": 163,
   "metadata": {
    "colab": {
     "base_uri": "https://localhost:8080/",
     "height": 358
    },
    "id": "StWAu-M3YxnE",
    "outputId": "47a3a2a3-48cb-4e46-8b23-293291d78721"
   },
   "outputs": [
    {
     "data": {
      "image/png": "[encoded data removed]",
      "text/plain": [
       "<Figure size 648x360 with 1 Axes>"
      ]
     },
     "metadata": {
      "needs_background": "light"
     },
     "output_type": "display_data"
    }
   ],
   "source": [
    "aa = list(zip(*Fvalsprox)) #proximal gradient\n",
    "bb = list(zip(*Fvalsapg)) #APG\n",
    "cc = list(zip(*Fvalsmpg)) #montone APG\n",
    "dd = list(zip(*Fvalsnc)) #non-convex\n",
    "ee = list(zip(*Fvalsncp)) #non-convex +\n",
    "ff = list(zip(*Fvalsmnc)) #Mean non-convex +\n",
    "\n",
    "plt.figure(figsize=(9,5))\n",
    "plt.plot(aa[1], np.array(aa[0]), label='proxgrad')\n",
    "plt.plot(bb[1], np.array(bb[0]), label='APG')\n",
    "plt.plot(cc[1], np.array(cc[0]), label='mAPG')\n",
    "plt.plot(dd[1], np.array(dd[0]), label='APGnc')\n",
    "plt.plot(ee[1], np.array(ee[0]), label='APGncp')\n",
    "plt.plot(ff[1], np.array(ff[0]), label='mAPGncp')\n",
    "plt.xscale('log')\n",
    "#plt.yscale('log')\n",
    "plt.legend(loc='upper right', prop={'size': 10})\n",
    "plt.title(r\"Performance of algorithms using $D_3$\", fontsize=15)\n",
    "plt.ylabel(\"Function Value\", fontsize=10)\n",
    "plt.xlabel(\"Iteration Number, n\", fontsize=10)\n",
    "plt.show()"
   ]
  },
  {
   "cell_type": "code",
   "execution_count": 161,
   "metadata": {
    "colab": {
     "base_uri": "https://localhost:8080/"
    },
    "id": "4Lj14IyAYxht",
    "outputId": "6844d3f9-c668-40c5-e792-73600bf8cab2"
   },
   "outputs": [
    {
     "name": "stdout",
     "output_type": "stream",
     "text": [
      "<===Using Data 2===>\n",
      "+-----------+------------+\n",
      "| Algorithm | Total Time |\n",
      "+-----------+------------+\n",
      "|  proxgrad |  589.4469  |\n",
      "|    APG    |  224.2139  |\n",
      "|    mAPG   |  533.7308  |\n",
      "|   APGnc   |  567.8207  |\n",
      "|   APGncp  |   745.79   |\n",
      "|  mAPGncp  | 1437.8501  |\n",
      "+-----------+------------+\n",
      "\n",
      "\n"
     ]
    }
   ],
   "source": [
    "alltimes = np.round(np.array([np.array(proxtimes).sum(),\n",
    " np.array(apgtimes).sum(),\n",
    " np.array(mpgtimes).sum(),\n",
    " np.array(nctimes).sum(),\n",
    " np.array(ncptimes).sum(),\n",
    " np.array(mnctimes).sum()\n",
    " ]),4)\n",
    "\n",
    "t = PrettyTable(['Algorithm', 'Total Time'])\n",
    "for i,j in list(zip(*[algos, alltimes])):\n",
    "    t.add_row([i,j])\n",
    "print('<===Using Data 2===>')\n",
    "print(t)\n",
    "\n",
    "print('\\n')"
   ]
  },
  {
   "cell_type": "code",
   "execution_count": null,
   "metadata": {
    "id": "HXWS5MquYxe6"
   },
   "outputs": [],
   "source": []
  },
  {
   "cell_type": "code",
   "execution_count": null,
   "metadata": {
    "id": "bAIQvPNnYxcJ"
   },
   "outputs": [],
   "source": []
  },
  {
   "cell_type": "code",
   "execution_count": null,
   "metadata": {
    "id": "T3B2DCKXYxaE"
   },
   "outputs": [],
   "source": []
  },
  {
   "cell_type": "code",
   "execution_count": null,
   "metadata": {
    "id": "75adiak-YxW4"
   },
   "outputs": [],
   "source": []
  },
  {
   "cell_type": "code",
   "execution_count": null,
   "metadata": {
    "id": "nR24t_M4YxUJ"
   },
   "outputs": [],
   "source": []
  },
  {
   "cell_type": "code",
   "execution_count": null,
   "metadata": {
    "id": "WIGJMJkDYxRY"
   },
   "outputs": [],
   "source": []
  },
  {
   "cell_type": "code",
   "execution_count": null,
   "metadata": {
    "id": "kqH9oNEVYxOh"
   },
   "outputs": [],
   "source": []
  }
 ],
 "metadata": {
  "colab": {
   "collapsed_sections": [],
   "name": "topics_proj",
   "provenance": []
  },
  "kernelspec": {
   "display_name": "Python 3",
   "language": "python",
   "name": "python3"
  },
  "language_info": {
   "codemirror_mode": {
    "name": "ipython",
    "version": 3
   },
   "file_extension": ".py",
   "mimetype": "text/x-python",
   "name": "python",
   "nbconvert_exporter": "python",
   "pygments_lexer": "ipython3",
   "version": "3.8.3"
  }
 },
 "nbformat": 4,
 "nbformat_minor": 1
}
