{
 "cells": [
  {
   "cell_type": "code",
   "execution_count": null,
   "metadata": {},
   "outputs": [],
   "source": []
  },
  {
   "cell_type": "markdown",
   "metadata": {},
   "source": [
    "**Problem.** If the counting series \"1234567891011121314151617181920212223...\" is an infinitely long string of digits 0-9 that consists of the positive integers written in ascending order without any separators between the individual numbers, we can develop an algorithm which determines the $n$th digit in this sequence.\n",
    "\n",
    "This mean, if we write the series \"1234567891011121314151617181920212223\" as a string in Python, `string[26]` will be returned as 8. This is the digit at the string's 26th index.\n",
    "```python\n",
    ">>string = \"1234567891011121314151617181920212223\"\n",
    "```\n",
    "```python \n",
    ">>string[26]\n",
    "8\n",
    "``` "
   ]
  },
  {
   "cell_type": "markdown",
   "metadata": {},
   "source": [
    "**Objective.** The objective is to examine the sequence for any visible patterns and to develop a closed form solution which should output the digit at the $n$th position.\n"
   ]
  },
  {
   "cell_type": "markdown",
   "metadata": {},
   "source": [
    "**Solution.** The interval of one digit numbers range from 1 to 9.\n",
    "\n",
    "<center>$1...9$</center>\n",
    "\n",
    "And the interval for two digit numbers range from 10 to 20.\n",
    "\n",
    "<center>$10...20$</center>\n",
    "\n",
    "In observing a pattern in the distribution of the digits, one of the first things that becomes apparent is that the one-digit interval from 1 to 9 contains $1 * 9$ digits, while the two-digit interval from 10 to 99 contains $2 * 90$ digits. This goes on in progression according to the form below:\n",
    "\n",
    "<p>\n",
    "<center>\n",
    "    $9*1$ digits ===>   $1-9$ \n",
    " <br>\n",
    "$90*2$ digits ===>  $10-99$\n",
    "  <br>\n",
    "$900*3$ digits ===> $100 - 999$\n",
    "  <br>\n",
    "$9000*4$ digits ===> $1000 - 9999$\n",
    "  <br>\n",
    "$90000*5$ digits ===> $10000 - 99999$\n",
    "  <br>\n",
    "</center>\n",
    "</p>"
   ]
  },
  {
   "cell_type": "markdown",
   "metadata": {},
   "source": [
    "This can be expressed mathematically as:\n",
    "<br>\n",
    "<center>$n_{digits}$ in the interval $10^{n-1}$ to $10^{n}-1  = 9 * n * 10^{n-1}$</center>\n",
    "\n",
    "So that for the interval 1000 to 9999, for example, the number of digits lying in that interval will be $9 * 4 * 10^{4-1} = 36000$ digits.\n",
    "\n"
   ]
  },
  {
   "cell_type": "code",
   "execution_count": 15,
   "metadata": {},
   "outputs": [
    {
     "name": "stdout",
     "output_type": "stream",
     "text": [
      "Interval from 1000 to 9999 contain 36000 digits\n"
     ]
    }
   ],
   "source": [
    "p =''\n",
    "for i in range(1000,10000):\n",
    "    p += str(i)\n",
    "print ( f\"Interval from 1000 to 9999 contain {p.__len__()} digits\" )"
   ]
  },
  {
   "cell_type": "markdown",
   "metadata": {},
   "source": [
    "This also means that the interval 1 to 9 has 9 digits, the interval 10 to 99 has 180 digits, the interval 100 to 999 has 2700 digits, etc.\n",
    "\n",
    "Next, we should determine how the index for each digit adds up based on the number of digits in each interval. \n",
    "\n",
    "The indices of the digits in each interval can be determined by building up on the number of digits in preceeding intervals. For example, if the number of digits in the interval 1 to 9 is 9 and the number of digits in the interval 10 to 99 is 180, then the starting index of the interval from 100 to 999 will be 189, if we assume zero-indexing.\n",
    "\n",
    "Similar to the earlier progression we arrived at, this relationship can be expanded according to the relations below:\n",
    "\n",
    "<p>\n",
    "<center>\n",
    "    $1-9$ interval ===>   $0-9$ \n",
    " <br>\n",
    "$10-99$ interval ===>  $9-189$\n",
    "  <br>\n",
    "$100-999$ interval ===> $189-2889$\n",
    "  <br>\n",
    "$1000-9999$ interval ===> $2889 - 38889$\n",
    "  <br>\n",
    "$10000-99999$ interval ===> $38889-488889$\n",
    "  <br>\n",
    "</center>\n",
    "</p>"
   ]
  },
  {
   "cell_type": "markdown",
   "metadata": {},
   "source": [
    "This relation suggests that the indices for 1-digit numbers start at 0 and ends at 9. This implies that `string[8]` will evaluate to `9`. The indices for 2-digit numbers start at 9 and ends at 189, while the indices for 3-digit numbers start at 189 and ends at 2889, etc.\n",
    "\n",
    "Following this progression, we observe that the ending index for interval $i=n$ which has a total number of digits $d$ is the sum of the number of digits for all intervals from $i=1$ to $i=n$, while the starting index is the sum of number of digits for all intervals from $i=1$ to $i=n$ less $d$.\n",
    "\n",
    "The ending index can therefore be expressed as:\n",
    "\n",
    "<center>$s(n) = \\sum_{i=1}^{n}{9*x*10^{x-1}}$</center>"
   ]
  },
  {
   "cell_type": "markdown",
   "metadata": {},
   "source": [
    "<center>$s(n) = 9\\sum_{i=1}^{n}{x*10^{x-1}}$</center>\n",
    "\n",
    "We can express this as:\n",
    "<center>$S_m = 9\\sum_{i=1}^{m}{x*10^{x-1}}$</center>\n",
    "with $X$ as:\n",
    "<center>$X = 1.10^0 + 2.10^1 + 3.10^2 +...+ m.10^{m-1}$</center>, where we have summed up to $i=m$."
   ]
  },
  {
   "cell_type": "markdown",
   "metadata": {},
   "source": [
    "<center>$10.X = 1.10^1 + 2.10^2 + 3.10^3 +...+ (m-1).10^{m-1} + m.10^{m}$</center>\n",
    "<center>$X - 10.X = 1.10^0 + 1.10^1 + 1.10^2 +...+ 1.10^{m-1} - m.10^{m}$</center>\n",
    "<center>$-9X = 1.10^0 + 1.10^1 + 1.10^2 +...+ 1.10^{m-1} - m.10^{m}$</center>\n",
    "<center>$-9X = \\frac{10^m - 1}{9} - m.10^{m}$</center>\n",
    "<br/>\n",
    "<center>$X = \\frac{-1}{9}.(\\frac{10^m - 1}{9} - m.10^{m})$</center>\n",
    "<br/>\n",
    "<center>$S_m = 9.\\frac{-1}{9}.(\\frac{10^m - 1}{9} - m.10^{m})$</center>\n",
    "<br/>\n",
    "<center>$S_m = \\frac{-10^m}{9} + \\frac{1}{9} + m.10^m$</center>\n",
    "<br/>\n",
    "<center>$S_m = \\frac{9.m.10^m - 10^m + 1}{9}$</center>\n",
    "<center>$S_m = \\frac{10^m(9.m-1) + 1}{9}$</center>\n",
    "<center>$S_m = \\frac{10^m(9.m+9-10) + 1}{9}$</center>\n",
    "<center>$S_m = \\frac{10^m(9.m+9)-10^m.10 + 1}{9}$</center>\n",
    "<center>$S_m = \\frac{9.10^m(m+1)-10^{m+1} + 1}{9}$</center>"
   ]
  },
  {
   "cell_type": "markdown",
   "metadata": {},
   "source": [
    "This gives the sum of the indices up to $i=m$ number of digits."
   ]
  },
  {
   "cell_type": "markdown",
   "metadata": {},
   "source": [
    "With most of the details established, we can now come up with an algorithm which solves this problem.\n",
    "\n",
    "To determine the $n$th digit in the sequence, we obtain first the largest ending index less than $n$. We can use a `while` loop to achieve this. The `while` loop executes while `s` is less than or equal to `n`.\n",
    "\n",
    "Using initial values of `m=1` and `s=0`, we use `m` to track the number of times the loop is run so that we can also obtain the largest integer in the interval. For example, is the largest index less than is 2889, we expect the largest integer to be 999.\n",
    "\n",
    "```python\n",
    "#Initialize values of m and s\n",
    "m, s = 1, 0\n",
    "\n",
    "#Obtain largest ending index less than n\n",
    "while (s<=n):\n",
    "    s = (9*(10**m *(m+1)) - 10**(m+1) + 1)//9\n",
    "    m+=1\n",
    "```"
   ]
  },
  {
   "cell_type": "markdown",
   "metadata": {},
   "source": [
    "Using the value of `m`, we can determine the largest or maximum integer in the interval. This is trivial and is simply a string of 9's the size of the number of digits. As long as the evaluated s-value is less than $n$th digit we are looking for, we expect this maximum to be `m-1`. For example, if `s` is determined as 2889, we expect to have gone through the loop 3 times, and we also expect that whatever $n$ value we are trying to determine is less than or equal to 2889. This means the maximum integer in the space should be a string of 3 9's.\n",
    "\n",
    "```python\n",
    "upper_limit = int(str(9)*(m-1))\n",
    "```"
   ]
  },
  {
   "cell_type": "markdown",
   "metadata": {},
   "source": [
    "Next, we determine how far the desired $n$ digit is from the ending index counting backwards. We are looking to obtain the whole integer. In this case the element at the last index is in position `s-1`, but the number containing the desired $n$th digit has to be between `n` and `(s-1)`, a length of `(s-1)-n`. We shave this away from the total number `s`. This also has the side-effect of reducing the amount of computation we have to do.\n",
    "\n",
    "```python\n",
    "k=0\n",
    "d=((s-1)-n)\n",
    "```"
   ]
  },
  {
   "cell_type": "markdown",
   "metadata": {},
   "source": [
    "The value of `d` obtained from the previous step could be either divisible by `m-1` or not. It is in our interest for this to be cleanly divisible by `m-1` since we are looking to divide `d` into chunks of `m-1` to establish how far back from `s` we need to travel to obtain the whole integer which has the desired $n$th digit. \n",
    "\n",
    "Using a loop, we shave off 1 from the value of `d` until it is divisible by `m-1` while counting the number of steps, `k`, required to do this. This will be how far we need to into the whole integer to obtain our result. We expect that if we are dealing with a 5-digit number, for example, we should be able to divide `d` into chunks of 5 without remainders. So, this is more-or-less a fine-tuning stage, where we reshape `d` into a more divisible number and we count the number of times we have to do this.\n",
    "\n",
    "```python\n",
    "while d%(m-1) != 0:\n",
    "    d-=1\n",
    "    k+=1\n",
    "number = upper_limit - d//(m-1)\n",
    "```\n",
    "\n",
    "In the end, we obtain the whole number of interest."
   ]
  },
  {
   "cell_type": "markdown",
   "metadata": {},
   "source": [
    "The last step simply returns the $n$th digit by traveling into the whole number and extracting our result\n",
    "```python\n",
    "return str(number)[-1-k]\n",
    "```"
   ]
  },
  {
   "cell_type": "markdown",
   "metadata": {},
   "source": [
    "We can now put all of these together in a function which returns the $n$th digit in the counting series \"1234567891011121314151617181920212223...\""
   ]
  },
  {
   "cell_type": "code",
   "execution_count": 157,
   "metadata": {},
   "outputs": [],
   "source": [
    "def counting_series(n):\n",
    "    '''\n",
    "    Question:\n",
    "    The counting series \"1234567891011121314151617181920212223\"... is an \n",
    "    infinitely long string of digits 0-9 that consists of the positive integers \n",
    "    written in ascending order without any separators between the individual \n",
    "    numbers. This function should return the integer digit that is in the position n \n",
    "    of the counting series, with positions starting from 0 as usual in computing\n",
    "    \n",
    "    Solution:\n",
    "    Obtain closed form solution of the index of the largest n-digit number\n",
    "    and iterate backwards from that to digit in question\n",
    "    '''\n",
    "    #For numbers less than 9, simply return n+1\n",
    "    if n < 9:\n",
    "        return n+1\n",
    "    \n",
    "    #Initialize values of m and s\n",
    "    m, s = 1, 0\n",
    "    \n",
    "    #Obtain index of largest digit; index is lower than n\n",
    "    while (s<=n):\n",
    "        s = (9*(10**m *(m+1)) - 10**(m+1) + 1)//9\n",
    "        m+=1\n",
    "    #Obtain largest digit in interval\n",
    "    upper_limit = int(str(9)*(m-1))\n",
    "    \n",
    "    #Iterate through largest digit to establish\n",
    "    #how far backwards to go in calculating distance from\n",
    "    #largest digit to n\n",
    "    k=0\n",
    "    d=((s-1)-n)\n",
    "    while d%(m-1) != 0:\n",
    "        d-=1\n",
    "        k+=1\n",
    "    number = upper_limit - d//(m-1)\n",
    "    \n",
    "    #return string at location -1-k\n",
    "    return str(number)[-1-k]"
   ]
  },
  {
   "cell_type": "markdown",
   "metadata": {},
   "source": [
    "Trying with a value of 26 produces a value of 8, with the whole number being 18."
   ]
  },
  {
   "cell_type": "code",
   "execution_count": 158,
   "metadata": {},
   "outputs": [
    {
     "data": {
      "text/plain": [
       "'8'"
      ]
     },
     "execution_count": 158,
     "metadata": {},
     "output_type": "execute_result"
    }
   ],
   "source": [
    "counting_series(26)"
   ]
  },
  {
   "cell_type": "markdown",
   "metadata": {},
   "source": [
    "The $n$th digit at the position 5600 is 7"
   ]
  },
  {
   "cell_type": "code",
   "execution_count": 159,
   "metadata": {},
   "outputs": [
    {
     "data": {
      "text/plain": [
       "'7'"
      ]
     },
     "execution_count": 159,
     "metadata": {},
     "output_type": "execute_result"
    }
   ],
   "source": [
    "counting_series(5600)"
   ]
  }
 ],
 "metadata": {
  "kernelspec": {
   "display_name": "Python 3",
   "language": "python",
   "name": "python3"
  },
  "language_info": {
   "codemirror_mode": {
    "name": "ipython",
    "version": 3
   },
   "file_extension": ".py",
   "mimetype": "text/x-python",
   "name": "python",
   "nbconvert_exporter": "python",
   "pygments_lexer": "ipython3",
   "version": "3.8.3"
  }
 },
 "nbformat": 4,
 "nbformat_minor": 4
}
