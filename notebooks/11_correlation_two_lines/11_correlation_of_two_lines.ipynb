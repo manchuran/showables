{
 "cells": [
  {
   "cell_type": "markdown",
   "metadata": {},
   "source": [
    "## Correlation between two lines"
   ]
  },
  {
   "cell_type": "markdown",
   "metadata": {},
   "source": [
    "Any two straight lines each with slopes not equal to zero will always have a correlation coefficient of 1, if the slopes are in the same direction. If they are in different directions, the correlation coefficient is -1. This follows from $$r = \\frac{S_{xy}}{\\sqrt(S_{xx} S_{yy})}$$, which is the standard formula for the Pearson's correlation coefficient.\n",
    "\n",
    "To show this:\n",
    "$$r = \\frac{S_{xy}}{\\sqrt(S_{xx} S_{yy})}$$\n",
    "\n",
    "We seek the correlation between $y_1$ and $y_2$, where $y_1 = \\beta_1x + \\alpha_1$ and $y_2 = \\beta_2x + \\alpha_2$ over the same $x_i$ where $i = 1,...,m$.\n",
    "\n",
    "This means $$r = \\frac{S_{y_1y_2}}{\\sqrt(S_{y_1y_1} S_{y_2y_2})}$$.\n",
    "\n",
    "$$S_{y_1y_2} = \\sum y_1y_2 - \\frac{\\sum y_1\\sum y_2}{m}$$, where this is over $m$, but we have subsumed $i$ to avoid repetition. \n",
    "\n",
    "$$S_{y_1y_2} = \\sum (\\beta_1x + \\alpha_1)(\\beta_2x + \\alpha_2) - \\frac{\\sum (\\beta_1x + \\alpha_1)\\sum (\\beta_2x + \\alpha_2)}{m}$$.\n",
    "$$S_{y_1y_2} = \\sum (\\beta_1\\beta_2x^2 + \\beta_1\\alpha_2x + \\beta_2\\alpha_1x + \\alpha_1\\alpha_2) - \\frac{(\\beta_1\\sum x + \\sum \\alpha_1)(\\beta_2\\sum x + \\sum \\alpha_2)}{m}$$\n",
    "$$S_{y_1y_2} = \\beta_1\\beta_2\\sum x^2 + \\beta_1\\alpha_2\\sum x + \\beta_2\\alpha_1\\sum x + \\sum \\alpha_1\\alpha_2 - (\\frac{\\beta_1\\beta_2(\\sum x)^2 + m\\beta_1\\alpha_2\\sum x + m\\beta_2\\alpha_1\\sum x + m^2\\alpha_1\\alpha_2}{m})$$\n",
    "$$S_{y_1y_2} = \\frac{m\\beta_1\\beta_2\\sum x^2 + m(\\beta_1\\alpha_2 + \\beta_2\\alpha_1)\\sum x + m^2\\alpha_1\\alpha_2 - \\beta_1\\beta_2(\\sum x)^2 - m(\\beta_1\\alpha_2 + \\beta_2\\alpha_1)\\sum x - m^2\\alpha_1\\alpha_2}{m}$$\n",
    "$$S_{y_1y_2} = \\beta_1\\beta_2(\\sum x^2 - \\frac{(\\sum x)^2}{m})$$\n",
    "\n",
    "The other components of $r$ are obtained below. $S_{y_1y_1}$ is expressed as $\\sum y_1^2 - \\frac{(\\sum y_1)^2}{m}$. And with $y_1 = \\beta_1x + \\alpha_1$, this evaluates to:\n",
    "\n",
    "$$S_{y_1y_1} = \\sum(\\beta_1x + \\alpha_1)(\\beta_1x + \\alpha_1) - \\frac{(\\sum \\beta_1x + \\alpha_1)^2}{m}$$\n",
    "$$S_{y_1y_1} = \\sum (\\beta_1^2x^2 + 2\\beta_1\\alpha_1x + \\alpha_2) - \\frac{(\\beta_1\\sum x + m\\alpha_1)(\\beta_1\\sum x + m\\alpha_1)}{m}$$\n",
    "$$S_{y_1y_1} = \\beta_1^2\\sum x^2 + 2\\beta_1\\alpha_1\\sum x + \\sum \\alpha_1^2 - \\frac{(\\beta_1^2(\\sum x)^2 + 2m\\alpha_1\\beta_1\\sum x + m^2\\alpha_1^2)}{m}$$\n",
    "$$S_{y_1y_1} = \\frac{m\\beta_1^2\\sum x^2 + 2m\\beta_1\\alpha_1\\sum x + m^2\\alpha_1^2 - \\beta_1^2(\\sum x)^2 - 2m\\alpha_1\\beta_1\\sum x - m^2\\alpha_1^2}{m}$$\n",
    "$$S_{y_1y_1} = \\beta_1^2(\\sum x^2 - \\frac{(\\sum x)^2}{m})$$\n",
    "\n",
    "This also means that $S_{y_2y_2} = \\beta_2^2(\\sum x^2 - \\frac{(\\sum x)^2}{m})$.\n",
    "\n",
    "This follows that $r$ which is $\\frac{S_{y_1y_2}}{\\sqrt(S_{y_1y_1} S_{y_2y_2})}$, becomes:\n",
    "$$r = \\frac{\\beta_1\\beta_2(\\sum x^2 - \\frac{(\\sum x)^2}{m})}{\\sqrt(\\beta_1^2\\beta_2^2 (\\sum x^2 - \\frac{(\\sum x)^2}{m})^2)}$$.\n",
    "\n",
    "This means $$r = \\frac{\\beta_1\\beta_2}{\\sqrt(\\beta_1^2\\beta_2^2)}$$. Provided the slopes are not zero, i.e. $\\beta_1 \\neq 0$ and $\\beta_2 \\neq 0$, straight lines in the same direction will have positive $\\beta$'s, which makes $r$ evaluate to 1. Slopes in different direction will produce a negative numerator which evaluates their correlation to -1.\n",
    "\n"
   ]
  },
  {
   "cell_type": "code",
   "execution_count": null,
   "metadata": {},
   "outputs": [],
   "source": []
  }
 ],
 "metadata": {
  "kernelspec": {
   "display_name": "Python 3",
   "language": "python",
   "name": "python3"
  },
  "language_info": {
   "codemirror_mode": {
    "name": "ipython",
    "version": 3
   },
   "file_extension": ".py",
   "mimetype": "text/x-python",
   "name": "python",
   "nbconvert_exporter": "python",
   "pygments_lexer": "ipython3",
   "version": "3.8.3"
  }
 },
 "nbformat": 4,
 "nbformat_minor": 4
}
