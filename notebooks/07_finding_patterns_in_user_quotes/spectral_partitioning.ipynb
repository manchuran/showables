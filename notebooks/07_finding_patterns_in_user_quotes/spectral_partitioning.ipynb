{
 "cells": [
  {
   "cell_type": "code",
   "execution_count": null,
   "metadata": {},
   "outputs": [],
   "source": []
  },
  {
   "cell_type": "markdown",
   "metadata": {},
   "source": [
    "## Spectral partitioning"
   ]
  },
  {
   "cell_type": "markdown",
   "metadata": {},
   "source": [
    "We examine a data mining task of clustering a graph which defines a network of relationships. We collect data from a forum where posters can quote each other in reply to other posts. We define our data such that there exists a relationship between two people when they quote each other, i.e. if `A` quotes `B` in a post, then a relationship exists between `A` and `B`, and vice versa. If `C` makes a post on the thread, but does not quote anyone, then `C` has no relationship with any of the posters on the thread. \n",
    "\n",
    "We visualize these relationships between any two poster as a directed graph. The direction of the edges indicate who quotes who. We can define this as a relationship between `source` and `target`. A user in the `source` column has made a post and quotes the `target`. Multiple quotes have been separated into separate observations."
   ]
  },
  {
   "cell_type": "markdown",
   "metadata": {},
   "source": [
    "The overarching objective is to determine is there is any information latent in the nature of interaction on any particular thread. Some of the hypotheses include the possibility that a group of posters interact significantly more with each other and as a result form a cluster which exists somewhat independently of other groups of posters on the same thread. In any case, posters who had little or no interaction with others in the thread are very likely to stand apart from the giant cluster of active contributors."
   ]
  },
  {
   "cell_type": "markdown",
   "metadata": {},
   "source": [
    "**Collecting the data**. Here the code implements the data collection from the forum thread of interest. This code is particular to the forum of interest and will change depending on the nature of interaction with the `html` page. We use `BeautifulSoup` to extract the information residing in the tags."
   ]
  },
  {
   "cell_type": "code",
   "execution_count": 287,
   "metadata": {},
   "outputs": [],
   "source": [
    "from bs4 import BeautifulSoup\n",
    "import requests\n",
    "import pandas as pd\n",
    "import json\n",
    "import re"
   ]
  },
  {
   "cell_type": "code",
   "execution_count": 288,
   "metadata": {},
   "outputs": [],
   "source": [
    "#URL page\n",
    "link = 'https://www.nairaland.com/4945611/thread-tutorial-python-programming/'"
   ]
  },
  {
   "cell_type": "code",
   "execution_count": 289,
   "metadata": {},
   "outputs": [],
   "source": [
    "def getNodes(link):\n",
    "    nodes = {}\n",
    "    k = 0\n",
    "\n",
    "    for i in range(27): #link has 27 pages\n",
    "        url = link + str(i)\n",
    "        html = requests.get(url)\n",
    "        soup = BeautifulSoup(html.content)\n",
    "        tnodes = {} #Temporary nodes\n",
    "        print('Downloading page...',i, end='\\r')\n",
    "        for i, j in zip(soup.find_all('td', {'class': 'bold l pu'}), \n",
    "                       soup.find_all('td', {'class': 'l w pd'})):\n",
    "            if i.find('a', {'class': 'user'}):\n",
    "                tnodes['user'] = i.find('a', {'class': 'user'}).string\n",
    "            else:\n",
    "                tnodes['user'] = '?'\n",
    "            quoted = []\n",
    "            x = (j.find_all('blockquote'))\n",
    "            if x == []:\n",
    "                tnodes['quoted'] = []\n",
    "            else:\n",
    "                n = 0\n",
    "                while n < len(x):\n",
    "                    if x[n].a is not None:\n",
    "                        if re.match(pattern='/post/\\d*$', string=x[n].a['href']):\n",
    "                            quoted.append(x[n].a.b.string)\n",
    "                    n += 1\n",
    "                tnodes['quoted'] = quoted\n",
    "            nodes[k] = tnodes     \n",
    "            k += 1\n",
    "            tnodes = {}\n",
    "    return nodes"
   ]
  },
  {
   "cell_type": "code",
   "execution_count": 290,
   "metadata": {},
   "outputs": [
    {
     "name": "stdout",
     "output_type": "stream",
     "text": [
      "Downloading page... 26\r"
     ]
    }
   ],
   "source": [
    "mnodes = getNodes(link)"
   ]
  },
  {
   "cell_type": "markdown",
   "metadata": {},
   "source": [
    "We get a dictionary which contains information about each `user` and the poster quoted given as `quoted`. A peek into the resulting dictionary shows `user`-`quoted` pairs. For posts where no one is quoted, `quoted` is an empty list, while for `user` who has `quoted` another poster, `quoted` is a list containing that poster's username. for `user` who has quoted another poster multiple times, `quoted`, which is defined as a list, contains all of the posters that have been quoted. '?' is used to indicate unavailable posters."
   ]
  },
  {
   "cell_type": "code",
   "execution_count": 296,
   "metadata": {},
   "outputs": [
    {
     "name": "stdout",
     "output_type": "stream",
     "text": [
      "{\n",
      "    \"0\": {\n",
      "        \"user\": \"Paapii3d\",\n",
      "        \"quoted\": []\n",
      "    },\n",
      "    \"1\": {\n",
      "        \"user\": \"Paapii3d\",\n",
      "        \"quoted\": []\n",
      "    },\n",
      "    \"2\": {\n",
      "        \"user\": \"Paapii3d\",\n",
      "        \"quoted\": []\n",
      "    },\n",
      "    \"3\": {\n",
      "        \"user\": \"Ikennablue\",\n",
      "        \"quoted\": []\n",
      "    },\n",
      "    \"4\": {\n",
      "        \"user\": \"Paapii3d\",\n",
      "        \"quoted\": []\n",
      "    },\n",
      "    \"5\": {\n",
      "        \"user\": \"Paapii3d\",\n",
      "        \"quoted\": [\n",
      "            \"Ikennablue\"\n",
      "        ]\n",
      "    }\n",
      "}\n"
     ]
    }
   ],
   "source": [
    "print(json.dumps({key: value for key, value in list(mnodes.items())[:6]}, \n",
    "                 indent=4))"
   ]
  },
  {
   "cell_type": "markdown",
   "metadata": {},
   "source": [
    "We extract only keys where a relationship exists, i.e. keys where `quoted` is not null, while expanding any list of multiple quoted posters."
   ]
  },
  {
   "cell_type": "code",
   "execution_count": 303,
   "metadata": {},
   "outputs": [],
   "source": [
    "enodes = {}\n",
    "k = 0\n",
    "for i, j in mnodes.items():\n",
    "    for m in range(len(j['quoted'])):\n",
    "        enodes[k+m] = {}\n",
    "        enodes[k+m]['user'] = j['user'] \n",
    "    for n in range(len(j['quoted'])):\n",
    "        enodes[k+n]['quoted'] = j['quoted'][n]\n",
    "    k += 1"
   ]
  },
  {
   "cell_type": "code",
   "execution_count": 308,
   "metadata": {},
   "outputs": [
    {
     "name": "stdout",
     "output_type": "stream",
     "text": [
      "{\n",
      "    \"5\": {\n",
      "        \"user\": \"Paapii3d\",\n",
      "        \"quoted\": \"Ikennablue\"\n",
      "    },\n",
      "    \"24\": {\n",
      "        \"user\": \"Paapii3d\",\n",
      "        \"quoted\": \"Prefola\"\n",
      "    },\n",
      "    \"27\": {\n",
      "        \"user\": \"Paapii3d\",\n",
      "        \"quoted\": \"Ibruks\"\n",
      "    },\n",
      "    \"31\": {\n",
      "        \"user\": \"Paapii3d\",\n",
      "        \"quoted\": \"yusman14\"\n",
      "    },\n",
      "    \"32\": {\n",
      "        \"user\": \"KellaKella\",\n",
      "        \"quoted\": \"STENON\"\n",
      "    },\n",
      "    \"34\": {\n",
      "        \"user\": \"wasiubello\",\n",
      "        \"quoted\": \"Paapii3d\"\n",
      "    }\n",
      "}\n"
     ]
    }
   ],
   "source": [
    "print(json.dumps({key: value for key, value in list(enodes.items())[:6]}, \n",
    "                 indent=4))"
   ]
  },
  {
   "cell_type": "markdown",
   "metadata": {},
   "source": [
    "**Creating Graph**. We have defined the relationships which exist between posters based on whether they are quoted or not. We envisage \"quoting\" as a form of interaction between any two posters. We now create the desired graph by defining `source` and `target` elements in our graph network."
   ]
  },
  {
   "cell_type": "code",
   "execution_count": 155,
   "metadata": {},
   "outputs": [],
   "source": [
    "from networkx.convert_matrix import from_pandas_edgelist\n",
    "from networkx.drawing.nx_pylab import draw\n",
    "from networkx import DiGraph\n",
    "from networkx.drawing import circular_layout\n",
    "\n",
    "import matplotlib.pyplot as plt\n",
    "import numpy as np\n",
    "import scipy as sp\n",
    "import pandas as pd\n"
   ]
  },
  {
   "cell_type": "code",
   "execution_count": 435,
   "metadata": {},
   "outputs": [
    {
     "data": {
      "text/html": [
       "<div>\n",
       "<style scoped>\n",
       "    .dataframe tbody tr th:only-of-type {\n",
       "        vertical-align: middle;\n",
       "    }\n",
       "\n",
       "    .dataframe tbody tr th {\n",
       "        vertical-align: top;\n",
       "    }\n",
       "\n",
       "    .dataframe thead th {\n",
       "        text-align: right;\n",
       "    }\n",
       "</style>\n",
       "<table border=\"1\" class=\"dataframe\">\n",
       "  <thead>\n",
       "    <tr style=\"text-align: right;\">\n",
       "      <th></th>\n",
       "      <th>user</th>\n",
       "      <th>quoted</th>\n",
       "    </tr>\n",
       "  </thead>\n",
       "  <tbody>\n",
       "    <tr>\n",
       "      <th>0</th>\n",
       "      <td>Paapii3d</td>\n",
       "      <td>Ikennablue</td>\n",
       "    </tr>\n",
       "    <tr>\n",
       "      <th>1</th>\n",
       "      <td>Paapii3d</td>\n",
       "      <td>Prefola</td>\n",
       "    </tr>\n",
       "    <tr>\n",
       "      <th>2</th>\n",
       "      <td>Paapii3d</td>\n",
       "      <td>Ibruks</td>\n",
       "    </tr>\n",
       "    <tr>\n",
       "      <th>3</th>\n",
       "      <td>Paapii3d</td>\n",
       "      <td>yusman14</td>\n",
       "    </tr>\n",
       "    <tr>\n",
       "      <th>4</th>\n",
       "      <td>KellaKella</td>\n",
       "      <td>STENON</td>\n",
       "    </tr>\n",
       "  </tbody>\n",
       "</table>\n",
       "</div>"
      ],
      "text/plain": [
       "         user      quoted\n",
       "0    Paapii3d  Ikennablue\n",
       "1    Paapii3d     Prefola\n",
       "2    Paapii3d      Ibruks\n",
       "3    Paapii3d    yusman14\n",
       "4  KellaKella      STENON"
      ]
     },
     "execution_count": 435,
     "metadata": {},
     "output_type": "execute_result"
    }
   ],
   "source": [
    "edges = pd.DataFrame(enodes).T.reset_index(drop=True)\n",
    "edges.head()"
   ]
  },
  {
   "cell_type": "code",
   "execution_count": 436,
   "metadata": {},
   "outputs": [
    {
     "data": {
      "text/plain": [
       "user      270\n",
       "quoted    270\n",
       "dtype: int64"
      ]
     },
     "execution_count": 436,
     "metadata": {},
     "output_type": "execute_result"
    }
   ],
   "source": [
    "edges.count()"
   ]
  },
  {
   "cell_type": "markdown",
   "metadata": {},
   "source": [
    "We have a total of 270 observations in the dataset. However, some nodes are empty. These are indicated using '?'."
   ]
  },
  {
   "cell_type": "code",
   "execution_count": 437,
   "metadata": {},
   "outputs": [
    {
     "data": {
      "text/html": [
       "<div>\n",
       "<style scoped>\n",
       "    .dataframe tbody tr th:only-of-type {\n",
       "        vertical-align: middle;\n",
       "    }\n",
       "\n",
       "    .dataframe tbody tr th {\n",
       "        vertical-align: top;\n",
       "    }\n",
       "\n",
       "    .dataframe thead th {\n",
       "        text-align: right;\n",
       "    }\n",
       "</style>\n",
       "<table border=\"1\" class=\"dataframe\">\n",
       "  <thead>\n",
       "    <tr style=\"text-align: right;\">\n",
       "      <th></th>\n",
       "      <th>user</th>\n",
       "      <th>quoted</th>\n",
       "    </tr>\n",
       "  </thead>\n",
       "  <tbody>\n",
       "    <tr>\n",
       "      <th>19</th>\n",
       "      <td>?</td>\n",
       "      <td>Paapii3d</td>\n",
       "    </tr>\n",
       "    <tr>\n",
       "      <th>44</th>\n",
       "      <td>?</td>\n",
       "      <td>Henrique99</td>\n",
       "    </tr>\n",
       "    <tr>\n",
       "      <th>88</th>\n",
       "      <td>?</td>\n",
       "      <td>nappy760</td>\n",
       "    </tr>\n",
       "    <tr>\n",
       "      <th>90</th>\n",
       "      <td>?</td>\n",
       "      <td>nappy760</td>\n",
       "    </tr>\n",
       "    <tr>\n",
       "      <th>117</th>\n",
       "      <td>?</td>\n",
       "      <td>Paapii3d</td>\n",
       "    </tr>\n",
       "  </tbody>\n",
       "</table>\n",
       "</div>"
      ],
      "text/plain": [
       "    user      quoted\n",
       "19     ?    Paapii3d\n",
       "44     ?  Henrique99\n",
       "88     ?    nappy760\n",
       "90     ?    nappy760\n",
       "117    ?    Paapii3d"
      ]
     },
     "execution_count": 437,
     "metadata": {},
     "output_type": "execute_result"
    }
   ],
   "source": [
    "edges[(edges.user=='?') | (edges.quoted=='?')].head()"
   ]
  },
  {
   "cell_type": "markdown",
   "metadata": {},
   "source": [
    "We remove these empty nodes and provide the columns with more convenient names: `source` and `target`, showing the relationship between the nodes in the directed graph. "
   ]
  },
  {
   "cell_type": "code",
   "execution_count": 438,
   "metadata": {},
   "outputs": [
    {
     "data": {
      "text/html": [
       "<div>\n",
       "<style scoped>\n",
       "    .dataframe tbody tr th:only-of-type {\n",
       "        vertical-align: middle;\n",
       "    }\n",
       "\n",
       "    .dataframe tbody tr th {\n",
       "        vertical-align: top;\n",
       "    }\n",
       "\n",
       "    .dataframe thead th {\n",
       "        text-align: right;\n",
       "    }\n",
       "</style>\n",
       "<table border=\"1\" class=\"dataframe\">\n",
       "  <thead>\n",
       "    <tr style=\"text-align: right;\">\n",
       "      <th></th>\n",
       "      <th>user</th>\n",
       "      <th>quoted</th>\n",
       "    </tr>\n",
       "  </thead>\n",
       "  <tbody>\n",
       "    <tr>\n",
       "      <th>0</th>\n",
       "      <td>Paapii3d</td>\n",
       "      <td>Ikennablue</td>\n",
       "    </tr>\n",
       "    <tr>\n",
       "      <th>1</th>\n",
       "      <td>Paapii3d</td>\n",
       "      <td>Prefola</td>\n",
       "    </tr>\n",
       "    <tr>\n",
       "      <th>2</th>\n",
       "      <td>Paapii3d</td>\n",
       "      <td>Ibruks</td>\n",
       "    </tr>\n",
       "    <tr>\n",
       "      <th>3</th>\n",
       "      <td>Paapii3d</td>\n",
       "      <td>yusman14</td>\n",
       "    </tr>\n",
       "    <tr>\n",
       "      <th>4</th>\n",
       "      <td>KellaKella</td>\n",
       "      <td>STENON</td>\n",
       "    </tr>\n",
       "    <tr>\n",
       "      <th>...</th>\n",
       "      <td>...</td>\n",
       "      <td>...</td>\n",
       "    </tr>\n",
       "    <tr>\n",
       "      <th>265</th>\n",
       "      <td>Teejay13</td>\n",
       "      <td>mikael4me</td>\n",
       "    </tr>\n",
       "    <tr>\n",
       "      <th>266</th>\n",
       "      <td>onecoder</td>\n",
       "      <td>naijasensei</td>\n",
       "    </tr>\n",
       "    <tr>\n",
       "      <th>267</th>\n",
       "      <td>naijasensei</td>\n",
       "      <td>onecoder</td>\n",
       "    </tr>\n",
       "    <tr>\n",
       "      <th>268</th>\n",
       "      <td>binghammer</td>\n",
       "      <td>naijasensei</td>\n",
       "    </tr>\n",
       "    <tr>\n",
       "      <th>269</th>\n",
       "      <td>binghammer</td>\n",
       "      <td>onecoder</td>\n",
       "    </tr>\n",
       "  </tbody>\n",
       "</table>\n",
       "<p>263 rows × 2 columns</p>\n",
       "</div>"
      ],
      "text/plain": [
       "            user       quoted\n",
       "0       Paapii3d   Ikennablue\n",
       "1       Paapii3d      Prefola\n",
       "2       Paapii3d       Ibruks\n",
       "3       Paapii3d     yusman14\n",
       "4     KellaKella       STENON\n",
       "..           ...          ...\n",
       "265     Teejay13    mikael4me\n",
       "266     onecoder  naijasensei\n",
       "267  naijasensei     onecoder\n",
       "268   binghammer  naijasensei\n",
       "269   binghammer     onecoder\n",
       "\n",
       "[263 rows x 2 columns]"
      ]
     },
     "execution_count": 438,
     "metadata": {},
     "output_type": "execute_result"
    }
   ],
   "source": [
    "edges[(edges.user!='?') & (edges.quoted!='?')]"
   ]
  },
  {
   "cell_type": "code",
   "execution_count": 439,
   "metadata": {},
   "outputs": [
    {
     "data": {
      "text/html": [
       "<div>\n",
       "<style scoped>\n",
       "    .dataframe tbody tr th:only-of-type {\n",
       "        vertical-align: middle;\n",
       "    }\n",
       "\n",
       "    .dataframe tbody tr th {\n",
       "        vertical-align: top;\n",
       "    }\n",
       "\n",
       "    .dataframe thead th {\n",
       "        text-align: right;\n",
       "    }\n",
       "</style>\n",
       "<table border=\"1\" class=\"dataframe\">\n",
       "  <thead>\n",
       "    <tr style=\"text-align: right;\">\n",
       "      <th></th>\n",
       "      <th>source</th>\n",
       "      <th>target</th>\n",
       "    </tr>\n",
       "  </thead>\n",
       "  <tbody>\n",
       "    <tr>\n",
       "      <th>0</th>\n",
       "      <td>Paapii3d</td>\n",
       "      <td>Ikennablue</td>\n",
       "    </tr>\n",
       "    <tr>\n",
       "      <th>1</th>\n",
       "      <td>Paapii3d</td>\n",
       "      <td>Prefola</td>\n",
       "    </tr>\n",
       "    <tr>\n",
       "      <th>2</th>\n",
       "      <td>Paapii3d</td>\n",
       "      <td>Ibruks</td>\n",
       "    </tr>\n",
       "    <tr>\n",
       "      <th>3</th>\n",
       "      <td>Paapii3d</td>\n",
       "      <td>yusman14</td>\n",
       "    </tr>\n",
       "    <tr>\n",
       "      <th>4</th>\n",
       "      <td>KellaKella</td>\n",
       "      <td>STENON</td>\n",
       "    </tr>\n",
       "  </tbody>\n",
       "</table>\n",
       "</div>"
      ],
      "text/plain": [
       "       source      target\n",
       "0    Paapii3d  Ikennablue\n",
       "1    Paapii3d     Prefola\n",
       "2    Paapii3d      Ibruks\n",
       "3    Paapii3d    yusman14\n",
       "4  KellaKella      STENON"
      ]
     },
     "execution_count": 439,
     "metadata": {},
     "output_type": "execute_result"
    }
   ],
   "source": [
    "edges = (edges[(edges.user!='?') & (edges.quoted!='?')]\n",
    " .reset_index(drop=True)\n",
    " .rename(columns={'user': 'source', 'quoted': 'target'}))\n",
    "edges.head()"
   ]
  },
  {
   "cell_type": "code",
   "execution_count": 440,
   "metadata": {},
   "outputs": [
    {
     "name": "stdout",
     "output_type": "stream",
     "text": [
      "Total number of directed relationships in graph ==> 263\n"
     ]
    }
   ],
   "source": [
    "print(f'Total number of directed relationships in graph ==> {edges.__len__()}')"
   ]
  },
  {
   "cell_type": "markdown",
   "metadata": {},
   "source": [
    "As mentioned earlier, we visualize the relationship between `source` and `target` as a `A`-quotes-`B` relationship. A representation of this relationship is shown below for the first few observations in the dataset."
   ]
  },
  {
   "cell_type": "code",
   "execution_count": 441,
   "metadata": {},
   "outputs": [
    {
     "data": {
      "image/png": "[encoded data removed]",
      "text/plain": [
       "<Figure size 432x432 with 1 Axes>"
      ]
     },
     "metadata": {},
     "output_type": "display_data"
    }
   ],
   "source": [
    "relationships = edges.head(7)\n",
    "G = from_pandas_edgelist(relationships, source='source', target='target',\n",
    "                         create_using=DiGraph())\n",
    "plt.figure(figsize=(6,6))\n",
    "draw(G, arrows=True, with_labels=True, pos=circular_layout(G),\n",
    "    node_size=5000, node_color=None, font_color='white',\n",
    "    width=2, arrowsize=20)"
   ]
  },
  {
   "cell_type": "markdown",
   "metadata": {},
   "source": [
    "Our dataset probably has a few duplicate observations where `A` quotes `B` multiple times. We need no more than one instance of such interaction and will therefore eliminate duplicate observations. We will also symmetrize the edges so that we convert the graph into an undirected one. For our purposes, whether `A` quotes `B` or `B` quotes `A` is irrelevant. We only need confirmation of any interaction between `A` and `B`. This ensures that we obtain an adjacency matrix, $A$."
   ]
  },
  {
   "cell_type": "code",
   "execution_count": 442,
   "metadata": {},
   "outputs": [
    {
     "data": {
      "text/html": [
       "<div>\n",
       "<style scoped>\n",
       "    .dataframe tbody tr th:only-of-type {\n",
       "        vertical-align: middle;\n",
       "    }\n",
       "\n",
       "    .dataframe tbody tr th {\n",
       "        vertical-align: top;\n",
       "    }\n",
       "\n",
       "    .dataframe thead th {\n",
       "        text-align: right;\n",
       "    }\n",
       "</style>\n",
       "<table border=\"1\" class=\"dataframe\">\n",
       "  <thead>\n",
       "    <tr style=\"text-align: right;\">\n",
       "      <th></th>\n",
       "      <th>source</th>\n",
       "      <th>target</th>\n",
       "    </tr>\n",
       "  </thead>\n",
       "  <tbody>\n",
       "    <tr>\n",
       "      <th>0</th>\n",
       "      <td>Paapii3d</td>\n",
       "      <td>Ikennablue</td>\n",
       "    </tr>\n",
       "    <tr>\n",
       "      <th>1</th>\n",
       "      <td>Paapii3d</td>\n",
       "      <td>Prefola</td>\n",
       "    </tr>\n",
       "    <tr>\n",
       "      <th>2</th>\n",
       "      <td>Paapii3d</td>\n",
       "      <td>Ibruks</td>\n",
       "    </tr>\n",
       "    <tr>\n",
       "      <th>3</th>\n",
       "      <td>Paapii3d</td>\n",
       "      <td>yusman14</td>\n",
       "    </tr>\n",
       "    <tr>\n",
       "      <th>4</th>\n",
       "      <td>KellaKella</td>\n",
       "      <td>STENON</td>\n",
       "    </tr>\n",
       "  </tbody>\n",
       "</table>\n",
       "</div>"
      ],
      "text/plain": [
       "       source      target\n",
       "0    Paapii3d  Ikennablue\n",
       "1    Paapii3d     Prefola\n",
       "2    Paapii3d      Ibruks\n",
       "3    Paapii3d    yusman14\n",
       "4  KellaKella      STENON"
      ]
     },
     "execution_count": 442,
     "metadata": {},
     "output_type": "execute_result"
    }
   ],
   "source": [
    "def getSymmetrizedDf(edges):\n",
    "    edges_copy = edges.copy()\n",
    "    edges_copy = edges_copy.rename(columns={'source': 'target','target':'source'})\n",
    "    fedges = pd.concat([edges, edges_copy], axis=0)\n",
    "    return fedges.drop_duplicates().reset_index(drop=True)\n",
    "    \n",
    "# Demo of your function:\n",
    "relm = getSymmetrizedDf(edges)\n",
    "relm.head()"
   ]
  },
  {
   "cell_type": "markdown",
   "metadata": {},
   "source": [
    "We convert the dataframe into a sparse matrix where the entry is 1 if there is a relationship between `source` and `target`. Otherwise it is 0. The numerical ID of each node is determined from the `nodes` dataframe. The dimensions of the sparse matrix will be $n \\times n$, where $n$ is 1 plus the largest ID in `nodes.index`."
   ]
  },
  {
   "cell_type": "code",
   "execution_count": 519,
   "metadata": {},
   "outputs": [],
   "source": [
    "nodes = pd.DataFrame(relm.source.unique()).rename(columns={0: 'name'})"
   ]
  },
  {
   "cell_type": "code",
   "execution_count": 520,
   "metadata": {},
   "outputs": [],
   "source": [
    "def getSparseMatrix(nodes, edges):\n",
    "    \n",
    "    from scipy.sparse import coo_matrix\n",
    "    n = nodes.index.max() + 1\n",
    "    name_to_id = dict(zip(nodes['name'], nodes.index))\n",
    "    values = np.ones(len(edges))\n",
    "    rows = edges.source.apply(lambda x: name_to_id[x])\n",
    "    cols = edges.target.apply(lambda x: name_to_id[x])\n",
    "    A = coo_matrix((values, (rows, cols)), shape=(n,n))\n",
    "    return A    \n"
   ]
  },
  {
   "cell_type": "code",
   "execution_count": 522,
   "metadata": {},
   "outputs": [],
   "source": [
    "A = getSparseMatrix(nodes, relm)"
   ]
  },
  {
   "cell_type": "code",
   "execution_count": 521,
   "metadata": {},
   "outputs": [
    {
     "data": {
      "text/plain": [
       "(167, 167)"
      ]
     },
     "execution_count": 521,
     "metadata": {},
     "output_type": "execute_result"
    }
   ],
   "source": [
    "A.shape"
   ]
  },
  {
   "cell_type": "code",
   "execution_count": 523,
   "metadata": {},
   "outputs": [
    {
     "data": {
      "image/png": "[encoded data removed]",
      "text/plain": [
       "<Figure size 504x504 with 1 Axes>"
      ]
     },
     "metadata": {
      "needs_background": "light"
     },
     "output_type": "display_data"
    }
   ],
   "source": [
    "plt.figure(figsize=(7, 7))\n",
    "plt.spy(A, markersize=2, markeredgecolor='black');"
   ]
  },
  {
   "cell_type": "code",
   "execution_count": null,
   "metadata": {},
   "outputs": [],
   "source": []
  },
  {
   "cell_type": "markdown",
   "metadata": {},
   "source": [
    "**Mining Relationships**. A plot of the sparse matrix shows the relationship existent between the nodes. Our objective is to cluster this relationship based on how connceted the nodes are. To realize this, we use the graph Laplacian, defined as $L = D - A$, where $A$ is the matrix of symmetrized relationships defined earlier and $D$ is the diagonal matrix consisting of the degree of every node. We use spectral graph partioning which is a graph partitioning technique based on the eigenvalues and eigenvectors of the Laplacian matrix of a graph to derive the communities present in the data."
   ]
  },
  {
   "cell_type": "markdown",
   "metadata": {},
   "source": [
    "The Laplacian is symmetric since it is derived from another symmetric matrix. Its eigenvalues are also non-negative. Its smallest eigenvalue is 0, but the second smallest and its corresponding eigenvector encode significant information about the relationship between the nodes in the matrix. We exploit this fact to cluster the nodes."
   ]
  },
  {
   "cell_type": "code",
   "execution_count": 524,
   "metadata": {},
   "outputs": [],
   "source": [
    "def partition_inds_by_sign(x):\n",
    "    r_x = np.argwhere(x>0).flatten()\n",
    "    l_x = np.argwhere(x<=0).flatten()\n",
    "    return r_x, l_x\n",
    "\n",
    "def invert_perm(k):\n",
    "    return np.array(list(zip(*sorted(list(zip(np.arange(len(k)),k)), \n",
    "                                     key=lambda x: x[1])))[0])"
   ]
  },
  {
   "cell_type": "code",
   "execution_count": 525,
   "metadata": {},
   "outputs": [],
   "source": [
    "def calc_fiedler_vector(A):\n",
    "    from scipy.sparse import spdiags\n",
    "    from scipy.sparse.linalg import eigsh\n",
    "    n = min(A.shape)\n",
    "    D = spdiags(A.sum(axis=1).reshape(n), diags=0, m=A.shape[0], n=A.shape[1])\n",
    "    L = D - A # Laplacian\n",
    "    _, V = eigsh(L, k=2, which='SM') # Determine 2nd smallest eigenpair\n",
    "    return V[:, 1]\n",
    "\n",
    "v = calc_fiedler_vector(A)"
   ]
  },
  {
   "cell_type": "markdown",
   "metadata": {},
   "source": [
    "When data is partitioned using the fielder vector (corresponding eigenvector of second smallest eigenvalue), we form two groups. One from components with positive sign, and the other from components with non-positive sign. The plot below indicates how the fielder vector splits the data."
   ]
  },
  {
   "cell_type": "code",
   "execution_count": 526,
   "metadata": {},
   "outputs": [
    {
     "data": {
      "image/png": "[encoded data removed]",
      "text/plain": [
       "<Figure size 432x288 with 1 Axes>"
      ]
     },
     "metadata": {
      "needs_background": "light"
     },
     "output_type": "display_data"
    }
   ],
   "source": [
    "plt.plot(sorted(v));"
   ]
  },
  {
   "cell_type": "code",
   "execution_count": 527,
   "metadata": {},
   "outputs": [
    {
     "name": "stdout",
     "output_type": "stream",
     "text": [
      "=== Group 0 ===\n"
     ]
    },
    {
     "data": {
      "text/html": [
       "<div>\n",
       "<style scoped>\n",
       "    .dataframe tbody tr th:only-of-type {\n",
       "        vertical-align: middle;\n",
       "    }\n",
       "\n",
       "    .dataframe tbody tr th {\n",
       "        vertical-align: top;\n",
       "    }\n",
       "\n",
       "    .dataframe thead th {\n",
       "        text-align: right;\n",
       "    }\n",
       "</style>\n",
       "<table border=\"1\" class=\"dataframe\">\n",
       "  <thead>\n",
       "    <tr style=\"text-align: right;\">\n",
       "      <th></th>\n",
       "      <th>name</th>\n",
       "    </tr>\n",
       "  </thead>\n",
       "  <tbody>\n",
       "    <tr>\n",
       "      <th>1</th>\n",
       "      <td>KellaKella</td>\n",
       "    </tr>\n",
       "    <tr>\n",
       "      <th>7</th>\n",
       "      <td>STENON</td>\n",
       "    </tr>\n",
       "    <tr>\n",
       "      <th>24</th>\n",
       "      <td>Adesuwa147</td>\n",
       "    </tr>\n",
       "    <tr>\n",
       "      <th>32</th>\n",
       "      <td>babajeje123</td>\n",
       "    </tr>\n",
       "    <tr>\n",
       "      <th>35</th>\n",
       "      <td>princesweetman2</td>\n",
       "    </tr>\n",
       "    <tr>\n",
       "      <th>48</th>\n",
       "      <td>Slymking</td>\n",
       "    </tr>\n",
       "    <tr>\n",
       "      <th>62</th>\n",
       "      <td>ssappsnwebs</td>\n",
       "    </tr>\n",
       "    <tr>\n",
       "      <th>63</th>\n",
       "      <td>eboigbedavid1</td>\n",
       "    </tr>\n",
       "    <tr>\n",
       "      <th>78</th>\n",
       "      <td>Raalsalghul</td>\n",
       "    </tr>\n",
       "    <tr>\n",
       "      <th>79</th>\n",
       "      <td>ges2019</td>\n",
       "    </tr>\n",
       "    <tr>\n",
       "      <th>80</th>\n",
       "      <td>DriggityDre</td>\n",
       "    </tr>\n",
       "    <tr>\n",
       "      <th>94</th>\n",
       "      <td>Enemetronics</td>\n",
       "    </tr>\n",
       "    <tr>\n",
       "      <th>140</th>\n",
       "      <td>mirajpress</td>\n",
       "    </tr>\n",
       "    <tr>\n",
       "      <th>143</th>\n",
       "      <td>mayor6254</td>\n",
       "    </tr>\n",
       "    <tr>\n",
       "      <th>146</th>\n",
       "      <td>kiddkash</td>\n",
       "    </tr>\n",
       "    <tr>\n",
       "      <th>152</th>\n",
       "      <td>Internet247</td>\n",
       "    </tr>\n",
       "    <tr>\n",
       "      <th>154</th>\n",
       "      <td>King1982</td>\n",
       "    </tr>\n",
       "    <tr>\n",
       "      <th>155</th>\n",
       "      <td>Sanquine</td>\n",
       "    </tr>\n",
       "    <tr>\n",
       "      <th>159</th>\n",
       "      <td>whitelotus</td>\n",
       "    </tr>\n",
       "    <tr>\n",
       "      <th>160</th>\n",
       "      <td>omoowhe</td>\n",
       "    </tr>\n",
       "  </tbody>\n",
       "</table>\n",
       "</div>"
      ],
      "text/plain": [
       "                name\n",
       "1         KellaKella\n",
       "7             STENON\n",
       "24        Adesuwa147\n",
       "32       babajeje123\n",
       "35   princesweetman2\n",
       "48          Slymking\n",
       "62       ssappsnwebs\n",
       "63     eboigbedavid1\n",
       "78       Raalsalghul\n",
       "79           ges2019\n",
       "80       DriggityDre\n",
       "94      Enemetronics\n",
       "140       mirajpress\n",
       "143        mayor6254\n",
       "146         kiddkash\n",
       "152      Internet247\n",
       "154         King1982\n",
       "155         Sanquine\n",
       "159       whitelotus\n",
       "160          omoowhe"
      ]
     },
     "metadata": {},
     "output_type": "display_data"
    },
    {
     "name": "stdout",
     "output_type": "stream",
     "text": [
      "\n",
      "=== Group 1 ===\n"
     ]
    },
    {
     "data": {
      "text/html": [
       "<div>\n",
       "<style scoped>\n",
       "    .dataframe tbody tr th:only-of-type {\n",
       "        vertical-align: middle;\n",
       "    }\n",
       "\n",
       "    .dataframe tbody tr th {\n",
       "        vertical-align: top;\n",
       "    }\n",
       "\n",
       "    .dataframe thead th {\n",
       "        text-align: right;\n",
       "    }\n",
       "</style>\n",
       "<table border=\"1\" class=\"dataframe\">\n",
       "  <thead>\n",
       "    <tr style=\"text-align: right;\">\n",
       "      <th></th>\n",
       "      <th>name</th>\n",
       "    </tr>\n",
       "  </thead>\n",
       "  <tbody>\n",
       "    <tr>\n",
       "      <th>0</th>\n",
       "      <td>Paapii3d</td>\n",
       "    </tr>\n",
       "    <tr>\n",
       "      <th>2</th>\n",
       "      <td>wasiubello</td>\n",
       "    </tr>\n",
       "    <tr>\n",
       "      <th>3</th>\n",
       "      <td>drvalency</td>\n",
       "    </tr>\n",
       "    <tr>\n",
       "      <th>4</th>\n",
       "      <td>yusman14</td>\n",
       "    </tr>\n",
       "    <tr>\n",
       "      <th>5</th>\n",
       "      <td>sweetilicious</td>\n",
       "    </tr>\n",
       "    <tr>\n",
       "      <th>...</th>\n",
       "      <td>...</td>\n",
       "    </tr>\n",
       "    <tr>\n",
       "      <th>162</th>\n",
       "      <td>Vicogrin</td>\n",
       "    </tr>\n",
       "    <tr>\n",
       "      <th>163</th>\n",
       "      <td>Lolo24</td>\n",
       "    </tr>\n",
       "    <tr>\n",
       "      <th>164</th>\n",
       "      <td>IFIRI</td>\n",
       "    </tr>\n",
       "    <tr>\n",
       "      <th>165</th>\n",
       "      <td>Nonychinonso</td>\n",
       "    </tr>\n",
       "    <tr>\n",
       "      <th>166</th>\n",
       "      <td>Luckybelt</td>\n",
       "    </tr>\n",
       "  </tbody>\n",
       "</table>\n",
       "<p>147 rows × 1 columns</p>\n",
       "</div>"
      ],
      "text/plain": [
       "              name\n",
       "0         Paapii3d\n",
       "2       wasiubello\n",
       "3        drvalency\n",
       "4         yusman14\n",
       "5    sweetilicious\n",
       "..             ...\n",
       "162       Vicogrin\n",
       "163         Lolo24\n",
       "164          IFIRI\n",
       "165   Nonychinonso\n",
       "166      Luckybelt\n",
       "\n",
       "[147 rows x 1 columns]"
      ]
     },
     "metadata": {},
     "output_type": "display_data"
    }
   ],
   "source": [
    "k_g, k_l = partition_inds_by_sign(v)\n",
    "\n",
    "print(\"=== Group 0 ===\")\n",
    "display(nodes.loc[k_g])\n",
    "\n",
    "print(\"\\n=== Group 1 ===\")\n",
    "display(nodes.loc[k_l])"
   ]
  },
  {
   "cell_type": "markdown",
   "metadata": {},
   "source": [
    "We end up with two groups of data, which when plotted produce the relationship shown below"
   ]
  },
  {
   "cell_type": "code",
   "execution_count": 528,
   "metadata": {},
   "outputs": [],
   "source": [
    "def reorder_by_fiedler(A, v):\n",
    "    from scipy.sparse import coo_matrix\n",
    "    assert isinstance(A, type(coo_matrix((1, 1))))\n",
    "\n",
    "    r_v, l_v = partition_inds_by_sign(v)\n",
    "    ind = np.concatenate((r_v, l_v))\n",
    "    v_dict = dict(zip(ind, np.arange(len(ind))))\n",
    "    \n",
    "    A_n_row = [v_dict[i] for i in A.row]\n",
    "    A_n_col = [v_dict[i] for i in A.col]\n",
    "    \n",
    "    A_perm = coo_matrix((A.data, (A_n_row, A_n_col)), shape=A.shape)\n",
    "    return A_perm\n",
    "\n",
    "    \n",
    "A_perm = reorder_by_fiedler(A, v)"
   ]
  },
  {
   "cell_type": "code",
   "execution_count": 529,
   "metadata": {},
   "outputs": [
    {
     "data": {
      "image/png": "[encoded data removed]",
      "text/plain": [
       "<Figure size 504x504 with 1 Axes>"
      ]
     },
     "metadata": {
      "needs_background": "light"
     },
     "output_type": "display_data"
    }
   ],
   "source": [
    "plt.figure(figsize=(7, 7))\n",
    "plt.spy(A_perm, markersize=2, markeredgecolor='black')\n",
    "plt.show()"
   ]
  },
  {
   "cell_type": "markdown",
   "metadata": {},
   "source": [
    "The graph above shows the two groups inherent in the data based on interaction between posters. In this particular dataset, the main center of interaction is the original poster (OP) who is `Paapii3d`. The groups appear to be divided based on those who have or did not have interactions with the OP. When the individual groups are examined, we find that `Group 0` users are less likely to have interacted with `Paapii3d`, while users in `Group 1` are more likely to have interacted with the OP. The average number of interactions in `Group 0` is about 1.1, while the average number of interactions in `Group 1` is much higher at 2.12."
   ]
  },
  {
   "cell_type": "code",
   "execution_count": 547,
   "metadata": {},
   "outputs": [],
   "source": [
    "group0, group1 = [], []\n",
    "for name in nodes.loc[k_g].values:\n",
    "    group0.append(relm[relm['source'] == name[0]].count().loc['source'])\n",
    "\n",
    "for name in nodes.loc[k_l].values:\n",
    "    group1.append(relm[relm['source'] == name[0]].count().loc['source'])"
   ]
  },
  {
   "cell_type": "code",
   "execution_count": 546,
   "metadata": {},
   "outputs": [
    {
     "name": "stdout",
     "output_type": "stream",
     "text": [
      "Average number of interactions in Group 0 ==> 1.1\n",
      "Average number of interactions in Group 1 ==> 2.12\n"
     ]
    }
   ],
   "source": [
    "print(f'Average number of interactions in Group 0 ==> {round(sum(group0) / group0.__len__(), 2)}')\n",
    "print(f'Average number of interactions in Group 1 ==> {round(sum(group1) / group1.__len__(), 2)}')"
   ]
  },
  {
   "cell_type": "markdown",
   "metadata": {},
   "source": [
    "## References"
   ]
  },
  {
   "cell_type": "markdown",
   "metadata": {},
   "source": [
    "Weisstein, Eric W. \"Spectral Graph Partitioning.\" From MathWorld--A Wolfram Web Resource. https://mathworld.wolfram.com/SpectralGraphPartitioning.html\n",
    "\n",
    "Weisstein, Eric W. \"Laplacian Matrix.\" From MathWorld--A Wolfram Web Resource. https://mathworld.wolfram.com/LaplacianMatrix.html\n",
    "\n",
    "Sikdar, S. \"Spectral Community Detection.\" Retrieved from https://www3.nd.edu/~kogge/courses/cse60742-Fall2018/Public/StudentWork/KernelPaperFinal/SCD-Sikdar-final.pdf"
   ]
  },
  {
   "cell_type": "code",
   "execution_count": null,
   "metadata": {},
   "outputs": [],
   "source": []
  }
 ],
 "metadata": {
  "kernelspec": {
   "display_name": "Python 3",
   "language": "python",
   "name": "python3"
  },
  "language_info": {
   "codemirror_mode": {
    "name": "ipython",
    "version": 3
   },
   "file_extension": ".py",
   "mimetype": "text/x-python",
   "name": "python",
   "nbconvert_exporter": "python",
   "pygments_lexer": "ipython3",
   "version": "3.8.3"
  }
 },
 "nbformat": 4,
 "nbformat_minor": 4
}
