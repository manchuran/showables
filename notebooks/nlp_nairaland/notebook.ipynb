{
 "cells": [
  {
   "cell_type": "markdown",
   "metadata": {},
   "source": [
    "## NLP using the Nairaland data set\n",
    "<p><img style=\"float: right; margin:5px 20px 5px 1px; width:30%\" src=\"images/1846558_nairaland_jpeg17f3033a54a45a2f5c3b8e1a93cae65d.jpg\"></p>\n",
    "<p></p>\n",
    "<p>Nairaland is Nigeria's foremost talk forum. Topics available for discussion range from Politics to Science. Currently, there are about 2.4m registered members on the website and 5.6m created topics. The website opened shop sometime around March 2005 and since then has served the country quite well in its reporting.</p>\n",
    "\n",
    "Though it aggregates news, most of its topics are create by users who visit the website daily. Lately, however, special moderators have taken up this task. Because of its prominence, the website's frontpage is coveted by many who posts different topics on the site. This has resulted in varying topics and diverse opinions gracing the frontpage over time. Using `BeautifulSoup`, we parsed its frontpage and retrieved a whole year's worth of topics for analysis. This is available [here](https://raw.githubusercontent.com/manchuran/datasets/master/nairaland/basic/nl_dataset.csv) for those who many be interested in additional analysis using the data."
   ]
  },
  {
   "cell_type": "markdown",
   "metadata": {},
   "source": [
    "### 1. Exploratory Analysis"
   ]
  },
  {
   "cell_type": "code",
   "execution_count": 140,
   "metadata": {},
   "outputs": [],
   "source": [
    "#Load required libraries\n",
    "library(readr)\n",
    "library(ggplot2)\n",
    "library(dplyr)\n",
    "library(tidyr)\n",
    "library(lubridate)"
   ]
  },
  {
   "cell_type": "code",
   "execution_count": 7,
   "metadata": {
    "scrolled": false
   },
   "outputs": [
    {
     "name": "stderr",
     "output_type": "stream",
     "text": [
      "Warning message:\n",
      "\"Missing column names filled in: 'X1' [1]\"Parsed with column specification:\n",
      "cols(\n",
      "  X1 = col_double(),\n",
      "  link = col_character(),\n",
      "  title = col_character(),\n",
      "  section = col_character(),\n",
      "  author = col_character(),\n",
      "  frontPageDate = col_datetime(format = \"\"),\n",
      "  postedDate = col_datetime(format = \"\")\n",
      ")\n"
     ]
    },
    {
     "data": {
      "text/html": [
       "<table>\n",
       "<thead><tr><th scope=col>X1</th><th scope=col>link</th><th scope=col>title</th><th scope=col>section</th><th scope=col>author</th><th scope=col>frontPageDate</th><th scope=col>postedDate</th></tr></thead>\n",
       "<tbody>\n",
       "\t<tr><td>0                                                                               </td><td>https://www.nairaland.com/5898739/betsy-obaseki-visits-uwaila-omozuwas          </td><td>Rape In Church: Edo State First Lady Pays Condolence Visit To Family Of Late Uwa</td><td>Politics                                                                        </td><td>Osamudamen                                                                      </td><td>2020-06-02 19:45:00                                                             </td><td>2020-06-02 16:12:00                                                             </td></tr>\n",
       "\t<tr><td>1                                                                               </td><td>https://www.nairaland.com/5899069/produce-nysc-certificate-tribunal-ewhrudjakpo </td><td>Bayelsa: Produce Your NYSC Certificate – Tribunal Orders Governor Diri’s Deputy </td><td>Politics                                                                        </td><td>oshozondii                                                                      </td><td>2020-06-02 19:33:00                                                             </td><td>2020-06-02 19:26:00                                                             </td></tr>\n",
       "\t<tr><td>2                                                                               </td><td>https://www.nairaland.com/5899018/covid-19-governor-ikpeazus-two-aides          </td><td>COVID-19: Governor Ikpeazu's Two Aides Test Positive                            </td><td>Health                                                                          </td><td>EBMedia                                                                         </td><td>2020-06-02 19:14:00                                                             </td><td>2020-06-02 18:49:00                                                             </td></tr>\n",
       "\t<tr><td>3                                                                               </td><td>https://www.nairaland.com/5898966/man-kills-friend-over-ownership               </td><td>Man Kills His Friend Over Ownership Of Girlfriend In Bauchi                     </td><td>Crime                                                                           </td><td>Islie                                                                           </td><td>2020-06-02 19:09:00                                                             </td><td>2020-06-02 18:18:00                                                             </td></tr>\n",
       "\t<tr><td>4                                                                               </td><td>https://www.nairaland.com/5898916/pastor-emmanuel-bileya-wife-julianna          </td><td>Pastor And His Wife Killed In Taraba State (Photos)                             </td><td>Crime                                                                           </td><td>ganisucks                                                                       </td><td>2020-06-02 18:34:00                                                             </td><td>2020-06-02 17:47:00                                                             </td></tr>\n",
       "\t<tr><td>5                                                                               </td><td>https://www.nairaland.com/5898953/churches-mosques-remain-closed-lagos          </td><td>Churches And Mosques To Remain Closed In Lagos                                  </td><td>Religion                                                                        </td><td>dre11                                                                           </td><td>2020-06-02 18:21:00                                                             </td><td>2020-06-02 18:06:00                                                             </td></tr>\n",
       "</tbody>\n",
       "</table>\n"
      ],
      "text/latex": [
       "\\begin{tabular}{r|lllllll}\n",
       " X1 & link & title & section & author & frontPageDate & postedDate\\\\\n",
       "\\hline\n",
       "\t 0                                                                                & https://www.nairaland.com/5898739/betsy-obaseki-visits-uwaila-omozuwas           & Rape In Church: Edo State First Lady Pays Condolence Visit To Family Of Late Uwa & Politics                                                                         & Osamudamen                                                                       & 2020-06-02 19:45:00                                                              & 2020-06-02 16:12:00                                                             \\\\\n",
       "\t 1                                                                                & https://www.nairaland.com/5899069/produce-nysc-certificate-tribunal-ewhrudjakpo  & Bayelsa: Produce Your NYSC Certificate – Tribunal Orders Governor Diri’s Deputy  & Politics                                                                         & oshozondii                                                                       & 2020-06-02 19:33:00                                                              & 2020-06-02 19:26:00                                                             \\\\\n",
       "\t 2                                                                                & https://www.nairaland.com/5899018/covid-19-governor-ikpeazus-two-aides           & COVID-19: Governor Ikpeazu's Two Aides Test Positive                             & Health                                                                           & EBMedia                                                                          & 2020-06-02 19:14:00                                                              & 2020-06-02 18:49:00                                                             \\\\\n",
       "\t 3                                                                                & https://www.nairaland.com/5898966/man-kills-friend-over-ownership                & Man Kills His Friend Over Ownership Of Girlfriend In Bauchi                      & Crime                                                                            & Islie                                                                            & 2020-06-02 19:09:00                                                              & 2020-06-02 18:18:00                                                             \\\\\n",
       "\t 4                                                                                & https://www.nairaland.com/5898916/pastor-emmanuel-bileya-wife-julianna           & Pastor And His Wife Killed In Taraba State (Photos)                              & Crime                                                                            & ganisucks                                                                        & 2020-06-02 18:34:00                                                              & 2020-06-02 17:47:00                                                             \\\\\n",
       "\t 5                                                                                & https://www.nairaland.com/5898953/churches-mosques-remain-closed-lagos           & Churches And Mosques To Remain Closed In Lagos                                   & Religion                                                                         & dre11                                                                            & 2020-06-02 18:21:00                                                              & 2020-06-02 18:06:00                                                             \\\\\n",
       "\\end{tabular}\n"
      ],
      "text/markdown": [
       "\n",
       "| X1 | link | title | section | author | frontPageDate | postedDate |\n",
       "|---|---|---|---|---|---|---|\n",
       "| 0                                                                                | https://www.nairaland.com/5898739/betsy-obaseki-visits-uwaila-omozuwas           | Rape In Church: Edo State First Lady Pays Condolence Visit To Family Of Late Uwa | Politics                                                                         | Osamudamen                                                                       | 2020-06-02 19:45:00                                                              | 2020-06-02 16:12:00                                                              |\n",
       "| 1                                                                                | https://www.nairaland.com/5899069/produce-nysc-certificate-tribunal-ewhrudjakpo  | Bayelsa: Produce Your NYSC Certificate – Tribunal Orders Governor Diri’s Deputy  | Politics                                                                         | oshozondii                                                                       | 2020-06-02 19:33:00                                                              | 2020-06-02 19:26:00                                                              |\n",
       "| 2                                                                                | https://www.nairaland.com/5899018/covid-19-governor-ikpeazus-two-aides           | COVID-19: Governor Ikpeazu's Two Aides Test Positive                             | Health                                                                           | EBMedia                                                                          | 2020-06-02 19:14:00                                                              | 2020-06-02 18:49:00                                                              |\n",
       "| 3                                                                                | https://www.nairaland.com/5898966/man-kills-friend-over-ownership                | Man Kills His Friend Over Ownership Of Girlfriend In Bauchi                      | Crime                                                                            | Islie                                                                            | 2020-06-02 19:09:00                                                              | 2020-06-02 18:18:00                                                              |\n",
       "| 4                                                                                | https://www.nairaland.com/5898916/pastor-emmanuel-bileya-wife-julianna           | Pastor And His Wife Killed In Taraba State (Photos)                              | Crime                                                                            | ganisucks                                                                        | 2020-06-02 18:34:00                                                              | 2020-06-02 17:47:00                                                              |\n",
       "| 5                                                                                | https://www.nairaland.com/5898953/churches-mosques-remain-closed-lagos           | Churches And Mosques To Remain Closed In Lagos                                   | Religion                                                                         | dre11                                                                            | 2020-06-02 18:21:00                                                              | 2020-06-02 18:06:00                                                              |\n",
       "\n"
      ],
      "text/plain": [
       "  X1\n",
       "1 0 \n",
       "2 1 \n",
       "3 2 \n",
       "4 3 \n",
       "5 4 \n",
       "6 5 \n",
       "  link                                                                           \n",
       "1 https://www.nairaland.com/5898739/betsy-obaseki-visits-uwaila-omozuwas         \n",
       "2 https://www.nairaland.com/5899069/produce-nysc-certificate-tribunal-ewhrudjakpo\n",
       "3 https://www.nairaland.com/5899018/covid-19-governor-ikpeazus-two-aides         \n",
       "4 https://www.nairaland.com/5898966/man-kills-friend-over-ownership              \n",
       "5 https://www.nairaland.com/5898916/pastor-emmanuel-bileya-wife-julianna         \n",
       "6 https://www.nairaland.com/5898953/churches-mosques-remain-closed-lagos         \n",
       "  title                                                                           \n",
       "1 Rape In Church: Edo State First Lady Pays Condolence Visit To Family Of Late Uwa\n",
       "2 Bayelsa: Produce Your NYSC Certificate – Tribunal Orders Governor Diri’s Deputy \n",
       "3 COVID-19: Governor Ikpeazu's Two Aides Test Positive                            \n",
       "4 Man Kills His Friend Over Ownership Of Girlfriend In Bauchi                     \n",
       "5 Pastor And His Wife Killed In Taraba State (Photos)                             \n",
       "6 Churches And Mosques To Remain Closed In Lagos                                  \n",
       "  section  author     frontPageDate       postedDate         \n",
       "1 Politics Osamudamen 2020-06-02 19:45:00 2020-06-02 16:12:00\n",
       "2 Politics oshozondii 2020-06-02 19:33:00 2020-06-02 19:26:00\n",
       "3 Health   EBMedia    2020-06-02 19:14:00 2020-06-02 18:49:00\n",
       "4 Crime    Islie      2020-06-02 19:09:00 2020-06-02 18:18:00\n",
       "5 Crime    ganisucks  2020-06-02 18:34:00 2020-06-02 17:47:00\n",
       "6 Religion dre11      2020-06-02 18:21:00 2020-06-02 18:06:00"
      ]
     },
     "metadata": {},
     "output_type": "display_data"
    }
   ],
   "source": [
    "#Read in data\n",
    "nldata <- read_csv('https://raw.githubusercontent.com/manchuran/datasets/master/nairaland/basic/nl_dataset.csv')\n",
    "head(nldata)"
   ]
  },
  {
   "cell_type": "code",
   "execution_count": 380,
   "metadata": {},
   "outputs": [
    {
     "data": {
      "text/plain": [
       "     link              title             section             author         \n",
       " Length:28800       Length:28800       Length:28800       Length:28800      \n",
       " Class :character   Class :character   Class :character   Class :character  \n",
       " Mode  :character   Mode  :character   Mode  :character   Mode  :character  \n",
       "                                                                            \n",
       "                                                                            \n",
       "                                                                            \n",
       " frontPageDate                   postedDate                 \n",
       " Min.   :2019-05-31 15:38:00   Min.   :2011-05-08 00:33:00  \n",
       " 1st Qu.:2019-08-09 22:43:45   1st Qu.:2019-08-08 21:48:45  \n",
       " Median :2019-10-18 07:42:00   Median :2019-10-17 00:07:00  \n",
       " Mean   :2019-11-05 15:16:23   Mean   :2019-11-02 21:27:50  \n",
       " 3rd Qu.:2020-01-27 11:40:30   3rd Qu.:2020-01-26 15:31:00  \n",
       " Max.   :2020-06-02 19:45:00   Max.   :2020-06-02 19:26:00  "
      ]
     },
     "metadata": {},
     "output_type": "display_data"
    }
   ],
   "source": [
    "#Examine summary statistics\n",
    "summary(nldata[,-1])"
   ]
  },
  {
   "cell_type": "markdown",
   "metadata": {},
   "source": [
    "The data has 28.800 records which range from 31-05-2019 to 02-06-2020."
   ]
  },
  {
   "cell_type": "markdown",
   "metadata": {},
   "source": [
    "The data has six attributes. There is a `link` attribute which is the link to the frontpage thread, `title` which refers to the title of the frontpage thread, `section` where the thread is located on Nairaland. The `author` attribute refers to the creator of the thread. `frontPageDate` is the date the thread was posted to the front page of the website, and `postedDate` is the date the thread was created. According to the metadata, this is a year's worth of data from 2019 through to June 2020."
   ]
  },
  {
   "cell_type": "code",
   "execution_count": 16,
   "metadata": {},
   "outputs": [
    {
     "data": {
      "text/html": [
       "<table>\n",
       "<thead><tr><th scope=col>section</th><th scope=col>count</th></tr></thead>\n",
       "<tbody>\n",
       "\t<tr><td>Politics   </td><td>9892       </td></tr>\n",
       "\t<tr><td>Celebrities</td><td>4095       </td></tr>\n",
       "\t<tr><td>Crime      </td><td>2932       </td></tr>\n",
       "\t<tr><td>Sports     </td><td>2023       </td></tr>\n",
       "\t<tr><td>Health     </td><td>1581       </td></tr>\n",
       "\t<tr><td>Religion   </td><td>1090       </td></tr>\n",
       "\t<tr><td>Travel     </td><td>1090       </td></tr>\n",
       "\t<tr><td>Education  </td><td> 892       </td></tr>\n",
       "\t<tr><td>Romance    </td><td> 858       </td></tr>\n",
       "\t<tr><td>Business   </td><td> 615       </td></tr>\n",
       "</tbody>\n",
       "</table>\n"
      ],
      "text/latex": [
       "\\begin{tabular}{r|ll}\n",
       " section & count\\\\\n",
       "\\hline\n",
       "\t Politics    & 9892       \\\\\n",
       "\t Celebrities & 4095       \\\\\n",
       "\t Crime       & 2932       \\\\\n",
       "\t Sports      & 2023       \\\\\n",
       "\t Health      & 1581       \\\\\n",
       "\t Religion    & 1090       \\\\\n",
       "\t Travel      & 1090       \\\\\n",
       "\t Education   &  892       \\\\\n",
       "\t Romance     &  858       \\\\\n",
       "\t Business    &  615       \\\\\n",
       "\\end{tabular}\n"
      ],
      "text/markdown": [
       "\n",
       "| section | count |\n",
       "|---|---|\n",
       "| Politics    | 9892        |\n",
       "| Celebrities | 4095        |\n",
       "| Crime       | 2932        |\n",
       "| Sports      | 2023        |\n",
       "| Health      | 1581        |\n",
       "| Religion    | 1090        |\n",
       "| Travel      | 1090        |\n",
       "| Education   |  892        |\n",
       "| Romance     |  858        |\n",
       "| Business    |  615        |\n",
       "\n"
      ],
      "text/plain": [
       "   section     count\n",
       "1  Politics    9892 \n",
       "2  Celebrities 4095 \n",
       "3  Crime       2932 \n",
       "4  Sports      2023 \n",
       "5  Health      1581 \n",
       "6  Religion    1090 \n",
       "7  Travel      1090 \n",
       "8  Education    892 \n",
       "9  Romance      858 \n",
       "10 Business     615 "
      ]
     },
     "metadata": {},
     "output_type": "display_data"
    }
   ],
   "source": [
    "#Show frequency of sections on front page\n",
    "nldata_per_section <- nldata %>% group_by(section) %>% \n",
    "    summarize(count = n()) %>% \n",
    "    arrange(desc(count))\n",
    "\n",
    "nldata_per_section %>% head(10)"
   ]
  },
  {
   "cell_type": "code",
   "execution_count": 51,
   "metadata": {},
   "outputs": [
    {
     "data": {
      "image/png": "[encoded data removed]",
      "text/plain": [
       "plot without title"
      ]
     },
     "metadata": {},
     "output_type": "display_data"
    }
   ],
   "source": [
    "# Plot top sections\n",
    "nldata_per_section %>% head(10) %>%\n",
    "    ggplot(aes(x = section, y = count)) + geom_col() + scale_x_discrete(limits=nldata_per_section$section[1:10]) +\n",
    "        theme_bw()"
   ]
  },
  {
   "cell_type": "markdown",
   "metadata": {},
   "source": [
    "The most frequent section on the frontpage is Politics, followed by Celebrity at nearly half the number of Politics thread. Crime comes next. If we assume that the discussions on Nairaland is representative of the wider discussions in Nigeria, then one could very much suggest that politics is the dominant topic among Nigerians, followed by news regarding Celebrities. Health seems to have featured prominently in the top 10 as a result of the flood of news related to Covid-19 in the past months."
   ]
  },
  {
   "cell_type": "markdown",
   "metadata": {},
   "source": [
    "Using the same technique as above, we could also examine who the most frequent author is."
   ]
  },
  {
   "cell_type": "code",
   "execution_count": 61,
   "metadata": {},
   "outputs": [
    {
     "data": {
      "text/html": [
       "<table>\n",
       "<thead><tr><th scope=col>author</th><th scope=col>count</th></tr></thead>\n",
       "<tbody>\n",
       "\t<tr><td>dre11       </td><td>536         </td></tr>\n",
       "\t<tr><td>Islie       </td><td>508         </td></tr>\n",
       "\t<tr><td>ijustdey    </td><td>347         </td></tr>\n",
       "\t<tr><td>lalasticlala</td><td>342         </td></tr>\n",
       "\t<tr><td>fergie001   </td><td>317         </td></tr>\n",
       "\t<tr><td>OEPHIUS     </td><td>263         </td></tr>\n",
       "\t<tr><td>naptu2      </td><td>250         </td></tr>\n",
       "\t<tr><td>References  </td><td>246         </td></tr>\n",
       "\t<tr><td>AlexReports </td><td>196         </td></tr>\n",
       "\t<tr><td>ogbiwa      </td><td>184         </td></tr>\n",
       "</tbody>\n",
       "</table>\n"
      ],
      "text/latex": [
       "\\begin{tabular}{r|ll}\n",
       " author & count\\\\\n",
       "\\hline\n",
       "\t dre11        & 536         \\\\\n",
       "\t Islie        & 508         \\\\\n",
       "\t ijustdey     & 347         \\\\\n",
       "\t lalasticlala & 342         \\\\\n",
       "\t fergie001    & 317         \\\\\n",
       "\t OEPHIUS      & 263         \\\\\n",
       "\t naptu2       & 250         \\\\\n",
       "\t References   & 246         \\\\\n",
       "\t AlexReports  & 196         \\\\\n",
       "\t ogbiwa       & 184         \\\\\n",
       "\\end{tabular}\n"
      ],
      "text/markdown": [
       "\n",
       "| author | count |\n",
       "|---|---|\n",
       "| dre11        | 536          |\n",
       "| Islie        | 508          |\n",
       "| ijustdey     | 347          |\n",
       "| lalasticlala | 342          |\n",
       "| fergie001    | 317          |\n",
       "| OEPHIUS      | 263          |\n",
       "| naptu2       | 250          |\n",
       "| References   | 246          |\n",
       "| AlexReports  | 196          |\n",
       "| ogbiwa       | 184          |\n",
       "\n"
      ],
      "text/plain": [
       "   author       count\n",
       "1  dre11        536  \n",
       "2  Islie        508  \n",
       "3  ijustdey     347  \n",
       "4  lalasticlala 342  \n",
       "5  fergie001    317  \n",
       "6  OEPHIUS      263  \n",
       "7  naptu2       250  \n",
       "8  References   246  \n",
       "9  AlexReports  196  \n",
       "10 ogbiwa       184  "
      ]
     },
     "metadata": {},
     "output_type": "display_data"
    }
   ],
   "source": [
    "#Show them most prolific author over the year\n",
    "nldata_per_authors <- nldata %>% group_by(author) %>% \n",
    "    summarize(count = n()) %>% arrange(desc(count))\n",
    "nldata_per_authors %>% head(10)"
   ]
  },
  {
   "cell_type": "code",
   "execution_count": 68,
   "metadata": {},
   "outputs": [
    {
     "data": {
      "image/png": "[encoded data removed]",
      "text/plain": [
       "plot without title"
      ]
     },
     "metadata": {},
     "output_type": "display_data"
    }
   ],
   "source": [
    "# Plot top 30 authors\n",
    "nldata_per_authors %>% head(30) %>%\n",
    "    ggplot(aes(x = author, y = count)) + geom_col() + scale_x_discrete(limits=nldata_per_author$author[1:30]) +\n",
    "        theme_bw() + theme(axis.text.x = element_text(angle=90, vjust=.3))"
   ]
  },
  {
   "cell_type": "markdown",
   "metadata": {},
   "source": [
    "The most prolific author is dre11 with 536 topics. The next most prolific is Islie with 508 topics posted on the frontpage. These high frequencies of post from both seem to suggest that they are both moderators employed to do this job. Others in the lower half of the plot have post numbers that are fairly same. These appear to be regular users."
   ]
  },
  {
   "cell_type": "markdown",
   "metadata": {},
   "source": [
    "When we examine the amount of posts by each author for each section, we see that dre11 still has a higher number of posts, but posted more in Politics. Indeed, all the top three authors posted more in Politics than in any other section. However, lalasticlala posted more under Celebrities than in any other section. Ogbiwa, on the other hand, posted most under Sports."
   ]
  },
  {
   "cell_type": "code",
   "execution_count": 78,
   "metadata": {},
   "outputs": [
    {
     "data": {
      "text/html": [
       "<table>\n",
       "<thead><tr><th scope=col>section</th><th scope=col>author</th><th scope=col>Freq</th></tr></thead>\n",
       "<tbody>\n",
       "\t<tr><td>Politics    </td><td>dre11       </td><td>367         </td></tr>\n",
       "\t<tr><td>Politics    </td><td>Islie       </td><td>332         </td></tr>\n",
       "\t<tr><td>Politics    </td><td>ijustdey    </td><td>226         </td></tr>\n",
       "\t<tr><td>Politics    </td><td>OEPHIUS     </td><td>186         </td></tr>\n",
       "\t<tr><td>Sports      </td><td>ogbiwa      </td><td>178         </td></tr>\n",
       "\t<tr><td>Celebrities </td><td>lalasticlala</td><td>173         </td></tr>\n",
       "\t<tr><td>Politics    </td><td>fergie001   </td><td>168         </td></tr>\n",
       "\t<tr><td>Politics    </td><td>naptu2      </td><td>123         </td></tr>\n",
       "\t<tr><td>Politics    </td><td>References  </td><td>119         </td></tr>\n",
       "\t<tr><td>Celebrities </td><td>AlexReports </td><td> 85         </td></tr>\n",
       "\t<tr><td>Health      </td><td>fergie001   </td><td> 76         </td></tr>\n",
       "\t<tr><td>Sports      </td><td>naptu2      </td><td> 63         </td></tr>\n",
       "\t<tr><td>Crime       </td><td>Islie       </td><td> 56         </td></tr>\n",
       "\t<tr><td>Health      </td><td>References  </td><td> 56         </td></tr>\n",
       "\t<tr><td>Crime       </td><td>dre11       </td><td> 48         </td></tr>\n",
       "</tbody>\n",
       "</table>\n"
      ],
      "text/latex": [
       "\\begin{tabular}{r|lll}\n",
       " section & author & Freq\\\\\n",
       "\\hline\n",
       "\t Politics     & dre11        & 367         \\\\\n",
       "\t Politics     & Islie        & 332         \\\\\n",
       "\t Politics     & ijustdey     & 226         \\\\\n",
       "\t Politics     & OEPHIUS      & 186         \\\\\n",
       "\t Sports       & ogbiwa       & 178         \\\\\n",
       "\t Celebrities  & lalasticlala & 173         \\\\\n",
       "\t Politics     & fergie001    & 168         \\\\\n",
       "\t Politics     & naptu2       & 123         \\\\\n",
       "\t Politics     & References   & 119         \\\\\n",
       "\t Celebrities  & AlexReports  &  85         \\\\\n",
       "\t Health       & fergie001    &  76         \\\\\n",
       "\t Sports       & naptu2       &  63         \\\\\n",
       "\t Crime        & Islie        &  56         \\\\\n",
       "\t Health       & References   &  56         \\\\\n",
       "\t Crime        & dre11        &  48         \\\\\n",
       "\\end{tabular}\n"
      ],
      "text/markdown": [
       "\n",
       "| section | author | Freq |\n",
       "|---|---|---|\n",
       "| Politics     | dre11        | 367          |\n",
       "| Politics     | Islie        | 332          |\n",
       "| Politics     | ijustdey     | 226          |\n",
       "| Politics     | OEPHIUS      | 186          |\n",
       "| Sports       | ogbiwa       | 178          |\n",
       "| Celebrities  | lalasticlala | 173          |\n",
       "| Politics     | fergie001    | 168          |\n",
       "| Politics     | naptu2       | 123          |\n",
       "| Politics     | References   | 119          |\n",
       "| Celebrities  | AlexReports  |  85          |\n",
       "| Health       | fergie001    |  76          |\n",
       "| Sports       | naptu2       |  63          |\n",
       "| Crime        | Islie        |  56          |\n",
       "| Health       | References   |  56          |\n",
       "| Crime        | dre11        |  48          |\n",
       "\n"
      ],
      "text/plain": [
       "   section     author       Freq\n",
       "1  Politics    dre11        367 \n",
       "2  Politics    Islie        332 \n",
       "3  Politics    ijustdey     226 \n",
       "4  Politics    OEPHIUS      186 \n",
       "5  Sports      ogbiwa       178 \n",
       "6  Celebrities lalasticlala 173 \n",
       "7  Politics    fergie001    168 \n",
       "8  Politics    naptu2       123 \n",
       "9  Politics    References   119 \n",
       "10 Celebrities AlexReports   85 \n",
       "11 Health      fergie001     76 \n",
       "12 Sports      naptu2        63 \n",
       "13 Crime       Islie         56 \n",
       "14 Health      References    56 \n",
       "15 Crime       dre11         48 "
      ]
     },
     "metadata": {},
     "output_type": "display_data"
    }
   ],
   "source": [
    "nldata %>% select(section, author) %>% \n",
    "    filter(author %in% nldata_per_authors$author[1:10]) %>% \n",
    "    with(table(section, author)) %>% \n",
    "    as.data.frame %>% \n",
    "    arrange(desc(Freq)) %>% \n",
    "    head(15)"
   ]
  },
  {
   "cell_type": "markdown",
   "metadata": {},
   "source": [
    "We now retrieve the hour posts were made to examine its distribution."
   ]
  },
  {
   "cell_type": "code",
   "execution_count": 91,
   "metadata": {},
   "outputs": [
    {
     "data": {
      "image/png": "[encoded data removed]",
      "text/plain": [
       "plot without title"
      ]
     },
     "metadata": {},
     "output_type": "display_data"
    }
   ],
   "source": [
    "nldata %>% mutate(postHour = hour(frontPageDate)) %>% \n",
    "    ggplot(aes(x=postHour)) + geom_histogram(bins=15) + theme_bw() + xlab(\"Hours of Post on Front Page\")"
   ]
  },
  {
   "cell_type": "markdown",
   "metadata": {},
   "source": [
    "The hours post were placed on the front page reveals a noticeable pattern: very little posts were made around the hours of midnight and 3 in the mornings. Most posts were put on the front page in the early morning hours and at night. This shows that the greatest activities take place during the day time."
   ]
  },
  {
   "cell_type": "markdown",
   "metadata": {},
   "source": [
    "Could the same be true for hours when posts were created?"
   ]
  },
  {
   "cell_type": "code",
   "execution_count": 92,
   "metadata": {},
   "outputs": [
    {
     "data": {
      "image/png": "[encoded data removed]",
      "text/plain": [
       "plot without title"
      ]
     },
     "metadata": {},
     "output_type": "display_data"
    }
   ],
   "source": [
    "#Hours posts are created on Nairaland\n",
    "nldata %>% mutate(createHour = hour(postedDate)) %>% \n",
    "    ggplot(aes(x=createHour)) + geom_histogram(bins=15) + theme_bw() + xlab(\"Hours Posts Created\")"
   ]
  },
  {
   "cell_type": "markdown",
   "metadata": {},
   "source": [
    "Though it is noticeable that most posts are also created during the day time, there are significantly more posts created during midnight and early morning hours than there are posts put on the front page during these hours. These shows that Nairlanders converse at all hours. The moderators who place posts on the front page, however, must go for some rest at late hours."
   ]
  },
  {
   "cell_type": "markdown",
   "metadata": {},
   "source": [
    "And for the top poster? At what hours does he place posts on the front page? If he were indeed a moderator employed to work during day hours, these should happen most during the day time?"
   ]
  },
  {
   "cell_type": "code",
   "execution_count": 96,
   "metadata": {},
   "outputs": [
    {
     "data": {
      "image/png": "[encoded data removed]",
      "text/plain": [
       "plot without title"
      ]
     },
     "metadata": {},
     "output_type": "display_data"
    }
   ],
   "source": [
    "#Get hours of post on front page by top author\n",
    "nldata %>% filter(author == \"dre11\") %>% select(author, frontPageDate) %>% mutate(postHour = hour(frontPageDate)) %>% \n",
    "    ggplot(aes(x=postHour)) + geom_histogram(bins=15) + theme_bw() + xlab(\"Hours of Post on Front Page\")"
   ]
  },
  {
   "cell_type": "markdown",
   "metadata": {},
   "source": [
    "It appears the author, dre11, posts even during early morning hours, and many times during late hours. However, many more posts are during work hours. "
   ]
  },
  {
   "cell_type": "markdown",
   "metadata": {},
   "source": [
    "Examining this further for the top 10 posters on the front page, we see that posters like AlexReports and lalasticlala have mainly only posted in the morning hours from about 6am over the past year. All others have minor activity in the early morning hours, but reserve most of their posting to the day time. Lalasticala seems to have his major active hour at about 8 in the morning."
   ]
  },
  {
   "cell_type": "code",
   "execution_count": 122,
   "metadata": {},
   "outputs": [
    {
     "data": {
      "image/png": "[encoded data removed]",
      "text/plain": [
       "plot without title"
      ]
     },
     "metadata": {},
     "output_type": "display_data"
    }
   ],
   "source": [
    "#Get hours of post on front page by top 10 authors\n",
    "nldata %>% filter(author %in% nldata_per_authors$author[1:10]) %>% \n",
    "    select(author, frontPageDate) %>% \n",
    "    gather(key=key, value=value, -author) %>%\n",
    "    ggplot(aes(x=hour(value))) + geom_histogram(bins=15) + facet_wrap(.~author, nrow=2) + theme_bw() + \n",
    "        scale_x_continuous(breaks =seq(0,24,4)) + xlab(\"Hours of Post on Front Page\")"
   ]
  },
  {
   "cell_type": "markdown",
   "metadata": {},
   "source": [
    "Now, we group the number of posts created per month and examine its plot"
   ]
  },
  {
   "cell_type": "code",
   "execution_count": 169,
   "metadata": {},
   "outputs": [
    {
     "data": {
      "text/html": [
       "<table>\n",
       "<thead><tr><th scope=col>monthyear</th><th scope=col>count</th></tr></thead>\n",
       "<tbody>\n",
       "\t<tr><td>Apr2020</td><td>1679   </td></tr>\n",
       "\t<tr><td>Aug2019</td><td>3301   </td></tr>\n",
       "\t<tr><td>Dec2019</td><td>1999   </td></tr>\n",
       "\t<tr><td>Feb2020</td><td>1481   </td></tr>\n",
       "\t<tr><td>Jan2020</td><td>1735   </td></tr>\n",
       "\t<tr><td>Jul2019</td><td>3374   </td></tr>\n",
       "\t<tr><td>Jun2019</td><td>2830   </td></tr>\n",
       "\t<tr><td>Jun2020</td><td> 121   </td></tr>\n",
       "\t<tr><td>Mar2020</td><td>1739   </td></tr>\n",
       "\t<tr><td>May2019</td><td>  50   </td></tr>\n",
       "\t<tr><td>May2020</td><td>1908   </td></tr>\n",
       "\t<tr><td>Nov2019</td><td>2449   </td></tr>\n",
       "\t<tr><td>Oct2019</td><td>3116   </td></tr>\n",
       "\t<tr><td>Sep2019</td><td>3018   </td></tr>\n",
       "</tbody>\n",
       "</table>\n"
      ],
      "text/latex": [
       "\\begin{tabular}{r|ll}\n",
       " monthyear & count\\\\\n",
       "\\hline\n",
       "\t Apr2020 & 1679   \\\\\n",
       "\t Aug2019 & 3301   \\\\\n",
       "\t Dec2019 & 1999   \\\\\n",
       "\t Feb2020 & 1481   \\\\\n",
       "\t Jan2020 & 1735   \\\\\n",
       "\t Jul2019 & 3374   \\\\\n",
       "\t Jun2019 & 2830   \\\\\n",
       "\t Jun2020 &  121   \\\\\n",
       "\t Mar2020 & 1739   \\\\\n",
       "\t May2019 &   50   \\\\\n",
       "\t May2020 & 1908   \\\\\n",
       "\t Nov2019 & 2449   \\\\\n",
       "\t Oct2019 & 3116   \\\\\n",
       "\t Sep2019 & 3018   \\\\\n",
       "\\end{tabular}\n"
      ],
      "text/markdown": [
       "\n",
       "| monthyear | count |\n",
       "|---|---|\n",
       "| Apr2020 | 1679    |\n",
       "| Aug2019 | 3301    |\n",
       "| Dec2019 | 1999    |\n",
       "| Feb2020 | 1481    |\n",
       "| Jan2020 | 1735    |\n",
       "| Jul2019 | 3374    |\n",
       "| Jun2019 | 2830    |\n",
       "| Jun2020 |  121    |\n",
       "| Mar2020 | 1739    |\n",
       "| May2019 |   50    |\n",
       "| May2020 | 1908    |\n",
       "| Nov2019 | 2449    |\n",
       "| Oct2019 | 3116    |\n",
       "| Sep2019 | 3018    |\n",
       "\n"
      ],
      "text/plain": [
       "   monthyear count\n",
       "1  Apr2020   1679 \n",
       "2  Aug2019   3301 \n",
       "3  Dec2019   1999 \n",
       "4  Feb2020   1481 \n",
       "5  Jan2020   1735 \n",
       "6  Jul2019   3374 \n",
       "7  Jun2019   2830 \n",
       "8  Jun2020    121 \n",
       "9  Mar2020   1739 \n",
       "10 May2019     50 \n",
       "11 May2020   1908 \n",
       "12 Nov2019   2449 \n",
       "13 Oct2019   3116 \n",
       "14 Sep2019   3018 "
      ]
     },
     "metadata": {},
     "output_type": "display_data"
    }
   ],
   "source": [
    "nlmonthdata <- nldata %>% mutate(monthyear = paste0(month(frontPageDate, label=TRUE, abbr=TRUE), year(frontPageDate))) %>% \n",
    "group_by(monthyear) %>% summarize(count=n())\n",
    "nlmonthdata"
   ]
  },
  {
   "cell_type": "code",
   "execution_count": 170,
   "metadata": {},
   "outputs": [
    {
     "name": "stderr",
     "output_type": "stream",
     "text": [
      "Warning message:\n",
      "\"Column `monthyear` joining character vector and factor, coercing into character vector\""
     ]
    },
    {
     "data": {
      "text/html": [
       "<table>\n",
       "<thead><tr><th scope=col>monthyear</th><th scope=col>count</th><th scope=col>ind</th></tr></thead>\n",
       "<tbody>\n",
       "\t<tr><td>May2019</td><td>  50   </td><td>1      </td></tr>\n",
       "\t<tr><td>Jun2019</td><td>2830   </td><td>2      </td></tr>\n",
       "\t<tr><td>Jul2019</td><td>3374   </td><td>3      </td></tr>\n",
       "</tbody>\n",
       "</table>\n"
      ],
      "text/latex": [
       "\\begin{tabular}{r|lll}\n",
       " monthyear & count & ind\\\\\n",
       "\\hline\n",
       "\t May2019 &   50    & 1      \\\\\n",
       "\t Jun2019 & 2830    & 2      \\\\\n",
       "\t Jul2019 & 3374    & 3      \\\\\n",
       "\\end{tabular}\n"
      ],
      "text/markdown": [
       "\n",
       "| monthyear | count | ind |\n",
       "|---|---|---|\n",
       "| May2019 |   50    | 1       |\n",
       "| Jun2019 | 2830    | 2       |\n",
       "| Jul2019 | 3374    | 3       |\n",
       "\n"
      ],
      "text/plain": [
       "  monthyear count ind\n",
       "1 May2019     50  1  \n",
       "2 Jun2019   2830  2  \n",
       "3 Jul2019   3374  3  "
      ]
     },
     "metadata": {},
     "output_type": "display_data"
    }
   ],
   "source": [
    "#Create a new dataframe with monthyear and use to sort original dataframe\n",
    "monthyear = c(\"May2019\", \"Jun2019\", \"Jul2019\", \"Aug2019\", \"Sep2019\", \"Oct2019\", \"Nov2019\",\n",
    "                              \"Dec2019\", \"Jan2020\", \"Feb2020\", \"Mar2020\", \"Apr2020\", \"May2020\", \"Jun2020\")\n",
    "sort_df <- data.frame(monthyear=(monthyear), ind = 1:length(monthyear))\n",
    "nlmonthdata <- inner_join(nlmonthdata, sort_df, by=\"monthyear\") %>% arrange(ind)\n",
    "nlmonthdata %>% head(3)"
   ]
  },
  {
   "cell_type": "code",
   "execution_count": 167,
   "metadata": {},
   "outputs": [
    {
     "data": {
      "image/png": "[encoded data removed]",
      "text/plain": [
       "plot without title"
      ]
     },
     "metadata": {},
     "output_type": "display_data"
    }
   ],
   "source": [
    "#Plot posts per month\n",
    "nlmonthdata[-c(1,14),] %>% \n",
    "    ggplot(aes(x=monthyear, y=count, group=1)) + geom_line() + geom_point() + \n",
    "    scale_x_discrete(limits=nlmonthdata$monthyear[2:13]) + \n",
    "    theme_bw() + theme(axis.text.x = element_text(angle=90, vjust=.3))"
   ]
  },
  {
   "cell_type": "markdown",
   "metadata": {},
   "source": [
    "We have left out the first and last months in the data set as the data collected for these periods are not for an entire month. We see quite clearly a decreasing trend in the number of posts placed on the front page per month. The decrease started from October and lasted through to Februrary, before it changed direction. There was a rush of news on Covid-19 around this period. Could this have accounted for the uptick?\n",
    "\n",
    "Next, we look at the trend for each section."
   ]
  },
  {
   "cell_type": "code",
   "execution_count": 184,
   "metadata": {},
   "outputs": [
    {
     "name": "stderr",
     "output_type": "stream",
     "text": [
      "Warning message:\n",
      "\"Column `monthyear` joining character vector and factor, coercing into character vector\""
     ]
    },
    {
     "data": {
      "text/html": [
       "<table>\n",
       "<thead><tr><th scope=col>monthyear</th><th scope=col>section</th><th scope=col>count</th><th scope=col>ind</th></tr></thead>\n",
       "<tbody>\n",
       "\t<tr><td>May2019    </td><td>Business   </td><td> 3         </td><td>1          </td></tr>\n",
       "\t<tr><td>May2019    </td><td>Celebrities</td><td>13         </td><td>1          </td></tr>\n",
       "\t<tr><td>May2019    </td><td>Crime      </td><td> 4         </td><td>1          </td></tr>\n",
       "\t<tr><td>May2019    </td><td>Culture    </td><td> 1         </td><td>1          </td></tr>\n",
       "\t<tr><td>May2019    </td><td>Education  </td><td> 3         </td><td>1          </td></tr>\n",
       "\t<tr><td>May2019    </td><td>General    </td><td> 1         </td><td>1          </td></tr>\n",
       "\t<tr><td>May2019    </td><td>Phones     </td><td> 1         </td><td>1          </td></tr>\n",
       "</tbody>\n",
       "</table>\n"
      ],
      "text/latex": [
       "\\begin{tabular}{r|llll}\n",
       " monthyear & section & count & ind\\\\\n",
       "\\hline\n",
       "\t May2019     & Business    &  3          & 1          \\\\\n",
       "\t May2019     & Celebrities & 13          & 1          \\\\\n",
       "\t May2019     & Crime       &  4          & 1          \\\\\n",
       "\t May2019     & Culture     &  1          & 1          \\\\\n",
       "\t May2019     & Education   &  3          & 1          \\\\\n",
       "\t May2019     & General     &  1          & 1          \\\\\n",
       "\t May2019     & Phones      &  1          & 1          \\\\\n",
       "\\end{tabular}\n"
      ],
      "text/markdown": [
       "\n",
       "| monthyear | section | count | ind |\n",
       "|---|---|---|---|\n",
       "| May2019     | Business    |  3          | 1           |\n",
       "| May2019     | Celebrities | 13          | 1           |\n",
       "| May2019     | Crime       |  4          | 1           |\n",
       "| May2019     | Culture     |  1          | 1           |\n",
       "| May2019     | Education   |  3          | 1           |\n",
       "| May2019     | General     |  1          | 1           |\n",
       "| May2019     | Phones      |  1          | 1           |\n",
       "\n"
      ],
      "text/plain": [
       "  monthyear section     count ind\n",
       "1 May2019   Business     3    1  \n",
       "2 May2019   Celebrities 13    1  \n",
       "3 May2019   Crime        4    1  \n",
       "4 May2019   Culture      1    1  \n",
       "5 May2019   Education    3    1  \n",
       "6 May2019   General      1    1  \n",
       "7 May2019   Phones       1    1  "
      ]
     },
     "metadata": {},
     "output_type": "display_data"
    }
   ],
   "source": [
    "nldata %>% select(section, frontPageDate) %>% mutate(monthyear = paste0(month(frontPageDate, label=TRUE, abbr=TRUE), year(frontPageDate))) %>% \n",
    "group_by(monthyear, section) %>% summarize(count=n()) %>%\n",
    "inner_join(sort_df, by=\"monthyear\") %>% arrange(ind) %>% head(7)"
   ]
  },
  {
   "cell_type": "code",
   "execution_count": 183,
   "metadata": {},
   "outputs": [
    {
     "name": "stderr",
     "output_type": "stream",
     "text": [
      "Warning message:\n",
      "\"Column `monthyear` joining character vector and factor, coercing into character vector\"Warning message:\n",
      "\"Removed 9 row(s) containing missing values (geom_path).\""
     ]
    },
    {
     "data": {
      "image/png": "[encoded data removed]",
      "text/plain": [
       "plot without title"
      ]
     },
     "metadata": {},
     "output_type": "display_data"
    }
   ],
   "source": [
    "#Extract top sections\n",
    "nlmonthdata_top_sections <- nldata %>% select(section, frontPageDate) %>% \n",
    "    mutate(monthyear = paste0(month(frontPageDate, label=TRUE, abbr=TRUE), year(frontPageDate))) %>% \n",
    "    group_by(monthyear, section) %>% \n",
    "    filter(section %in% c(\"Politics\", \"Health\", \"Crime\", \"Celebrities\", \"Sports\")) %>% \n",
    "    summarize(count=n()) %>%\n",
    "    inner_join(sort_df, by=\"monthyear\") %>% arrange(ind) \n",
    "\n",
    "#Plot top sections\n",
    "nlmonthdata_top_sections %>%\n",
    "    ggplot(aes(x=monthyear, y =count, group=section, color=section)) + geom_line()  + \n",
    "        scale_x_discrete(limits=nlmonthdata$monthyear[2:13]) + \n",
    "        theme_bw() + theme(axis.text.x = element_text(angle=90, vjust=.3))"
   ]
  },
  {
   "cell_type": "markdown",
   "metadata": {},
   "source": [
    "When the posts for the top sections are examined over time, we see that while all other sections have generally trended\n",
    "downwards, health has trended upwards. This upward trend started mainly in February of 2020 when the news rush about the coronavirus pandemic started."
   ]
  },
  {
   "cell_type": "markdown",
   "metadata": {},
   "source": [
    "Is the decrease in number of posts from around October to November significant?\n",
    "We can use a t-test to check this.\n",
    "\n",
    "We extract first the daily data, and calculate how many posts are made per day for each month.\n"
   ]
  },
  {
   "cell_type": "code",
   "execution_count": 194,
   "metadata": {},
   "outputs": [
    {
     "data": {
      "text/html": [
       "<table>\n",
       "<thead><tr><th scope=col>daymonthyear</th><th scope=col>count</th></tr></thead>\n",
       "<tbody>\n",
       "\t<tr><td>10Apr2020</td><td> 55      </td></tr>\n",
       "\t<tr><td>10Aug2019</td><td> 92      </td></tr>\n",
       "\t<tr><td>10Dec2019</td><td> 63      </td></tr>\n",
       "\t<tr><td>10Feb2020</td><td> 35      </td></tr>\n",
       "\t<tr><td>10Jan2020</td><td> 56      </td></tr>\n",
       "\t<tr><td>10Jul2019</td><td>122      </td></tr>\n",
       "\t<tr><td>10Jun2019</td><td> 64      </td></tr>\n",
       "</tbody>\n",
       "</table>\n"
      ],
      "text/latex": [
       "\\begin{tabular}{r|ll}\n",
       " daymonthyear & count\\\\\n",
       "\\hline\n",
       "\t 10Apr2020 &  55      \\\\\n",
       "\t 10Aug2019 &  92      \\\\\n",
       "\t 10Dec2019 &  63      \\\\\n",
       "\t 10Feb2020 &  35      \\\\\n",
       "\t 10Jan2020 &  56      \\\\\n",
       "\t 10Jul2019 & 122      \\\\\n",
       "\t 10Jun2019 &  64      \\\\\n",
       "\\end{tabular}\n"
      ],
      "text/markdown": [
       "\n",
       "| daymonthyear | count |\n",
       "|---|---|\n",
       "| 10Apr2020 |  55       |\n",
       "| 10Aug2019 |  92       |\n",
       "| 10Dec2019 |  63       |\n",
       "| 10Feb2020 |  35       |\n",
       "| 10Jan2020 |  56       |\n",
       "| 10Jul2019 | 122       |\n",
       "| 10Jun2019 |  64       |\n",
       "\n"
      ],
      "text/plain": [
       "  daymonthyear count\n",
       "1 10Apr2020     55  \n",
       "2 10Aug2019     92  \n",
       "3 10Dec2019     63  \n",
       "4 10Feb2020     35  \n",
       "5 10Jan2020     56  \n",
       "6 10Jul2019    122  \n",
       "7 10Jun2019     64  "
      ]
     },
     "metadata": {},
     "output_type": "display_data"
    }
   ],
   "source": [
    "nldata_daily <- nldata %>% mutate(monthyear = paste0(month(frontPageDate, label=TRUE, abbr=TRUE), year(frontPageDate)),\n",
    "                 daymonthyear = paste0(day(frontPageDate), month(frontPageDate, label=TRUE, abbr=TRUE), year(frontPageDate))) %>% \n",
    "            select(monthyear,daymonthyear) %>% group_by(daymonthyear) %>% summarize(count=n())\n",
    "nldata_daily %>% head(7)"
   ]
  },
  {
   "cell_type": "markdown",
   "metadata": {},
   "source": [
    "Next, we extract the data for September and October to make an initial comparison, before checking if there is a significant difference in the decrease from October to November."
   ]
  },
  {
   "cell_type": "code",
   "execution_count": 203,
   "metadata": {},
   "outputs": [],
   "source": [
    "library(DescTools)"
   ]
  },
  {
   "cell_type": "code",
   "execution_count": 199,
   "metadata": {},
   "outputs": [],
   "source": [
    "t.sep <- nldata_daily %>% filter(daymonthyear %like% \"%Sep%\")\n",
    "t.oct <- nldata_daily %>% filter(daymonthyear %like% \"%Oct%\")\n",
    "t.nov <- nldata_daily %>% filter(daymonthyear %like% \"%Nov%\")\n",
    "t.dec <- nldata_daily %>% filter(daymonthyear %like% \"%Dec%\")"
   ]
  },
  {
   "cell_type": "code",
   "execution_count": 201,
   "metadata": {},
   "outputs": [
    {
     "data": {
      "text/plain": [
       "\n",
       "\tWelch Two Sample t-test\n",
       "\n",
       "data:  t.sep$count and t.oct$count\n",
       "t = 0.012042, df = 56.259, p-value = 0.9904\n",
       "alternative hypothesis: true difference in means is not equal to 0\n",
       "95 percent confidence interval:\n",
       " -13.86717  14.03492\n",
       "sample estimates:\n",
       "mean of x mean of y \n",
       " 100.6000  100.5161 \n"
      ]
     },
     "metadata": {},
     "output_type": "display_data"
    }
   ],
   "source": [
    "t.test(t.sep$count, t.oct$count)"
   ]
  },
  {
   "cell_type": "markdown",
   "metadata": {},
   "source": [
    "We see that there is not a lot of difference in the mean values of the post distribution for September and October."
   ]
  },
  {
   "cell_type": "code",
   "execution_count": 202,
   "metadata": {},
   "outputs": [
    {
     "data": {
      "text/plain": [
       "\n",
       "\tWelch Two Sample t-test\n",
       "\n",
       "data:  t.oct$count and t.nov$count\n",
       "t = 2.7617, df = 56.929, p-value = 0.007727\n",
       "alternative hypothesis: true difference in means is not equal to 0\n",
       "95 percent confidence interval:\n",
       "  5.19088 32.57471\n",
       "sample estimates:\n",
       "mean of x mean of y \n",
       "100.51613  81.63333 \n"
      ]
     },
     "metadata": {},
     "output_type": "display_data"
    }
   ],
   "source": [
    "t.test(t.oct$count, t.nov$count)"
   ]
  },
  {
   "cell_type": "markdown",
   "metadata": {},
   "source": [
    "However, comparing the values for October and November postings, we see that there is significant difference in these values. The `p-value` is significantly lower at 0.007727. This shows that the two means are significantly different. As a result, the decrease in number of posts hitting the front page from October to November is probably not as a result of chance. The same is also true for the decrease in number of posts from November to December."
   ]
  },
  {
   "cell_type": "markdown",
   "metadata": {},
   "source": [
    "### 2. Model Fitting"
   ]
  },
  {
   "cell_type": "markdown",
   "metadata": {},
   "source": [
    "Can we come up with a machine learning question for this data set? Apparently yes!\n",
    "In this second part, we examine procedures for fitting a model with this data set. Our research question takes the form: given a post title, can we tell which section it is from? For example, given a title \"COVID-19: Governor Ikpeazu's Two Aides Test Positive\", can our model tell that it is from the Health section?\n",
    "\n",
    "Using NLP procedures, we can design a machine learning model which takes some part of this data set and fits a model to it, so that with the test data, we can ask questions of the remainder titles. This is a typical unsupervised model design known as classification. In this case, we have 37 classes and therefore refer to this form of classification as multi-class classification. Multi-class classification tasks can be a little tricker than binary classification because many more classes are involved and the chances of the model going wrong is higher. This is unlike binary classification where the task is simply to choose out of two options. Our case is even a much trickier because we will be using only one feature in our predictive model, i.e. `title`. We will use `title` to predict `section`."
   ]
  },
  {
   "cell_type": "markdown",
   "metadata": {},
   "source": [
    "We will divide the data set into two parts: a training set, and a test set. The model will be trained using the training set, and predictions made with the test set. Because the data set is large, we will use the first 15,000 records for this analysis, and ignore the remainder records. There are a total of 28,800 records."
   ]
  },
  {
   "cell_type": "code",
   "execution_count": 290,
   "metadata": {},
   "outputs": [],
   "source": [
    "library(tm)\n",
    "library(SnowballC)\n",
    "library(wordcloud)\n",
    "library(caret)\n",
    "library(lattice)"
   ]
  },
  {
   "cell_type": "code",
   "execution_count": 236,
   "metadata": {},
   "outputs": [],
   "source": [
    "#Set seed\n",
    "set.seed(100)\n",
    "\n",
    "#Create training index\n",
    "train_ind <- sample(1:nrow(nldata[1:15000,]), 0.7*nrow(nldata[1:15000,]))"
   ]
  },
  {
   "cell_type": "code",
   "execution_count": 237,
   "metadata": {},
   "outputs": [
    {
     "data": {
      "text/html": [
       "10500"
      ],
      "text/latex": [
       "10500"
      ],
      "text/markdown": [
       "10500"
      ],
      "text/plain": [
       "[1] 10500"
      ]
     },
     "metadata": {},
     "output_type": "display_data"
    }
   ],
   "source": [
    "length(train_ind)"
   ]
  },
  {
   "cell_type": "code",
   "execution_count": 238,
   "metadata": {},
   "outputs": [],
   "source": [
    "#Create corpus\n",
    "nlv <- nldata[, c(\"title\", \"section\")]\n",
    "docs <- VCorpus(VectorSource(nlv$title[1:15000]))"
   ]
  },
  {
   "cell_type": "code",
   "execution_count": 239,
   "metadata": {},
   "outputs": [
    {
     "data": {
      "text/html": [
       "'Rape In Church: Edo State First Lady Pays Condolence Visit To Family Of Late Uwa'"
      ],
      "text/latex": [
       "'Rape In Church: Edo State First Lady Pays Condolence Visit To Family Of Late Uwa'"
      ],
      "text/markdown": [
       "'Rape In Church: Edo State First Lady Pays Condolence Visit To Family Of Late Uwa'"
      ],
      "text/plain": [
       "[1] \"Rape In Church: Edo State First Lady Pays Condolence Visit To Family Of Late Uwa\""
      ]
     },
     "metadata": {},
     "output_type": "display_data"
    }
   ],
   "source": [
    "#Examine content at index 1\n",
    "content(docs[[1]])"
   ]
  },
  {
   "cell_type": "code",
   "execution_count": 240,
   "metadata": {},
   "outputs": [],
   "source": [
    "#Define function to clean corpus\n",
    "cleanCorpus <- function(crpus){\n",
    "    crpus <- crpus %>% tm_map(removePunctuation) %>%\n",
    "                        tm_map(removeNumbers) %>%\n",
    "                        tm_map(content_transformer(tolower)) %>%\n",
    "                        tm_map(removeWords, c(stopwords(\"en\"), \"photos\")) %>%\n",
    "                        tm_map(stripWhitespace)\n",
    "    return (crpus)\n",
    "}"
   ]
  },
  {
   "cell_type": "code",
   "execution_count": 241,
   "metadata": {},
   "outputs": [],
   "source": [
    "#Clean corpus\n",
    "cleaned_docs <- cleanCorpus(docs)"
   ]
  },
  {
   "cell_type": "code",
   "execution_count": 242,
   "metadata": {},
   "outputs": [
    {
     "data": {
      "text/html": [
       "'rape church edo state first lady pays condolence visit family late uwa'"
      ],
      "text/latex": [
       "'rape church edo state first lady pays condolence visit family late uwa'"
      ],
      "text/markdown": [
       "'rape church edo state first lady pays condolence visit family late uwa'"
      ],
      "text/plain": [
       "[1] \"rape church edo state first lady pays condolence visit family late uwa\""
      ]
     },
     "metadata": {},
     "output_type": "display_data"
    }
   ],
   "source": [
    "#Content at index 1 after cleaning\n",
    "cleaned_docs[[1]] %>% content"
   ]
  },
  {
   "cell_type": "markdown",
   "metadata": {},
   "source": [
    "Now, we convert to a document term matrix and examine the most frequent words. \"Photos\" has also been added to the stopwords, because it is one of the most frequently occuring word on posts on Nairaland frontpage and adds no meaning to the post besides confirming that it includes a picture in its first post."
   ]
  },
  {
   "cell_type": "code",
   "execution_count": 243,
   "metadata": {},
   "outputs": [],
   "source": [
    "docmatrix <- DocumentTermMatrix(cleaned_docs)"
   ]
  },
  {
   "cell_type": "code",
   "execution_count": 244,
   "metadata": {},
   "outputs": [
    {
     "data": {
      "text/html": [
       "<ol class=list-inline>\n",
       "\t<li>15000</li>\n",
       "\t<li>15514</li>\n",
       "</ol>\n"
      ],
      "text/latex": [
       "\\begin{enumerate*}\n",
       "\\item 15000\n",
       "\\item 15514\n",
       "\\end{enumerate*}\n"
      ],
      "text/markdown": [
       "1. 15000\n",
       "2. 15514\n",
       "\n",
       "\n"
      ],
      "text/plain": [
       "[1] 15000 15514"
      ]
     },
     "metadata": {},
     "output_type": "display_data"
    }
   ],
   "source": [
    "dim(docmatrix)"
   ]
  },
  {
   "cell_type": "code",
   "execution_count": 245,
   "metadata": {},
   "outputs": [
    {
     "name": "stdout",
     "output_type": "stream",
     "text": [
      "<<DocumentTermMatrix (documents: 5, terms: 5)>>\n",
      "Non-/sparse entries: 0/25\n",
      "Sparsity           : 100%\n",
      "Maximal term length: 13\n",
      "Weighting          : term frequency (tf)\n",
      "Sample             :\n",
      "    Terms\n",
      "Docs ‘abducted’ ‘abdulrasaq ‘acceptance ‘accidentally ‘antibuhari’\n",
      "   1          0           0           0             0            0\n",
      "   2          0           0           0             0            0\n",
      "   3          0           0           0             0            0\n",
      "   4          0           0           0             0            0\n",
      "   5          0           0           0             0            0\n"
     ]
    }
   ],
   "source": [
    "inspect(docmatrix[1:5,1:5])"
   ]
  },
  {
   "cell_type": "code",
   "execution_count": 246,
   "metadata": {},
   "outputs": [],
   "source": [
    "docmatrix_wc <- colSums(as.matrix(docmatrix))"
   ]
  },
  {
   "cell_type": "code",
   "execution_count": 250,
   "metadata": {},
   "outputs": [
    {
     "data": {
      "image/png": "[encoded data removed]",
      "text/plain": [
       "plot without title"
      ]
     },
     "metadata": {},
     "output_type": "display_data"
    }
   ],
   "source": [
    "wordcloud(names(docmatrix_wc), docmatrix_wc, max.words=50, colors=c(\"grey80\", \"darkgoldenrod1\", \"tomato\"))"
   ]
  },
  {
   "cell_type": "markdown",
   "metadata": {},
   "source": [
    "Some of the most common words in the title include \"Buhari\", who is the president of Nigeria; \"nigeria\", nigerian\", \"coronavirus\", and \"covid\". We could increase the `max.words` parameter and see what other frequent words there are."
   ]
  },
  {
   "cell_type": "code",
   "execution_count": 249,
   "metadata": {},
   "outputs": [
    {
     "data": {
      "image/png": "[encoded data removed]",
      "text/plain": [
       "plot without title"
      ]
     },
     "metadata": {},
     "output_type": "display_data"
    }
   ],
   "source": [
    "wordcloud(names(docmatrix_wc), docmatrix_wc, max.words=100, colors=c(\"grey80\", \"darkgoldenrod1\", \"tomato\"))"
   ]
  },
  {
   "cell_type": "markdown",
   "metadata": {},
   "source": [
    "Now, we create our training and test data."
   ]
  },
  {
   "cell_type": "markdown",
   "metadata": {},
   "source": [
    "We will use the `caret` package for the classification task. `SVM` with a linear kernel is quite a good classifier for this type of data set. `caret` makes this available. It however needs the `lattice` package to work."
   ]
  },
  {
   "cell_type": "code",
   "execution_count": 326,
   "metadata": {},
   "outputs": [],
   "source": [
    "nlv_ml <- nlv[1:15000,]\n",
    "whole_set <- VCorpus(VectorSource(nlv_ml$title))"
   ]
  },
  {
   "cell_type": "code",
   "execution_count": 329,
   "metadata": {},
   "outputs": [
    {
     "data": {
      "text/plain": [
       "<<VCorpus>>\n",
       "Metadata:  corpus specific: 0, document level (indexed): 0\n",
       "Content:  documents: 15000"
      ]
     },
     "metadata": {},
     "output_type": "display_data"
    }
   ],
   "source": [
    "cleaned_whole_set <- cleanCorpus(whole_set)\n",
    "cleaned_whole_set"
   ]
  },
  {
   "cell_type": "code",
   "execution_count": 330,
   "metadata": {},
   "outputs": [
    {
     "data": {
      "text/plain": [
       "<<DocumentTermMatrix (documents: 15000, terms: 15514)>>\n",
       "Non-/sparse entries: 106061/232603939\n",
       "Sparsity           : 100%\n",
       "Maximal term length: 26\n",
       "Weighting          : term frequency (tf)"
      ]
     },
     "metadata": {},
     "output_type": "display_data"
    }
   ],
   "source": [
    "whole_matrix <- DocumentTermMatrix(cleaned_whole_set)\n",
    "whole_matrix"
   ]
  },
  {
   "cell_type": "markdown",
   "metadata": {},
   "source": [
    "The matrix sparsity is high. We could remove some of it."
   ]
  },
  {
   "cell_type": "code",
   "execution_count": 331,
   "metadata": {},
   "outputs": [],
   "source": [
    "#Remove sparse items from whole matrix\n",
    "whole_matrix_non_sparse <- removeSparseTerms(whole_matrix, 0.999)"
   ]
  },
  {
   "cell_type": "code",
   "execution_count": 332,
   "metadata": {},
   "outputs": [
    {
     "data": {
      "text/plain": [
       "<<DocumentTermMatrix (documents: 15000, terms: 1320)>>\n",
       "Non-/sparse entries: 66229/19733771\n",
       "Sparsity           : 100%\n",
       "Maximal term length: 13\n",
       "Weighting          : term frequency (tf)"
      ]
     },
     "metadata": {},
     "output_type": "display_data"
    }
   ],
   "source": [
    "whole_matrix_non_sparse"
   ]
  },
  {
   "cell_type": "code",
   "execution_count": 333,
   "metadata": {},
   "outputs": [
    {
     "name": "stdout",
     "output_type": "stream",
     "text": [
      "<<DocumentTermMatrix (documents: 5, terms: 5)>>\n",
      "Non-/sparse entries: 0/25\n",
      "Sparsity           : 100%\n",
      "Maximal term length: 9\n",
      "Weighting          : term frequency (tf)\n",
      "Sample             :\n",
      "    Terms\n",
      "Docs aba abacha abandoned abba abia\n",
      "   1   0      0         0    0    0\n",
      "   2   0      0         0    0    0\n",
      "   3   0      0         0    0    0\n",
      "   4   0      0         0    0    0\n",
      "   5   0      0         0    0    0\n"
     ]
    }
   ],
   "source": [
    "inspect(whole_matrix_non_sparse[1:5,1:5])"
   ]
  },
  {
   "cell_type": "code",
   "execution_count": 334,
   "metadata": {},
   "outputs": [],
   "source": [
    "whole_matrix_non_sparse <- as.matrix(whole_matrix_non_sparse)"
   ]
  },
  {
   "cell_type": "code",
   "execution_count": 340,
   "metadata": {},
   "outputs": [
    {
     "data": {
      "text/html": [
       "<ol class=list-inline>\n",
       "\t<li>15000</li>\n",
       "\t<li>1320</li>\n",
       "</ol>\n"
      ],
      "text/latex": [
       "\\begin{enumerate*}\n",
       "\\item 15000\n",
       "\\item 1320\n",
       "\\end{enumerate*}\n"
      ],
      "text/markdown": [
       "1. 15000\n",
       "2. 1320\n",
       "\n",
       "\n"
      ],
      "text/plain": [
       "[1] 15000  1320"
      ]
     },
     "metadata": {},
     "output_type": "display_data"
    }
   ],
   "source": [
    "dim(whole_matrix_non_sparse)"
   ]
  },
  {
   "cell_type": "code",
   "execution_count": 343,
   "metadata": {},
   "outputs": [],
   "source": [
    "#Add section to matrix\n",
    "dtm_whole_matrix <- cbind(whole_matrix_non_sparse, nlv_ml$section)"
   ]
  },
  {
   "cell_type": "code",
   "execution_count": 344,
   "metadata": {},
   "outputs": [],
   "source": [
    "colnames(dtm_whole_matrix)[ncol(dtm_whole_matrix)] <- \"section\"\n",
    "df_whole_matrix <- as.data.frame(dtm_whole_matrix)\n",
    "df_whole_matrix$section <- as.factor(df_whole_matrix$section)"
   ]
  },
  {
   "cell_type": "code",
   "execution_count": 345,
   "metadata": {},
   "outputs": [
    {
     "data": {
      "text/html": [
       "<ol class=list-inline>\n",
       "\t<li>15000</li>\n",
       "\t<li>1321</li>\n",
       "</ol>\n"
      ],
      "text/latex": [
       "\\begin{enumerate*}\n",
       "\\item 15000\n",
       "\\item 1321\n",
       "\\end{enumerate*}\n"
      ],
      "text/markdown": [
       "1. 15000\n",
       "2. 1321\n",
       "\n",
       "\n"
      ],
      "text/plain": [
       "[1] 15000  1321"
      ]
     },
     "metadata": {},
     "output_type": "display_data"
    }
   ],
   "source": [
    "dim(df_whole_matrix)"
   ]
  },
  {
   "cell_type": "markdown",
   "metadata": {},
   "source": [
    "Divide data set into training and test sets."
   ]
  },
  {
   "cell_type": "code",
   "execution_count": 346,
   "metadata": {},
   "outputs": [],
   "source": [
    "training_set <- df_whole_matrix[train_ind,]\n",
    "test_set <- df_whole_matrix[-train_ind,]"
   ]
  },
  {
   "cell_type": "code",
   "execution_count": 347,
   "metadata": {},
   "outputs": [
    {
     "data": {
      "text/plain": [
       "L2 Regularized Support Vector Machine (dual) with Linear Kernel \n",
       "\n",
       "10500 samples\n",
       " 1320 predictor\n",
       "   37 classes: 'Agriculture', 'Autos', 'Business', 'Car Talk', 'Career', 'Celebrities', 'Computers', 'Crime', 'Culture', 'Education', 'Entertainment', 'Events', 'Family', 'Fashion', 'Food', 'Forum Games', 'Gaming', 'General', 'Health', 'Investment', 'Jobs/Vacancies', 'Jokes Etc', 'Literature', 'Music/Radio', 'NYSC', 'Pets', 'Phones', 'Politics', 'Programming', 'Properties', 'Religion', 'Romance', 'Science/Technology', 'Sports', 'Travel', 'TV/Movies', 'Webmasters' \n",
       "\n",
       "No pre-processing\n",
       "Resampling: Bootstrapped (25 reps) \n",
       "Summary of sample sizes: 10500, 10500, 10500, 10500, 10500, 10500, ... \n",
       "Resampling results across tuning parameters:\n",
       "\n",
       "  cost  Loss  Accuracy   Kappa    \n",
       "  0.25  L1    0.6609543  0.5937088\n",
       "  0.25  L2    0.6473053  0.5833736\n",
       "  0.50  L1    0.6523510  0.5857158\n",
       "  0.50  L2    0.6314110  0.5660408\n",
       "  1.00  L1    0.6375032  0.5697314\n",
       "  1.00  L2    0.6140436  0.5470890\n",
       "\n",
       "Accuracy was used to select the optimal model using the largest value.\n",
       "The final values used for the model were cost = 0.25 and Loss = L1."
      ]
     },
     "metadata": {},
     "output_type": "display_data"
    }
   ],
   "source": [
    "nl_model <- train(section ~ ., data = training_set, method = \"svmLinear3\")\n",
    "nl_model"
   ]
  },
  {
   "cell_type": "markdown",
   "metadata": {},
   "source": [
    "Now, we predict `section` values using the test set."
   ]
  },
  {
   "cell_type": "code",
   "execution_count": 532,
   "metadata": {},
   "outputs": [],
   "source": [
    "predicted_results <- predict(nl_model, newdata = test_set[,-1321])"
   ]
  },
  {
   "cell_type": "code",
   "execution_count": 533,
   "metadata": {},
   "outputs": [
    {
     "data": {
      "text/html": [
       "<ol class=list-inline>\n",
       "\t<li>Crime</li>\n",
       "\t<li>Crime</li>\n",
       "\t<li>Religion</li>\n",
       "\t<li>Politics</li>\n",
       "\t<li>Celebrities</li>\n",
       "\t<li>Politics</li>\n",
       "</ol>\n",
       "\n",
       "<details>\n",
       "\t<summary style=display:list-item;cursor:pointer>\n",
       "\t\t<strong>Levels</strong>:\n",
       "\t</summary>\n",
       "\t<ol class=list-inline>\n",
       "\t\t<li>'Agriculture'</li>\n",
       "\t\t<li>'Autos'</li>\n",
       "\t\t<li>'Business'</li>\n",
       "\t\t<li>'Car Talk'</li>\n",
       "\t\t<li>'Career'</li>\n",
       "\t\t<li>'Celebrities'</li>\n",
       "\t\t<li>'Computers'</li>\n",
       "\t\t<li>'Crime'</li>\n",
       "\t\t<li>'Culture'</li>\n",
       "\t\t<li>'Education'</li>\n",
       "\t\t<li>'Entertainment'</li>\n",
       "\t\t<li>'Events'</li>\n",
       "\t\t<li>'Family'</li>\n",
       "\t\t<li>'Fashion'</li>\n",
       "\t\t<li>'Food'</li>\n",
       "\t\t<li>'Forum Games'</li>\n",
       "\t\t<li>'Gaming'</li>\n",
       "\t\t<li>'General'</li>\n",
       "\t\t<li>'Health'</li>\n",
       "\t\t<li>'Investment'</li>\n",
       "\t\t<li>'Jobs/Vacancies'</li>\n",
       "\t\t<li>'Jokes Etc'</li>\n",
       "\t\t<li>'Literature'</li>\n",
       "\t\t<li>'Music/Radio'</li>\n",
       "\t\t<li>'NYSC'</li>\n",
       "\t\t<li>'Pets'</li>\n",
       "\t\t<li>'Phones'</li>\n",
       "\t\t<li>'Politics'</li>\n",
       "\t\t<li>'Programming'</li>\n",
       "\t\t<li>'Properties'</li>\n",
       "\t\t<li>'Religion'</li>\n",
       "\t\t<li>'Romance'</li>\n",
       "\t\t<li>'Science/Technology'</li>\n",
       "\t\t<li>'Sports'</li>\n",
       "\t\t<li>'Travel'</li>\n",
       "\t\t<li>'TV/Movies'</li>\n",
       "\t\t<li>'Webmasters'</li>\n",
       "\t</ol>\n",
       "</details>"
      ],
      "text/latex": [
       "\\begin{enumerate*}\n",
       "\\item Crime\n",
       "\\item Crime\n",
       "\\item Religion\n",
       "\\item Politics\n",
       "\\item Celebrities\n",
       "\\item Politics\n",
       "\\end{enumerate*}\n",
       "\n",
       "\\emph{Levels}: \\begin{enumerate*}\n",
       "\\item 'Agriculture'\n",
       "\\item 'Autos'\n",
       "\\item 'Business'\n",
       "\\item 'Car Talk'\n",
       "\\item 'Career'\n",
       "\\item 'Celebrities'\n",
       "\\item 'Computers'\n",
       "\\item 'Crime'\n",
       "\\item 'Culture'\n",
       "\\item 'Education'\n",
       "\\item 'Entertainment'\n",
       "\\item 'Events'\n",
       "\\item 'Family'\n",
       "\\item 'Fashion'\n",
       "\\item 'Food'\n",
       "\\item 'Forum Games'\n",
       "\\item 'Gaming'\n",
       "\\item 'General'\n",
       "\\item 'Health'\n",
       "\\item 'Investment'\n",
       "\\item 'Jobs/Vacancies'\n",
       "\\item 'Jokes Etc'\n",
       "\\item 'Literature'\n",
       "\\item 'Music/Radio'\n",
       "\\item 'NYSC'\n",
       "\\item 'Pets'\n",
       "\\item 'Phones'\n",
       "\\item 'Politics'\n",
       "\\item 'Programming'\n",
       "\\item 'Properties'\n",
       "\\item 'Religion'\n",
       "\\item 'Romance'\n",
       "\\item 'Science/Technology'\n",
       "\\item 'Sports'\n",
       "\\item 'Travel'\n",
       "\\item 'TV/Movies'\n",
       "\\item 'Webmasters'\n",
       "\\end{enumerate*}\n"
      ],
      "text/markdown": [
       "1. Crime\n",
       "2. Crime\n",
       "3. Religion\n",
       "4. Politics\n",
       "5. Celebrities\n",
       "6. Politics\n",
       "\n",
       "\n",
       "\n",
       "**Levels**: 1. 'Agriculture'\n",
       "2. 'Autos'\n",
       "3. 'Business'\n",
       "4. 'Car Talk'\n",
       "5. 'Career'\n",
       "6. 'Celebrities'\n",
       "7. 'Computers'\n",
       "8. 'Crime'\n",
       "9. 'Culture'\n",
       "10. 'Education'\n",
       "11. 'Entertainment'\n",
       "12. 'Events'\n",
       "13. 'Family'\n",
       "14. 'Fashion'\n",
       "15. 'Food'\n",
       "16. 'Forum Games'\n",
       "17. 'Gaming'\n",
       "18. 'General'\n",
       "19. 'Health'\n",
       "20. 'Investment'\n",
       "21. 'Jobs/Vacancies'\n",
       "22. 'Jokes Etc'\n",
       "23. 'Literature'\n",
       "24. 'Music/Radio'\n",
       "25. 'NYSC'\n",
       "26. 'Pets'\n",
       "27. 'Phones'\n",
       "28. 'Politics'\n",
       "29. 'Programming'\n",
       "30. 'Properties'\n",
       "31. 'Religion'\n",
       "32. 'Romance'\n",
       "33. 'Science/Technology'\n",
       "34. 'Sports'\n",
       "35. 'Travel'\n",
       "36. 'TV/Movies'\n",
       "37. 'Webmasters'\n",
       "\n",
       "\n"
      ],
      "text/plain": [
       "[1] Crime       Crime       Religion    Politics    Celebrities Politics   \n",
       "37 Levels: Agriculture Autos Business Car Talk Career Celebrities ... Webmasters"
      ]
     },
     "metadata": {},
     "output_type": "display_data"
    }
   ],
   "source": [
    "head(predicted_results)"
   ]
  },
  {
   "cell_type": "markdown",
   "metadata": {},
   "source": [
    "We compare the results with the actual values in the test data and examine accuracy and other metrics."
   ]
  },
  {
   "cell_type": "code",
   "execution_count": 534,
   "metadata": {},
   "outputs": [
    {
     "data": {
      "text/html": [
       "2997"
      ],
      "text/latex": [
       "2997"
      ],
      "text/markdown": [
       "2997"
      ],
      "text/plain": [
       "[1] 2997"
      ]
     },
     "metadata": {},
     "output_type": "display_data"
    }
   ],
   "source": [
    "sum(predicted_results == test_set$section)"
   ]
  },
  {
   "cell_type": "code",
   "execution_count": 535,
   "metadata": {},
   "outputs": [
    {
     "name": "stdout",
     "output_type": "stream",
     "text": [
      "Accuracy: 0.666"
     ]
    }
   ],
   "source": [
    "accuracy = sum(predicted_results == test_set$section) / nrow(test_set)\n",
    "cat(\"Accuracy:\", accuracy)"
   ]
  },
  {
   "cell_type": "markdown",
   "metadata": {},
   "source": [
    "About 2997 values in section were correctly predicted"
   ]
  },
  {
   "cell_type": "code",
   "execution_count": 368,
   "metadata": {},
   "outputs": [],
   "source": [
    "results_df <- data.frame(predicted = predicted_results, actual = test_set$section, test_set[,-1321])"
   ]
  },
  {
   "cell_type": "code",
   "execution_count": 382,
   "metadata": {},
   "outputs": [
    {
     "data": {
      "text/html": [
       "<table>\n",
       "<thead><tr><th scope=col>predicted</th><th scope=col>actual</th><th scope=col>aba</th><th scope=col>abacha</th><th scope=col>abandoned</th><th scope=col>abba</th><th scope=col>abia</th><th scope=col>abroad</th><th scope=col>abubakar</th><th scope=col>abuja</th><th scope=col>...</th><th scope=col>yearold</th><th scope=col>years</th><th scope=col>yet</th><th scope=col>yobe</th><th scope=col>yoruba</th><th scope=col>young</th><th scope=col>youth</th><th scope=col>youths</th><th scope=col>zamfara</th><th scope=col>zlatan</th></tr></thead>\n",
       "<tbody>\n",
       "\t<tr><td>Crime         </td><td>Politics      </td><td>0             </td><td>0             </td><td>0             </td><td>0             </td><td>0             </td><td>0             </td><td>0             </td><td>0             </td><td>...           </td><td>0             </td><td>0             </td><td>0             </td><td>0             </td><td>0             </td><td>0             </td><td>0             </td><td>0             </td><td>0             </td><td>0             </td></tr>\n",
       "\t<tr><td>Politics      </td><td>Celebrities   </td><td>0             </td><td>0             </td><td>0             </td><td>0             </td><td>0             </td><td>0             </td><td>0             </td><td>0             </td><td>...           </td><td>0             </td><td>0             </td><td>0             </td><td>0             </td><td>0             </td><td>0             </td><td>0             </td><td>0             </td><td>0             </td><td>0             </td></tr>\n",
       "\t<tr><td>Jobs/Vacancies</td><td>Career        </td><td>0             </td><td>0             </td><td>0             </td><td>0             </td><td>0             </td><td>0             </td><td>0             </td><td>0             </td><td>...           </td><td>0             </td><td>0             </td><td>0             </td><td>0             </td><td>0             </td><td>0             </td><td>0             </td><td>0             </td><td>0             </td><td>0             </td></tr>\n",
       "\t<tr><td>Religion      </td><td>Politics      </td><td>0             </td><td>0             </td><td>0             </td><td>0             </td><td>0             </td><td>0             </td><td>0             </td><td>0             </td><td>...           </td><td>0             </td><td>0             </td><td>0             </td><td>0             </td><td>0             </td><td>0             </td><td>0             </td><td>0             </td><td>0             </td><td>0             </td></tr>\n",
       "\t<tr><td>Politics      </td><td>Education     </td><td>0             </td><td>0             </td><td>0             </td><td>0             </td><td>0             </td><td>0             </td><td>0             </td><td>0             </td><td>...           </td><td>0             </td><td>0             </td><td>0             </td><td>0             </td><td>0             </td><td>0             </td><td>0             </td><td>0             </td><td>0             </td><td>0             </td></tr>\n",
       "\t<tr><td>Jobs/Vacancies</td><td>Career        </td><td>0             </td><td>0             </td><td>0             </td><td>0             </td><td>0             </td><td>0             </td><td>0             </td><td>0             </td><td>...           </td><td>0             </td><td>0             </td><td>0             </td><td>0             </td><td>0             </td><td>0             </td><td>0             </td><td>0             </td><td>0             </td><td>0             </td></tr>\n",
       "</tbody>\n",
       "</table>\n"
      ],
      "text/latex": [
       "\\begin{tabular}{r|llllllllllllllllllllllllllllllllllllllllllllllllllllllllllllllllllllllllllllllllllllllllllllllllllllllllllllllllllllllllllllllllllllllllllllllllllllllllllllllllllllllllllllllllllllllllllllllllllllllllllllllllllllllllllllllllllllllllllllllllllllllllllllllllllllllllllllllllllllllllllllllllllllllllllllllllllllllllllllllllllllllllllllllllllllllllllllllllllllllllllllllllllllllllllllllllllllllllllllllllllllllllllllllllllllllllllllllllllllllllllllllllllllllllllllllllllllllllllllllllllllllllllllllllllllllllllllllllllllllllllllllllllllllllllllllllllllllllllllllllllllllllllllllllllllllllllllllllllllllllllllllllllllllllllllllllllllllllllllllllllllllllllllllllllllllllllllllllllllllllllllllllllllllllllllllllllllllllllllllllllllllllllllllllllllllllllllllllllllllllllllllllllllllllllllllllllllllllllllllllllllllllllllllllllllllllllllllllllllllllllllllllllllllllllllllllllllllllllllllllllllllllllllllllllllllllllllllllllllllllllllllllllllllllllllllllllllllllllllllllllllllllllllllllllllllllllllllllllllllllllllllllllllllllllllllllllllllllllllllllllllllllllllllllllllllllllllllllllllllllllllllllllllllllllllllllllllllllllllllllllllllllllllllllllllllllllllllllllllllllllllllllllllllllllllllllllllllllllllllllllllllllllllllllllllllllllllllllllllllllllllllllllllllllllllllllllllllllllllllllllllllllllllllllllllllllllllllllllllllllll}\n",
       " predicted & actual & aba & abacha & abandoned & abba & abia & abroad & abubakar & abuja & ... & yearold & years & yet & yobe & yoruba & young & youth & youths & zamfara & zlatan\\\\\n",
       "\\hline\n",
       "\t Crime          & Politics       & 0              & 0              & 0              & 0              & 0              & 0              & 0              & 0              & ...            & 0              & 0              & 0              & 0              & 0              & 0              & 0              & 0              & 0              & 0             \\\\\n",
       "\t Politics       & Celebrities    & 0              & 0              & 0              & 0              & 0              & 0              & 0              & 0              & ...            & 0              & 0              & 0              & 0              & 0              & 0              & 0              & 0              & 0              & 0             \\\\\n",
       "\t Jobs/Vacancies & Career         & 0              & 0              & 0              & 0              & 0              & 0              & 0              & 0              & ...            & 0              & 0              & 0              & 0              & 0              & 0              & 0              & 0              & 0              & 0             \\\\\n",
       "\t Religion       & Politics       & 0              & 0              & 0              & 0              & 0              & 0              & 0              & 0              & ...            & 0              & 0              & 0              & 0              & 0              & 0              & 0              & 0              & 0              & 0             \\\\\n",
       "\t Politics       & Education      & 0              & 0              & 0              & 0              & 0              & 0              & 0              & 0              & ...            & 0              & 0              & 0              & 0              & 0              & 0              & 0              & 0              & 0              & 0             \\\\\n",
       "\t Jobs/Vacancies & Career         & 0              & 0              & 0              & 0              & 0              & 0              & 0              & 0              & ...            & 0              & 0              & 0              & 0              & 0              & 0              & 0              & 0              & 0              & 0             \\\\\n",
       "\\end{tabular}\n"
      ],
      "text/markdown": [
       "\n",
       "| predicted | actual | aba | abacha | abandoned | abba | abia | abroad | abubakar | abuja | ... | yearold | years | yet | yobe | yoruba | young | youth | youths | zamfara | zlatan |\n",
       "|---|---|---|---|---|---|---|---|---|---|---|---|---|---|---|---|---|---|---|---|---|\n",
       "| Crime          | Politics       | 0              | 0              | 0              | 0              | 0              | 0              | 0              | 0              | ...            | 0              | 0              | 0              | 0              | 0              | 0              | 0              | 0              | 0              | 0              |\n",
       "| Politics       | Celebrities    | 0              | 0              | 0              | 0              | 0              | 0              | 0              | 0              | ...            | 0              | 0              | 0              | 0              | 0              | 0              | 0              | 0              | 0              | 0              |\n",
       "| Jobs/Vacancies | Career         | 0              | 0              | 0              | 0              | 0              | 0              | 0              | 0              | ...            | 0              | 0              | 0              | 0              | 0              | 0              | 0              | 0              | 0              | 0              |\n",
       "| Religion       | Politics       | 0              | 0              | 0              | 0              | 0              | 0              | 0              | 0              | ...            | 0              | 0              | 0              | 0              | 0              | 0              | 0              | 0              | 0              | 0              |\n",
       "| Politics       | Education      | 0              | 0              | 0              | 0              | 0              | 0              | 0              | 0              | ...            | 0              | 0              | 0              | 0              | 0              | 0              | 0              | 0              | 0              | 0              |\n",
       "| Jobs/Vacancies | Career         | 0              | 0              | 0              | 0              | 0              | 0              | 0              | 0              | ...            | 0              | 0              | 0              | 0              | 0              | 0              | 0              | 0              | 0              | 0              |\n",
       "\n"
      ],
      "text/plain": [
       "  predicted      actual      aba abacha abandoned abba abia abroad abubakar\n",
       "1 Crime          Politics    0   0      0         0    0    0      0       \n",
       "2 Politics       Celebrities 0   0      0         0    0    0      0       \n",
       "3 Jobs/Vacancies Career      0   0      0         0    0    0      0       \n",
       "4 Religion       Politics    0   0      0         0    0    0      0       \n",
       "5 Politics       Education   0   0      0         0    0    0      0       \n",
       "6 Jobs/Vacancies Career      0   0      0         0    0    0      0       \n",
       "  abuja ... yearold years yet yobe yoruba young youth youths zamfara zlatan\n",
       "1 0     ... 0       0     0   0    0      0     0     0      0       0     \n",
       "2 0     ... 0       0     0   0    0      0     0     0      0       0     \n",
       "3 0     ... 0       0     0   0    0      0     0     0      0       0     \n",
       "4 0     ... 0       0     0   0    0      0     0     0      0       0     \n",
       "5 0     ... 0       0     0   0    0      0     0     0      0       0     \n",
       "6 0     ... 0       0     0   0    0      0     0     0      0       0     "
      ]
     },
     "metadata": {},
     "output_type": "display_data"
    }
   ],
   "source": [
    "wrong_results_df %>% filter(predicted != actual) %>% head"
   ]
  },
  {
   "cell_type": "code",
   "execution_count": 391,
   "metadata": {},
   "outputs": [
    {
     "name": "stderr",
     "output_type": "stream",
     "text": [
      "Warning message:\n",
      "\"attributes are not identical across measure variables;\n",
      "they will be dropped\""
     ]
    },
    {
     "data": {
      "text/html": [
       "<table>\n",
       "<thead><tr><th scope=col>predicted</th><th scope=col>actual</th><th scope=col>church</th><th scope=col>edo</th><th scope=col>family</th><th scope=col>first</th><th scope=col>lady</th><th scope=col>late</th><th scope=col>pays</th><th scope=col>rape</th><th scope=col>state</th><th scope=col>visit</th></tr></thead>\n",
       "<tbody>\n",
       "\t<tr><td>Crime   </td><td>Politics</td><td>1       </td><td>1       </td><td>1       </td><td>1       </td><td>1       </td><td>1       </td><td>1       </td><td>1       </td><td>1       </td><td>1       </td></tr>\n",
       "</tbody>\n",
       "</table>\n"
      ],
      "text/latex": [
       "\\begin{tabular}{r|llllllllllll}\n",
       " predicted & actual & church & edo & family & first & lady & late & pays & rape & state & visit\\\\\n",
       "\\hline\n",
       "\t Crime    & Politics & 1        & 1        & 1        & 1        & 1        & 1        & 1        & 1        & 1        & 1       \\\\\n",
       "\\end{tabular}\n"
      ],
      "text/markdown": [
       "\n",
       "| predicted | actual | church | edo | family | first | lady | late | pays | rape | state | visit |\n",
       "|---|---|---|---|---|---|---|---|---|---|---|---|\n",
       "| Crime    | Politics | 1        | 1        | 1        | 1        | 1        | 1        | 1        | 1        | 1        | 1        |\n",
       "\n"
      ],
      "text/plain": [
       "  predicted actual   church edo family first lady late pays rape state visit\n",
       "1 Crime     Politics 1      1   1      1     1    1    1    1    1     1    "
      ]
     },
     "metadata": {},
     "output_type": "display_data"
    }
   ],
   "source": [
    "gather(wrong_results_df[1,], key=key, value=value, -c(\"predicted\", \"actual\")) %>%\n",
    "    filter(value == 1) %>% spread(key=key, value=value)"
   ]
  },
  {
   "cell_type": "markdown",
   "metadata": {},
   "source": [
    "When we examine the first result among those with failed predictions, we see that when all the words, \"church\", \"edo\", \"family\", \"first\", \"lady\", \"late\", \"pays\", \"rape\", \"state\" and \"visit\" are present, the model saw the section as \"Crime\", instead of \"Politics\"."
   ]
  },
  {
   "cell_type": "code",
   "execution_count": 395,
   "metadata": {},
   "outputs": [
    {
     "name": "stderr",
     "output_type": "stream",
     "text": [
      "Warning message:\n",
      "\"attributes are not identical across measure variables;\n",
      "they will be dropped\""
     ]
    },
    {
     "data": {
      "text/html": [
       "<table>\n",
       "<thead><tr><th scope=col>predicted</th><th scope=col>actual</th><th scope=col>bauchi</th><th scope=col>friend</th><th scope=col>girlfriend</th><th scope=col>kills</th><th scope=col>man</th></tr></thead>\n",
       "<tbody>\n",
       "\t<tr><td>Crime</td><td>Crime</td><td>1    </td><td>1    </td><td>1    </td><td>1    </td><td>1    </td></tr>\n",
       "</tbody>\n",
       "</table>\n"
      ],
      "text/latex": [
       "\\begin{tabular}{r|lllllll}\n",
       " predicted & actual & bauchi & friend & girlfriend & kills & man\\\\\n",
       "\\hline\n",
       "\t Crime & Crime & 1     & 1     & 1     & 1     & 1    \\\\\n",
       "\\end{tabular}\n"
      ],
      "text/markdown": [
       "\n",
       "| predicted | actual | bauchi | friend | girlfriend | kills | man |\n",
       "|---|---|---|---|---|---|---|\n",
       "| Crime | Crime | 1     | 1     | 1     | 1     | 1     |\n",
       "\n"
      ],
      "text/plain": [
       "  predicted actual bauchi friend girlfriend kills man\n",
       "1 Crime     Crime  1      1      1          1     1  "
      ]
     },
     "metadata": {},
     "output_type": "display_data"
    }
   ],
   "source": [
    "correct_results_df <- results_df %>% filter(predicted == actual)\n",
    "\n",
    "gather(correct_results_df[1,], key=key, value=value, -c(\"predicted\", \"actual\")) %>%\n",
    "    filter(value == 1) %>% spread(key=key, value=value)"
   ]
  },
  {
   "cell_type": "markdown",
   "metadata": {},
   "source": [
    "For the first item under the right predictions, the model rightly interprets that when the words \"bauchi\", \"friend\", \"girlfriend\", \"kills\" and \"man\" are in the same set, it should be \"Crime\"."
   ]
  },
  {
   "cell_type": "markdown",
   "metadata": {},
   "source": [
    "We can make a better visualization of these interpretations."
   ]
  },
  {
   "cell_type": "code",
   "execution_count": 486,
   "metadata": {},
   "outputs": [],
   "source": [
    "#Function to make raster plot\n",
    "plot_raster <- function(df){\n",
    "  # x_df <- subset(df, item==1)\n",
    "  x_df <- df\n",
    "  x_cleaned_df <- (x_df[, colSums(x_df !=0 ) > 0])\n",
    "  x_df1 <- x_cleaned_df[,-2]\n",
    "  x_df2 <- x_cleaned_df[,-1]\n",
    "  x_df1$x <- rep(1,times=nrow(x_df1))\n",
    "  x_df2$x <- rep(2,times=nrow(x_df2))\n",
    "  x_dfx <- bind_rows(x_df1,x_df2)\n",
    "  x_dfx$actual[1:nrow(x_df2)] <- x_dfx$predicted[1:nrow(x_df1)]\n",
    "  x_dfx <- x_dfx[,-1]\n",
    "  return (gather(x_dfx, key=key, value=value, -c(\"x\", \"actual\")) %>% \n",
    "    ggplot(aes(x=actual, y=key, fill=value)) + \n",
    "    geom_raster() + facet_grid(~x)+theme_gray()  + theme(axis.text.x = element_text(angle = 90,vjust=.3)) + \n",
    "    xlab(\"prediction  /  actual\") + \n",
    "    scale_y_discrete(guide = guide_axis(check.overlap = TRUE)))\n",
    "}\n"
   ]
  },
  {
   "cell_type": "markdown",
   "metadata": {},
   "source": [
    "### 3. Results Visualization"
   ]
  },
  {
   "cell_type": "code",
   "execution_count": 487,
   "metadata": {},
   "outputs": [],
   "source": [
    "#Create function to peek into sparse matrix\n",
    "peekMatrix <- function(df, x){\n",
    "    (df[1:x][, colSums(df[1:x] !=0 ) > 0]) %>% .[rowSums(.[,-c(1,2)] != 0) > 0,]\n",
    "}"
   ]
  },
  {
   "cell_type": "code",
   "execution_count": 488,
   "metadata": {},
   "outputs": [
    {
     "name": "stderr",
     "output_type": "stream",
     "text": [
      "Warning message:\n",
      "\"attributes are not identical across measure variables;\n",
      "they will be dropped\""
     ]
    },
    {
     "data": {
      "image/png": "[encoded data removed]",
      "text/plain": [
       "plot without title"
      ]
     },
     "metadata": {},
     "output_type": "display_data"
    }
   ],
   "source": [
    "df <- subset(results_df, coronavirus!=0)\n",
    "plot_raster(df)"
   ]
  },
  {
   "cell_type": "markdown",
   "metadata": {},
   "source": [
    "Under predictions, the model has predicted **coronavirus** to be present in `Celebrities`, `Crime`, `Culture`, `Events`, `Health`, `Phones`, `Politics`, `Sports` and `Travel`. In reality, it is in many more sections than that. But the model does well in recognizing some of these sections."
   ]
  },
  {
   "cell_type": "code",
   "execution_count": 449,
   "metadata": {},
   "outputs": [
    {
     "data": {
      "text/html": [
       "69.811320754717"
      ],
      "text/latex": [
       "69.811320754717"
      ],
      "text/markdown": [
       "69.811320754717"
      ],
      "text/plain": [
       "[1] 69.81132"
      ]
     },
     "metadata": {},
     "output_type": "display_data"
    }
   ],
   "source": [
    "sum(df$predicted == df$actual)/nrow(df) * 100"
   ]
  },
  {
   "cell_type": "markdown",
   "metadata": {},
   "source": [
    "And specifically for the **coronavirus** keyword, the model gets it right 69.8% of the time."
   ]
  },
  {
   "cell_type": "markdown",
   "metadata": {},
   "source": [
    "When we peek into the matrix, we see the combinations that yield the respective predictions"
   ]
  },
  {
   "cell_type": "code",
   "execution_count": 454,
   "metadata": {},
   "outputs": [
    {
     "data": {
      "text/html": [
       "<table>\n",
       "<thead><tr><th></th><th scope=col>predicted</th><th scope=col>actual</th><th scope=col>abroad</th><th scope=col>abubakar</th><th scope=col>access</th><th scope=col>accused</th><th scope=col>activities</th><th scope=col>actor</th></tr></thead>\n",
       "<tbody>\n",
       "\t<tr><th scope=row>3977</th><td>Culture    </td><td>Culture    </td><td>0          </td><td>0          </td><td>0          </td><td>0          </td><td>1          </td><td>0          </td></tr>\n",
       "\t<tr><th scope=row>4120</th><td>Politics   </td><td>Politics   </td><td>0          </td><td>1          </td><td>0          </td><td>0          </td><td>0          </td><td>0          </td></tr>\n",
       "\t<tr><th scope=row>4180</th><td>Health     </td><td>Business   </td><td>0          </td><td>0          </td><td>1          </td><td>0          </td><td>0          </td><td>0          </td></tr>\n",
       "\t<tr><th scope=row>4447</th><td>NYSC       </td><td>NYSC       </td><td>0          </td><td>0          </td><td>0          </td><td>0          </td><td>1          </td><td>0          </td></tr>\n",
       "\t<tr><th scope=row>4522</th><td>Celebrities</td><td>Celebrities</td><td>0          </td><td>0          </td><td>0          </td><td>0          </td><td>0          </td><td>1          </td></tr>\n",
       "\t<tr><th scope=row>4685</th><td>Travel     </td><td>Health     </td><td>1          </td><td>0          </td><td>0          </td><td>0          </td><td>0          </td><td>0          </td></tr>\n",
       "\t<tr><th scope=row>4908</th><td>Health     </td><td>Sports     </td><td>0          </td><td>0          </td><td>0          </td><td>0          </td><td>1          </td><td>0          </td></tr>\n",
       "\t<tr><th scope=row>5383</th><td>Health     </td><td>Health     </td><td>0          </td><td>0          </td><td>0          </td><td>1          </td><td>0          </td><td>0          </td></tr>\n",
       "</tbody>\n",
       "</table>\n"
      ],
      "text/latex": [
       "\\begin{tabular}{r|llllllll}\n",
       "  & predicted & actual & abroad & abubakar & access & accused & activities & actor\\\\\n",
       "\\hline\n",
       "\t3977 & Culture     & Culture     & 0           & 0           & 0           & 0           & 1           & 0          \\\\\n",
       "\t4120 & Politics    & Politics    & 0           & 1           & 0           & 0           & 0           & 0          \\\\\n",
       "\t4180 & Health      & Business    & 0           & 0           & 1           & 0           & 0           & 0          \\\\\n",
       "\t4447 & NYSC        & NYSC        & 0           & 0           & 0           & 0           & 1           & 0          \\\\\n",
       "\t4522 & Celebrities & Celebrities & 0           & 0           & 0           & 0           & 0           & 1          \\\\\n",
       "\t4685 & Travel      & Health      & 1           & 0           & 0           & 0           & 0           & 0          \\\\\n",
       "\t4908 & Health      & Sports      & 0           & 0           & 0           & 0           & 1           & 0          \\\\\n",
       "\t5383 & Health      & Health      & 0           & 0           & 0           & 1           & 0           & 0          \\\\\n",
       "\\end{tabular}\n"
      ],
      "text/markdown": [
       "\n",
       "| <!--/--> | predicted | actual | abroad | abubakar | access | accused | activities | actor |\n",
       "|---|---|---|---|---|---|---|---|---|\n",
       "| 3977 | Culture     | Culture     | 0           | 0           | 0           | 0           | 1           | 0           |\n",
       "| 4120 | Politics    | Politics    | 0           | 1           | 0           | 0           | 0           | 0           |\n",
       "| 4180 | Health      | Business    | 0           | 0           | 1           | 0           | 0           | 0           |\n",
       "| 4447 | NYSC        | NYSC        | 0           | 0           | 0           | 0           | 1           | 0           |\n",
       "| 4522 | Celebrities | Celebrities | 0           | 0           | 0           | 0           | 0           | 1           |\n",
       "| 4685 | Travel      | Health      | 1           | 0           | 0           | 0           | 0           | 0           |\n",
       "| 4908 | Health      | Sports      | 0           | 0           | 0           | 0           | 1           | 0           |\n",
       "| 5383 | Health      | Health      | 0           | 0           | 0           | 1           | 0           | 0           |\n",
       "\n"
      ],
      "text/plain": [
       "     predicted   actual      abroad abubakar access accused activities actor\n",
       "3977 Culture     Culture     0      0        0      0       1          0    \n",
       "4120 Politics    Politics    0      1        0      0       0          0    \n",
       "4180 Health      Business    0      0        1      0       0          0    \n",
       "4447 NYSC        NYSC        0      0        0      0       1          0    \n",
       "4522 Celebrities Celebrities 0      0        0      0       0          1    \n",
       "4685 Travel      Health      1      0        0      0       0          0    \n",
       "4908 Health      Sports      0      0        0      0       1          0    \n",
       "5383 Health      Health      0      0        0      1       0          0    "
      ]
     },
     "metadata": {},
     "output_type": "display_data"
    }
   ],
   "source": [
    "peekMatrix(df, 20)"
   ]
  },
  {
   "cell_type": "markdown",
   "metadata": {},
   "source": [
    "We could try this for other keywords in the frontpage titles."
   ]
  },
  {
   "cell_type": "code",
   "execution_count": 455,
   "metadata": {
    "scrolled": false
   },
   "outputs": [
    {
     "name": "stderr",
     "output_type": "stream",
     "text": [
      "Warning message:\n",
      "\"attributes are not identical across measure variables;\n",
      "they will be dropped\""
     ]
    },
    {
     "data": {
      "image/png": "[encoded data removed]",
      "text/plain": [
       "plot without title"
      ]
     },
     "metadata": {},
     "output_type": "display_data"
    }
   ],
   "source": [
    "df <- subset(results_df, abacha!=0)\n",
    "plot_raster(df) + coord_equal()"
   ]
  },
  {
   "cell_type": "markdown",
   "metadata": {},
   "source": [
    "For the **abacha** keyword, the model gets it right all the time."
   ]
  },
  {
   "cell_type": "code",
   "execution_count": 464,
   "metadata": {},
   "outputs": [
    {
     "name": "stderr",
     "output_type": "stream",
     "text": [
      "Warning message:\n",
      "\"attributes are not identical across measure variables;\n",
      "they will be dropped\""
     ]
    },
    {
     "data": {
      "image/png": "[encoded data removed]",
      "text/plain": [
       "plot without title"
      ]
     },
     "metadata": {},
     "output_type": "display_data"
    }
   ],
   "source": [
    "df <- subset(results_df, buhari!=0)\n",
    "plot_raster(df)"
   ]
  },
  {
   "cell_type": "markdown",
   "metadata": {},
   "source": [
    "For the **buhari** keyword, the model gets it right 96% of the time."
   ]
  },
  {
   "cell_type": "code",
   "execution_count": 465,
   "metadata": {},
   "outputs": [
    {
     "data": {
      "text/html": [
       "96.9879518072289"
      ],
      "text/latex": [
       "96.9879518072289"
      ],
      "text/markdown": [
       "96.9879518072289"
      ],
      "text/plain": [
       "[1] 96.98795"
      ]
     },
     "metadata": {},
     "output_type": "display_data"
    }
   ],
   "source": [
    "sum(df$predicted == df$actual)/nrow(df) * 100"
   ]
  },
  {
   "cell_type": "code",
   "execution_count": 466,
   "metadata": {},
   "outputs": [
    {
     "data": {
      "text/html": [
       "<table>\n",
       "<thead><tr><th></th><th scope=col>predicted</th><th scope=col>actual</th><th scope=col>abacha</th><th scope=col>abba</th><th scope=col>abubakar</th><th scope=col>abuja</th></tr></thead>\n",
       "<tbody>\n",
       "\t<tr><th scope=row>1816</th><td>Politics</td><td>Politics</td><td>1       </td><td>0       </td><td>0       </td><td>0       </td></tr>\n",
       "\t<tr><th scope=row>2685</th><td>Politics</td><td>Politics</td><td>0       </td><td>1       </td><td>0       </td><td>0       </td></tr>\n",
       "\t<tr><th scope=row>2718</th><td>Politics</td><td>Politics</td><td>0       </td><td>1       </td><td>0       </td><td>0       </td></tr>\n",
       "\t<tr><th scope=row>4537</th><td>Politics</td><td>Politics</td><td>0       </td><td>1       </td><td>0       </td><td>0       </td></tr>\n",
       "\t<tr><th scope=row>5723</th><td>Politics</td><td>Politics</td><td>1       </td><td>0       </td><td>0       </td><td>0       </td></tr>\n",
       "\t<tr><th scope=row>6952</th><td>Politics</td><td>Politics</td><td>0       </td><td>0       </td><td>0       </td><td>1       </td></tr>\n",
       "\t<tr><th scope=row>8495</th><td>Politics</td><td>Politics</td><td>0       </td><td>0       </td><td>0       </td><td>1       </td></tr>\n",
       "\t<tr><th scope=row>10271</th><td>Politics</td><td>Politics</td><td>0       </td><td>0       </td><td>0       </td><td>1       </td></tr>\n",
       "\t<tr><th scope=row>10896</th><td>Politics</td><td>Politics</td><td>0       </td><td>0       </td><td>1       </td><td>0       </td></tr>\n",
       "\t<tr><th scope=row>12655</th><td>Politics</td><td>Politics</td><td>0       </td><td>1       </td><td>0       </td><td>0       </td></tr>\n",
       "</tbody>\n",
       "</table>\n"
      ],
      "text/latex": [
       "\\begin{tabular}{r|llllll}\n",
       "  & predicted & actual & abacha & abba & abubakar & abuja\\\\\n",
       "\\hline\n",
       "\t1816 & Politics & Politics & 1        & 0        & 0        & 0       \\\\\n",
       "\t2685 & Politics & Politics & 0        & 1        & 0        & 0       \\\\\n",
       "\t2718 & Politics & Politics & 0        & 1        & 0        & 0       \\\\\n",
       "\t4537 & Politics & Politics & 0        & 1        & 0        & 0       \\\\\n",
       "\t5723 & Politics & Politics & 1        & 0        & 0        & 0       \\\\\n",
       "\t6952 & Politics & Politics & 0        & 0        & 0        & 1       \\\\\n",
       "\t8495 & Politics & Politics & 0        & 0        & 0        & 1       \\\\\n",
       "\t10271 & Politics & Politics & 0        & 0        & 0        & 1       \\\\\n",
       "\t10896 & Politics & Politics & 0        & 0        & 1        & 0       \\\\\n",
       "\t12655 & Politics & Politics & 0        & 1        & 0        & 0       \\\\\n",
       "\\end{tabular}\n"
      ],
      "text/markdown": [
       "\n",
       "| <!--/--> | predicted | actual | abacha | abba | abubakar | abuja |\n",
       "|---|---|---|---|---|---|---|\n",
       "| 1816 | Politics | Politics | 1        | 0        | 0        | 0        |\n",
       "| 2685 | Politics | Politics | 0        | 1        | 0        | 0        |\n",
       "| 2718 | Politics | Politics | 0        | 1        | 0        | 0        |\n",
       "| 4537 | Politics | Politics | 0        | 1        | 0        | 0        |\n",
       "| 5723 | Politics | Politics | 1        | 0        | 0        | 0        |\n",
       "| 6952 | Politics | Politics | 0        | 0        | 0        | 1        |\n",
       "| 8495 | Politics | Politics | 0        | 0        | 0        | 1        |\n",
       "| 10271 | Politics | Politics | 0        | 0        | 0        | 1        |\n",
       "| 10896 | Politics | Politics | 0        | 0        | 1        | 0        |\n",
       "| 12655 | Politics | Politics | 0        | 1        | 0        | 0        |\n",
       "\n"
      ],
      "text/plain": [
       "      predicted actual   abacha abba abubakar abuja\n",
       "1816  Politics  Politics 1      0    0        0    \n",
       "2685  Politics  Politics 0      1    0        0    \n",
       "2718  Politics  Politics 0      1    0        0    \n",
       "4537  Politics  Politics 0      1    0        0    \n",
       "5723  Politics  Politics 1      0    0        0    \n",
       "6952  Politics  Politics 0      0    0        1    \n",
       "8495  Politics  Politics 0      0    0        1    \n",
       "10271 Politics  Politics 0      0    0        1    \n",
       "10896 Politics  Politics 0      0    1        0    \n",
       "12655 Politics  Politics 0      1    0        0    "
      ]
     },
     "metadata": {},
     "output_type": "display_data"
    }
   ],
   "source": [
    "peekMatrix(df, 10)"
   ]
  },
  {
   "cell_type": "markdown",
   "metadata": {},
   "source": [
    "Now, we examine the **rape** keyword"
   ]
  },
  {
   "cell_type": "code",
   "execution_count": 524,
   "metadata": {},
   "outputs": [
    {
     "name": "stderr",
     "output_type": "stream",
     "text": [
      "Warning message:\n",
      "\"attributes are not identical across measure variables;\n",
      "they will be dropped\""
     ]
    },
    {
     "data": {
      "image/png": "[encoded data removed]",
      "text/plain": [
       "plot without title"
      ]
     },
     "metadata": {},
     "output_type": "display_data"
    }
   ],
   "source": [
    "df <- subset(results_df, rape!=0)\n",
    "plot_raster(df)"
   ]
  },
  {
   "cell_type": "code",
   "execution_count": 525,
   "metadata": {},
   "outputs": [
    {
     "data": {
      "text/html": [
       "84.6153846153846"
      ],
      "text/latex": [
       "84.6153846153846"
      ],
      "text/markdown": [
       "84.6153846153846"
      ],
      "text/plain": [
       "[1] 84.61538"
      ]
     },
     "metadata": {},
     "output_type": "display_data"
    }
   ],
   "source": [
    "sum(df$predicted == df$actual)/nrow(df) * 100"
   ]
  },
  {
   "cell_type": "markdown",
   "metadata": {},
   "source": [
    "The model gets it right 84% of the time."
   ]
  },
  {
   "cell_type": "code",
   "execution_count": 480,
   "metadata": {},
   "outputs": [
    {
     "data": {
      "text/html": [
       "<table>\n",
       "<thead><tr><th></th><th scope=col>predicted</th><th scope=col>actual</th></tr></thead>\n",
       "<tbody>\n",
       "\t<tr><th scope=row>1</th><td>Crime      </td><td>Politics   </td></tr>\n",
       "\t<tr><th scope=row>102</th><td>Crime      </td><td>Crime      </td></tr>\n",
       "\t<tr><th scope=row>2937</th><td>Career     </td><td>Politics   </td></tr>\n",
       "\t<tr><th scope=row>3508</th><td>Crime      </td><td>Crime      </td></tr>\n",
       "\t<tr><th scope=row>5105</th><td>Crime      </td><td>Crime      </td></tr>\n",
       "\t<tr><th scope=row>6312</th><td>Crime      </td><td>Crime      </td></tr>\n",
       "\t<tr><th scope=row>7847</th><td>Crime      </td><td>Crime      </td></tr>\n",
       "\t<tr><th scope=row>8728</th><td>Crime      </td><td>Crime      </td></tr>\n",
       "\t<tr><th scope=row>10585</th><td>Crime      </td><td>Crime      </td></tr>\n",
       "\t<tr><th scope=row>10675</th><td>Celebrities</td><td>Celebrities</td></tr>\n",
       "\t<tr><th scope=row>11007</th><td>Politics   </td><td>Politics   </td></tr>\n",
       "\t<tr><th scope=row>11321</th><td>Crime      </td><td>Crime      </td></tr>\n",
       "\t<tr><th scope=row>11681</th><td>Celebrities</td><td>Celebrities</td></tr>\n",
       "</tbody>\n",
       "</table>\n"
      ],
      "text/latex": [
       "\\begin{tabular}{r|ll}\n",
       "  & predicted & actual\\\\\n",
       "\\hline\n",
       "\t1 & Crime       & Politics   \\\\\n",
       "\t102 & Crime       & Crime      \\\\\n",
       "\t2937 & Career      & Politics   \\\\\n",
       "\t3508 & Crime       & Crime      \\\\\n",
       "\t5105 & Crime       & Crime      \\\\\n",
       "\t6312 & Crime       & Crime      \\\\\n",
       "\t7847 & Crime       & Crime      \\\\\n",
       "\t8728 & Crime       & Crime      \\\\\n",
       "\t10585 & Crime       & Crime      \\\\\n",
       "\t10675 & Celebrities & Celebrities\\\\\n",
       "\t11007 & Politics    & Politics   \\\\\n",
       "\t11321 & Crime       & Crime      \\\\\n",
       "\t11681 & Celebrities & Celebrities\\\\\n",
       "\\end{tabular}\n"
      ],
      "text/markdown": [
       "\n",
       "| <!--/--> | predicted | actual |\n",
       "|---|---|---|\n",
       "| 1 | Crime       | Politics    |\n",
       "| 102 | Crime       | Crime       |\n",
       "| 2937 | Career      | Politics    |\n",
       "| 3508 | Crime       | Crime       |\n",
       "| 5105 | Crime       | Crime       |\n",
       "| 6312 | Crime       | Crime       |\n",
       "| 7847 | Crime       | Crime       |\n",
       "| 8728 | Crime       | Crime       |\n",
       "| 10585 | Crime       | Crime       |\n",
       "| 10675 | Celebrities | Celebrities |\n",
       "| 11007 | Politics    | Politics    |\n",
       "| 11321 | Crime       | Crime       |\n",
       "| 11681 | Celebrities | Celebrities |\n",
       "\n"
      ],
      "text/plain": [
       "      predicted   actual     \n",
       "1     Crime       Politics   \n",
       "102   Crime       Crime      \n",
       "2937  Career      Politics   \n",
       "3508  Crime       Crime      \n",
       "5105  Crime       Crime      \n",
       "6312  Crime       Crime      \n",
       "7847  Crime       Crime      \n",
       "8728  Crime       Crime      \n",
       "10585 Crime       Crime      \n",
       "10675 Celebrities Celebrities\n",
       "11007 Politics    Politics   \n",
       "11321 Crime       Crime      \n",
       "11681 Celebrities Celebrities"
      ]
     },
     "metadata": {},
     "output_type": "display_data"
    }
   ],
   "source": [
    "(df[, colSums(df !=0 ) > 0]) %>% .[rowSums(.[,-c(1,2)] != 0) > 0, ] %>% .[,c(1,2)]"
   ]
  },
  {
   "cell_type": "markdown",
   "metadata": {},
   "source": [
    "We see that in one instance, \"Career\" was predicted instead of \"Politics\" for the **rape** keyword"
   ]
  },
  {
   "cell_type": "code",
   "execution_count": 531,
   "metadata": {},
   "outputs": [
    {
     "name": "stderr",
     "output_type": "stream",
     "text": [
      "Warning message:\n",
      "\"attributes are not identical across measure variables;\n",
      "they will be dropped\""
     ]
    },
    {
     "data": {
      "image/png": "[encoded data removed]",
      "text/plain": [
       "plot without title"
      ]
     },
     "metadata": {},
     "output_type": "display_data"
    }
   ],
   "source": [
    "#tight_layout\n",
    "plot_raster(df) + coord_equal()"
   ]
  },
  {
   "cell_type": "markdown",
   "metadata": {},
   "source": [
    "Lastly, we examine the confusion matrix:"
   ]
  },
  {
   "cell_type": "code",
   "execution_count": 556,
   "metadata": {
    "scrolled": false
   },
   "outputs": [
    {
     "data": {
      "text/plain": [
       "             Reference\n",
       "Prediction    Agriculture Autos Business Car Talk Career\n",
       "  Agriculture           1     0        0        0      0\n",
       "  Autos                 0     0        0        0      0\n",
       "  Business              0     0       29        1      5\n",
       "  Car Talk              0     2        0       22      1\n",
       "  Career                0     0        2        0      4"
      ]
     },
     "metadata": {},
     "output_type": "display_data"
    }
   ],
   "source": [
    "#A peek into the confusion matrix\n",
    "confusionMatrix(results_df$predicted, reference = results_df$actual)$table %>% .[1:5,1:5]"
   ]
  },
  {
   "cell_type": "markdown",
   "metadata": {},
   "source": [
    "When visualized, we see that for most of the sections, the correct prediction was made. There were a few sections where probably not enough values to form a cell. These appear to be \"Programming\", \"Pets\", etc. Red cells mean zero. For example, there were no successful predictions for \"Webmasters\". Light cells mean successful predictions. Most of the cells along the diagonal are light, correlating with the fairly good accuracy obtained."
   ]
  },
  {
   "cell_type": "code",
   "execution_count": 555,
   "metadata": {
    "scrolled": false
   },
   "outputs": [
    {
     "data": {
      "image/png": "[encoded data removed]",
      "text/plain": [
       "plot without title"
      ]
     },
     "metadata": {},
     "output_type": "display_data"
    }
   ],
   "source": [
    "confusionMatrix(results_df$predicted, reference = results_df$actual)$table %>% \n",
    "heatmap(t(.)[1:ncol(.),], Rowv=NA, Colv=NA, col=heat.colors(256))"
   ]
  },
  {
   "cell_type": "markdown",
   "metadata": {},
   "source": [
    "Most \"Autos\" were predicted as \"Car Talk\" or \"Politics\"."
   ]
  },
  {
   "cell_type": "code",
   "execution_count": 543,
   "metadata": {},
   "outputs": [
    {
     "data": {
      "text/html": [
       "<table>\n",
       "<thead><tr><th></th><th scope=col>predicted</th><th scope=col>actual</th></tr></thead>\n",
       "<tbody>\n",
       "\t<tr><th scope=row>277</th><td>Car Talk</td><td>Autos   </td></tr>\n",
       "\t<tr><th scope=row>1033</th><td>Politics</td><td>Autos   </td></tr>\n",
       "\t<tr><th scope=row>3418</th><td>Car Talk</td><td>Autos   </td></tr>\n",
       "\t<tr><th scope=row>9288</th><td>Politics</td><td>Autos   </td></tr>\n",
       "</tbody>\n",
       "</table>\n"
      ],
      "text/latex": [
       "\\begin{tabular}{r|ll}\n",
       "  & predicted & actual\\\\\n",
       "\\hline\n",
       "\t277 & Car Talk & Autos   \\\\\n",
       "\t1033 & Politics & Autos   \\\\\n",
       "\t3418 & Car Talk & Autos   \\\\\n",
       "\t9288 & Politics & Autos   \\\\\n",
       "\\end{tabular}\n"
      ],
      "text/markdown": [
       "\n",
       "| <!--/--> | predicted | actual |\n",
       "|---|---|---|\n",
       "| 277 | Car Talk | Autos    |\n",
       "| 1033 | Politics | Autos    |\n",
       "| 3418 | Car Talk | Autos    |\n",
       "| 9288 | Politics | Autos    |\n",
       "\n"
      ],
      "text/plain": [
       "     predicted actual\n",
       "277  Car Talk  Autos \n",
       "1033 Politics  Autos \n",
       "3418 Car Talk  Autos \n",
       "9288 Politics  Autos "
      ]
     },
     "metadata": {},
     "output_type": "display_data"
    }
   ],
   "source": [
    "subset(results_df, actual==\"Autos\")[,1:2]"
   ]
  },
  {
   "cell_type": "code",
   "execution_count": null,
   "metadata": {},
   "outputs": [],
   "source": []
  }
 ],
 "metadata": {
  "kernelspec": {
   "display_name": "R",
   "language": "R",
   "name": "ir"
  },
  "language_info": {
   "codemirror_mode": "r",
   "file_extension": ".r",
   "mimetype": "text/x-r-source",
   "name": "R",
   "pygments_lexer": "r",
   "version": "3.6.1"
  }
 },
 "nbformat": 4,
 "nbformat_minor": 4
}
